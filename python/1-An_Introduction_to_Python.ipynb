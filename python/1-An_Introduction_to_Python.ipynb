{
 "cells": [
  {
   "cell_type": "markdown",
   "metadata": {},
   "source": [
    "<h1 align=\"center\">Python for DATA SCIENCE</h1><Br/>\n",
    "<h2 align=\"center\">Dr Gabriel HARRIS</h2>\n",
    "\n",
    "<h5 align=\"center\"><a href=\"https://medium.com/@DrGabrielHarris\">Medium</a></h5>\n",
    "<h5 align=\"center\"><a href=\"https:/github.com/DrGabrielHarris\"> GitHub</a></h5>"
   ]
  },
  {
   "cell_type": "markdown",
   "metadata": {},
   "source": [
    "# Week 1- An Introduction to Python\n",
    "\n",
    ">   ## [I- A brief history of Python](#I)\n",
    ">   ## [II- Anaconda python distribution](#II)\n",
    ">   ## [III- PyCharm community edition IDE](#III)\n",
    ">   ## [- Exercises](#e)\n"
   ]
  },
  {
   "cell_type": "markdown",
   "metadata": {},
   "source": [
    "## I- A brief history of Python <a id=\"I\"></a>"
   ]
  },
  {
   "cell_type": "markdown",
   "metadata": {},
   "source": [
    "<img src=\"https://goo.gl/mz6nmB\" style=\"border: 0pt none; float:left; padding-right:50px; padding-bottom:10px\"/>\n",
    "    <blockquote cite=\"https://en.wikipedia.org/wiki/Anaconda_(Python_distribution)\">\"... In December 1989, I was looking for a \"hobby\" programming project that would keep me occupied during the week around Christmas... I decided to write an interpreter for the new scripting language I had been thinking about lately... I chose Python as a working title for the project, being in a slightly irreverent mood (and a big fan of Monty Python's Flying Circus).\"\n",
    "    <Br/><Br/>\n",
    "    — Guido van Rossum (Creator and Benevolent Dictator For Life)</blockquote>\n",
    "    <Br/>\n",
    "<p>First released in 1991<p/>\n",
    "<p>Python 2.0 released in 2000<p/>\n",
    "<p>Python 3.0 released in 2008<p/>"
   ]
  },
  {
   "cell_type": "markdown",
   "metadata": {},
   "source": [
    "### The Zen of Python\n",
    "The language's core philosophy is summarized in the document The Zen of Python, which includes 20 aphorisms:"
   ]
  },
  {
   "cell_type": "code",
   "execution_count": null,
   "metadata": {},
   "outputs": [],
   "source": [
    "import this"
   ]
  },
  {
   "cell_type": "markdown",
   "metadata": {},
   "source": [
    "<blockquote>\n",
    "<a href=\"https://www.quora.com/Do-people-still-use-Python\"><img src=\"https://goo.gl/1rT18x\" width=\"100\" style=\"border: 0pt none; float:left; padding-right:50px; padding-bottom:10px\"/></a>\n",
    "<h3>Do people still use Python?</a></h3>\n",
    "</blockquote>"
   ]
  },
  {
   "cell_type": "markdown",
   "metadata": {},
   "source": [
    "## II- Anaconda python distribution<a id=\"II\"></a>\n",
    "\n",
    "\n",
    ">   ### [1- What is Anaconda?](#II-1)\n",
    ">   ### [2- Installation](#II-2)\n",
    ">   ### [3- Conda basics](#II-3)\n",
    ">   ### [4- Using virtual environments](#II-4)\n",
    ">   ### [5- Installing and updating conda packages](#II-5)\n",
    ">   ### [6- Conda cheat sheet](#II-6)\n",
    ">   ### [7- Anaconda Navigator](#II-7)\n",
    ">   ### [8- Installing non-conda packages](#II-8)\n"
   ]
  },
  {
   "cell_type": "markdown",
   "metadata": {},
   "source": [
    "### 1- What is Anaconda?<a id=\"II-1\"></a>"
   ]
  },
  {
   "cell_type": "markdown",
   "metadata": {
    "collapsed": true
   },
   "source": [
    "<blockquote cite=\"https://www.anaconda.com/what-is-anaconda/\">\n",
    "\"It includes hundreds of popular data science packages and the conda package and virtual environment \n",
    "manager for Windows, Linux, and MacOS. Conda makes it quick and easy to install, run, and upgrade complex \n",
    "data science and machine learning environments ...\"\n",
    "</blockquote>"
   ]
  },
  {
   "cell_type": "markdown",
   "metadata": {},
   "source": [
    "### 2- Installation<a id=\"II-2\"></a>"
   ]
  },
  {
   "cell_type": "markdown",
   "metadata": {},
   "source": [
    "<a href=\"https://www.anaconda.com\">\n",
    "    <img src=\"https://goo.gl/r9b8Su\" width=\"50%\" border=\"0\">\n",
    "</a>"
   ]
  },
  {
   "cell_type": "markdown",
   "metadata": {},
   "source": [
    "### 3- Conda basics<a id=\"II-3\"></a>"
   ]
  },
  {
   "cell_type": "markdown",
   "metadata": {},
   "source": [
    "<ul><li>Verify conda is installed, check version number:</li></ul>"
   ]
  },
  {
   "cell_type": "code",
   "execution_count": null,
   "metadata": {},
   "outputs": [],
   "source": [
    "! conda info"
   ]
  },
  {
   "cell_type": "markdown",
   "metadata": {},
   "source": [
    "<ul><li>Update conda to the current version:</li></ul>"
   ]
  },
  {
   "cell_type": "code",
   "execution_count": null,
   "metadata": {},
   "outputs": [],
   "source": [
    "! conda update conda --yes"
   ]
  },
  {
   "cell_type": "markdown",
   "metadata": {},
   "source": [
    "### 4- Using virtual environments (each has a different version of Python)<a id=\"II-4\"></a>"
   ]
  },
  {
   "cell_type": "markdown",
   "metadata": {},
   "source": [
    "<ul><li>Create a new environment named py35 with Python 3.5:</li></ul>"
   ]
  },
  {
   "cell_type": "code",
   "execution_count": null,
   "metadata": {},
   "outputs": [],
   "source": [
    "! conda create --name py35 python=3.5 --yes"
   ]
  },
  {
   "cell_type": "markdown",
   "metadata": {},
   "source": [
    "<ul><li>Activate the new environment to use it:<br>\n",
    "    WINDOWS: >activate py35<br>\n",
    "    LINUX, macOS: $source activate py35</li></ul>"
   ]
  },
  {
   "cell_type": "code",
   "execution_count": null,
   "metadata": {},
   "outputs": [],
   "source": [
    "! source activate py35"
   ]
  },
  {
   "cell_type": "markdown",
   "metadata": {},
   "source": [
    "<ul><li>Deactivate an active environment:<br>\n",
    "    WINDOWS: >deactivate py35<br>\n",
    "    LINUX, macOS: $source deactivate py35</li></ul>"
   ]
  },
  {
   "cell_type": "code",
   "execution_count": null,
   "metadata": {},
   "outputs": [],
   "source": [
    "! source deactivate py35"
   ]
  },
  {
   "cell_type": "markdown",
   "metadata": {},
   "source": [
    "<ul><li>To remove the installed environment py35:</li></ul>"
   ]
  },
  {
   "cell_type": "code",
   "execution_count": null,
   "metadata": {},
   "outputs": [],
   "source": [
    "! conda env remove --name py35"
   ]
  },
  {
   "cell_type": "markdown",
   "metadata": {},
   "source": [
    "<ul><li>View a list of your environments:</li></ul>"
   ]
  },
  {
   "cell_type": "code",
   "execution_count": null,
   "metadata": {},
   "outputs": [],
   "source": [
    "! conda env list"
   ]
  },
  {
   "cell_type": "markdown",
   "metadata": {},
   "source": [
    "### 5- Installing and updating conda packages<a id=\"II-5\"></a>"
   ]
  },
  {
   "cell_type": "markdown",
   "metadata": {},
   "source": [
    "<ul><li>Think of a package as a collection of codes that you can use directly in your code</li></ul>"
   ]
  },
  {
   "cell_type": "markdown",
   "metadata": {},
   "source": [
    "<ul><li>View a list of installed packages:</li></ul>"
   ]
  },
  {
   "cell_type": "code",
   "execution_count": null,
   "metadata": {},
   "outputs": [],
   "source": [
    "! conda list"
   ]
  },
  {
   "cell_type": "markdown",
   "metadata": {},
   "source": [
    "<ul><li>The jupyter notebook package to run this interactive script is included with Anaconda &#x1F64C;:<br>\n",
    "$ jupyter notebook</li></ul>"
   ]
  },
  {
   "cell_type": "markdown",
   "metadata": {},
   "source": [
    "<ul><li>Install a new package in the active environment:<br>\n",
    "$ conda install PACKAGENAME</li></ul>"
   ]
  },
  {
   "cell_type": "code",
   "execution_count": null,
   "metadata": {},
   "outputs": [],
   "source": [
    "! conda install numpy --y"
   ]
  },
  {
   "cell_type": "markdown",
   "metadata": {},
   "source": [
    "<ul><li>Update any installed package:<br>\n",
    "    $ conda update PACKAGENAME</li></ul>"
   ]
  },
  {
   "cell_type": "code",
   "execution_count": null,
   "metadata": {},
   "outputs": [],
   "source": [
    "! conda update numpy --y"
   ]
  },
  {
   "cell_type": "markdown",
   "metadata": {},
   "source": [
    "<ul><li>Remove an installed package:<br>\n",
    "    $conda remove PACKAGENAME</li></ul>"
   ]
  },
  {
   "cell_type": "code",
   "execution_count": null,
   "metadata": {},
   "outputs": [],
   "source": [
    "! conda remove numpy"
   ]
  },
  {
   "cell_type": "markdown",
   "metadata": {},
   "source": [
    "### 6- Conda cheat sheet &#x1F92B;<a id=\"II-6\"></a>\n",
    "<a href=\"https://conda.io/docs/_downloads/conda-cheatsheet.pdf\">\n",
    "    <img src=\"https://goo.gl/FSsA52\" width=\"50%\" border=\"0\">\n",
    "</a>"
   ]
  },
  {
   "cell_type": "markdown",
   "metadata": {},
   "source": [
    "### 7- Anaconda Navigator<a id=\"II-7\"></a>"
   ]
  },
  {
   "cell_type": "markdown",
   "metadata": {},
   "source": [
    "<ul><li>Hate the command prompt/terminal? Don't despair!</li></ul>\n",
    "<ul><li>The Anaconda Navigator offers a desktop graphical user interface (GUI) to manage packages and environments</li></ul>"
   ]
  },
  {
   "cell_type": "markdown",
   "metadata": {},
   "source": [
    "<a><img src=\"https://goo.gl/ZmEjDd\" width=\"700\" border=\"0\"></a>"
   ]
  },
  {
   "cell_type": "markdown",
   "metadata": {},
   "source": [
    "### 8- Installing non-conda packages<a id=\"II-8\"></a>"
   ]
  },
  {
   "cell_type": "markdown",
   "metadata": {},
   "source": [
    "<ul><li>If a package is not available from conda, you may be able to install the package with another \n",
    "    package manager like pip:<br>\n",
    "    $pip install PACKAGENAME</li></ul>"
   ]
  },
  {
   "cell_type": "code",
   "execution_count": null,
   "metadata": {},
   "outputs": [],
   "source": [
    "! pip install Pillow"
   ]
  },
  {
   "cell_type": "markdown",
   "metadata": {},
   "source": [
    "## III- PyCharm community edition IDE<a id=\"III\"></a>\n",
    "\n",
    ">   ### [1- What is an IDE?](#III-1)\n",
    ">   ### [2- Installation](#III-2)\n",
    ">   ### [3- Creating a new project](#III-3)\n",
    ">   ### [4- Hello World!](#III-4)\n",
    ">   ### [5- Using Python as a calculator](#III-5)\n"
   ]
  },
  {
   "cell_type": "markdown",
   "metadata": {},
   "source": [
    "### 1- What is an IDE?<a id=\"III-1\"></a>"
   ]
  },
  {
   "cell_type": "markdown",
   "metadata": {},
   "source": [
    ">  \"An integrated development environment (IDE) presents a single program in which all development is done. An IDE typically    provides many features for writing, editing, running, testing and debugging a code.\"</blockquote>"
   ]
  },
  {
   "cell_type": "markdown",
   "metadata": {},
   "source": [
    "### 2- Installation<a id=\"III-2\"></a>"
   ]
  },
  {
   "cell_type": "markdown",
   "metadata": {
    "collapsed": true
   },
   "source": [
    "<a href=\"https://www.jetbrains.com/pycharm-edu/\">\n",
    "    <img src=\"https://goo.gl/aDLqJQ\" width=\"50%\" border=\"0\">\n",
    "</a>"
   ]
  },
  {
   "cell_type": "markdown",
   "metadata": {},
   "source": [
    "### 3- Creating a new project<a id=\"III-3\"></a>"
   ]
  },
  {
   "cell_type": "markdown",
   "metadata": {},
   "source": [
    "<ul><li>Project location: where do you want to save the project?</li></ul>\n",
    "<ul><li>Project interpreter: where is your Python interpreter?</li></ul>\n",
    "<ul><li>File > New > Python File</li></ul>"
   ]
  },
  {
   "cell_type": "markdown",
   "metadata": {
    "collapsed": true
   },
   "source": [
    "### 4- Hello World!<a id=\"III-4\"></a>"
   ]
  },
  {
   "cell_type": "markdown",
   "metadata": {},
   "source": [
    "<ul><li>The built-in <b>print()</b> function prints objects to the text stream file</li></ul>"
   ]
  },
  {
   "cell_type": "code",
   "execution_count": null,
   "metadata": {},
   "outputs": [],
   "source": [
    "print(\"Hello World!\")"
   ]
  },
  {
   "cell_type": "markdown",
   "metadata": {},
   "source": [
    "### 5- Using Python as a calculator<a id=\"III-5\"></a>"
   ]
  },
  {
   "cell_type": "code",
   "execution_count": null,
   "metadata": {},
   "outputs": [],
   "source": [
    "print(2 + 2)"
   ]
  },
  {
   "cell_type": "code",
   "execution_count": null,
   "metadata": {},
   "outputs": [],
   "source": [
    "print(50 - 5*6)"
   ]
  },
  {
   "cell_type": "code",
   "execution_count": null,
   "metadata": {},
   "outputs": [],
   "source": [
    "print(17 / 3)  # classic division"
   ]
  },
  {
   "cell_type": "code",
   "execution_count": null,
   "metadata": {},
   "outputs": [],
   "source": [
    "print(17 // 3) # floor division discards the fractional part"
   ]
  },
  {
   "cell_type": "code",
   "execution_count": null,
   "metadata": {},
   "outputs": [],
   "source": [
    "print(17 % 3)  # the % operator returns the remainder of the division"
   ]
  },
  {
   "cell_type": "code",
   "execution_count": null,
   "metadata": {},
   "outputs": [],
   "source": [
    "print(5 ** 2)  # 5 squared"
   ]
  },
  {
   "cell_type": "code",
   "execution_count": null,
   "metadata": {},
   "outputs": [],
   "source": [
    "print(2 ** 7)  # 2 to the power of 7"
   ]
  },
  {
   "cell_type": "markdown",
   "metadata": {},
   "source": [
    "### - Exercises<a id=\"e\"></a>"
   ]
  },
  {
   "cell_type": "markdown",
   "metadata": {},
   "source": [
    "1- Make sure you've installed Anaconda and PyCharm EDU"
   ]
  },
  {
   "cell_type": "markdown",
   "metadata": {},
   "source": [
    "2- Create a new environment named py35 with Python 3.5"
   ]
  },
  {
   "cell_type": "markdown",
   "metadata": {},
   "source": [
    "3- Install the following packages in py35: numpy, pandas, matplotlib, pyqt5"
   ]
  },
  {
   "cell_type": "markdown",
   "metadata": {},
   "source": [
    "4- Greet the world in your IDE!"
   ]
  }
 ],
 "metadata": {
  "kernelspec": {
   "display_name": "Python 3",
   "language": "python",
   "name": "python3"
  },
  "language_info": {
   "codemirror_mode": {
    "name": "ipython",
    "version": 3
   },
   "file_extension": ".py",
   "mimetype": "text/x-python",
   "name": "python",
   "nbconvert_exporter": "python",
   "pygments_lexer": "ipython3",
   "version": "3.7.6"
  }
 },
 "nbformat": 4,
 "nbformat_minor": 1
}
