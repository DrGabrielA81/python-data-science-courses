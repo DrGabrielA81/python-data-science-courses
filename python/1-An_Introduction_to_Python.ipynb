{
 "cells": [
  {
   "cell_type": "markdown",
   "metadata": {},
   "source": [
    "<h1 align=\"center\">Python for DATA SCIENCE</h1><Br/>\n",
    "<img src=\"https://goo.gl/ZKX5FF\" style=\"width:15%; float:centre\"><Br/>\n",
    "<h2 align=\"center\">Dr Mazen Gabriel Alhrishy</h2>\n",
    "<h5 align=\"center\"><i>MAZEN.ALHRISHY@GMAIL.COM</i></h5><Br/>\n",
    "\n",
    "<table width=25%>\n",
    "    <tr>\n",
    "        <td>\n",
    "            <a href=\"https://goo.gl/BTtR3C\"><img src=\"https://goo.gl/rMsKok\"></a>\n",
    "        </td>\n",
    "        <td>\n",
    "            <a href=\"https://goo.gl/XaRDbH\"><img src=\"https://goo.gl/KyMZcj\"></a>\n",
    "        </td>\n",
    "        <td>\n",
    "            <a href=\"https://goo.gl/9uCqS6\"><img src=\"https://goo.gl/a8gcDK\"></a>\n",
    "        </td>\n",
    "        <td>\n",
    "            <a href=\"https://goo.gl/bnt2EL\"><img src=\"https://goo.gl/1rT18x\"></a>\n",
    "        </td>\n",
    "        <td>\n",
    "            <a href=\"https://goo.gl/VmfU3S\"><img src=\"https://goo.gl/WFFkxn\"></a>\n",
    "        </td>\n",
    "    </tr>\n",
    "</table>"
   ]
  },
  {
   "cell_type": "markdown",
   "metadata": {},
   "source": [
    "<h1>Week 1- An Introduction to Python</h1>\n",
    "\n",
    "<ol style=\"list-style-type:none\">\n",
    "    <li><h2>I- A brief history of Python</h2></li>\n",
    "    <li><h2>II- Anaconda python distribution</h2></li>\n",
    "    <li><h2>III- PyCharm community edition IDE</h2></li>\n",
    "    <li><h2>- Exercises</h2></li>\n",
    "\n",
    "</ol>"
   ]
  },
  {
   "cell_type": "markdown",
   "metadata": {},
   "source": [
    "## I- A brief history of Python"
   ]
  },
  {
   "cell_type": "markdown",
   "metadata": {},
   "source": [
    "<img src=\"https://goo.gl/mz6nmB\" style=\"border: 0pt none; float:left; padding-right:50px; padding-bottom:10px\"/>\n",
    "    <blockquote cite=\"https://en.wikipedia.org/wiki/Anaconda_(Python_distribution)\">\"... In December 1989, I was looking for a \"hobby\" programming project that would keep me occupied during the week around Christmas... I decided to write an interpreter for the new scripting language I had been thinking about lately... I chose Python as a working title for the project, being in a slightly irreverent mood (and a big fan of Monty Python's Flying Circus).\"\n",
    "    <Br/><Br/>\n",
    "    — Guido van Rossum (Creator and Benevolent Dictator For Life)</blockquote>\n",
    "    <Br/>\n",
    "<p>First released in 1991<p/>\n",
    "<p>Python 2.0 released in 2000<p/>\n",
    "<p>Python 3.0 released in 2008<p/>"
   ]
  },
  {
   "cell_type": "markdown",
   "metadata": {},
   "source": [
    "### The Zen of Python\n",
    "The language's core philosophy is summarized in the document The Zen of Python, which includes 20 aphorisms:"
   ]
  },
  {
   "cell_type": "code",
   "execution_count": null,
   "metadata": {},
   "outputs": [],
   "source": [
    "import this"
   ]
  },
  {
   "cell_type": "markdown",
   "metadata": {},
   "source": [
    "<blockquote>\n",
    "<a href=\"https://www.quora.com/Do-people-still-use-Python\"><img src=\"https://goo.gl/1rT18x\" width=\"100\" style=\"border: 0pt none; float:left; padding-right:50px; padding-bottom:10px\"/></a>\n",
    "<h3>Do people still use Python?</a></h3>\n",
    "</blockquote>"
   ]
  },
  {
   "cell_type": "markdown",
   "metadata": {},
   "source": [
    "<h2>II- Anaconda python distribution</h2>\n",
    "\n",
    "<ol style=\"list-style-type:none\">\n",
    "    <li><h3>1- What is Anaconda?</h3></li>\n",
    "    <li><h3>2- Instalation</h3></li>\n",
    "    <li><h3>3- Conda basics</h3></li>\n",
    "    <li><h3>4- Using virtual environments</h3></li>\n",
    "    <li><h3>5- Installing and updating conda packages</h3></li>\n",
    "    <li><h3>6- Conda cheat sheet</h3></li>\n",
    "    <li><h3>7- Anaconda Navigator</h3></li>\n",
    "    <li><h3>8- Installing non-conda packages</h3></li>\n",
    "</ol>"
   ]
  },
  {
   "cell_type": "markdown",
   "metadata": {},
   "source": [
    "<h3>1- What is Anaconda?</h3>"
   ]
  },
  {
   "cell_type": "markdown",
   "metadata": {
    "collapsed": true
   },
   "source": [
    "<blockquote cite=\"https://www.anaconda.com/what-is-anaconda/\">\n",
    "\"It includes hundreds of popular data science packages and the conda package and virtual environment \n",
    "manager for Windows, Linux, and MacOS. Conda makes it quick and easy to install, run, and upgrade complex \n",
    "data science and machine learning environments ...\"\n",
    "</blockquote>"
   ]
  },
  {
   "cell_type": "markdown",
   "metadata": {},
   "source": [
    "### 2- Installation"
   ]
  },
  {
   "cell_type": "markdown",
   "metadata": {},
   "source": [
    "<a href=\"https://www.anaconda.com\">\n",
    "    <img src=\"https://goo.gl/r9b8Su\" width=\"50%\" border=\"0\">\n",
    "</a>"
   ]
  },
  {
   "cell_type": "markdown",
   "metadata": {},
   "source": [
    "<h3>3- Conda basics</h3>"
   ]
  },
  {
   "cell_type": "markdown",
   "metadata": {},
   "source": [
    "<ul><li>Verify conda is installed, check version number:</li></ul>"
   ]
  },
  {
   "cell_type": "code",
   "execution_count": null,
   "metadata": {},
   "outputs": [],
   "source": [
    "! conda info"
   ]
  },
  {
   "cell_type": "markdown",
   "metadata": {},
   "source": [
    "<ul><li>Update conda to the current version:</li></ul>"
   ]
  },
  {
   "cell_type": "code",
   "execution_count": null,
   "metadata": {},
   "outputs": [],
   "source": [
    "! conda update conda --yes"
   ]
  },
  {
   "cell_type": "markdown",
   "metadata": {},
   "source": [
    "<h3>4- Using virtual environments (each has a different version of Python)</h3>"
   ]
  },
  {
   "cell_type": "markdown",
   "metadata": {},
   "source": [
    "<ul><li>Create a new environment named py35 with Python 3.5:</li></ul>"
   ]
  },
  {
   "cell_type": "code",
   "execution_count": null,
   "metadata": {},
   "outputs": [],
   "source": [
    "! conda create --name py35 python=3.5 --yes"
   ]
  },
  {
   "cell_type": "markdown",
   "metadata": {},
   "source": [
    "<ul><li>Activate the new environment to use it:<br>\n",
    "    WINDOWS: >activate py35<br>\n",
    "    LINUX, macOS: $source activate py35</li></ul>"
   ]
  },
  {
   "cell_type": "code",
   "execution_count": null,
   "metadata": {},
   "outputs": [],
   "source": [
    "! source activate py35"
   ]
  },
  {
   "cell_type": "markdown",
   "metadata": {},
   "source": [
    "<ul><li>Deactivate an active environment:<br>\n",
    "    WINDOWS: >deactivate py35<br>\n",
    "    LINUX, macOS: $source deactivate py35</li></ul>"
   ]
  },
  {
   "cell_type": "code",
   "execution_count": null,
   "metadata": {},
   "outputs": [],
   "source": [
    "! source deactivate py35"
   ]
  },
  {
   "cell_type": "markdown",
   "metadata": {},
   "source": [
    "<ul><li>To remove the installed environment py35:</li></ul>"
   ]
  },
  {
   "cell_type": "code",
   "execution_count": null,
   "metadata": {},
   "outputs": [],
   "source": [
    "! conda env remove --name py35"
   ]
  },
  {
   "cell_type": "markdown",
   "metadata": {},
   "source": [
    "<ul><li>View a list of your environments:</li></ul>"
   ]
  },
  {
   "cell_type": "code",
   "execution_count": null,
   "metadata": {},
   "outputs": [],
   "source": [
    "! conda env list"
   ]
  },
  {
   "cell_type": "markdown",
   "metadata": {},
   "source": [
    "### 5- Installing and updating conda packages"
   ]
  },
  {
   "cell_type": "markdown",
   "metadata": {},
   "source": [
    "<ul><li>Think of a package as a collection of codes that you can use directly in your code</li></ul>"
   ]
  },
  {
   "cell_type": "markdown",
   "metadata": {},
   "source": [
    "<ul><li>View a list of installed packages:</li></ul>"
   ]
  },
  {
   "cell_type": "code",
   "execution_count": null,
   "metadata": {},
   "outputs": [],
   "source": [
    "! conda list"
   ]
  },
  {
   "cell_type": "markdown",
   "metadata": {},
   "source": [
    "<ul><li>The jupyter notebook package to run this interactive script is included with Anaconda &#x1F64C;:<br>\n",
    "$ jupyter notebook</li></ul>"
   ]
  },
  {
   "cell_type": "markdown",
   "metadata": {},
   "source": [
    "<ul><li>Install a new package in the active environment:<br>\n",
    "$ conda install PACKAGENAME</li></ul>"
   ]
  },
  {
   "cell_type": "code",
   "execution_count": null,
   "metadata": {},
   "outputs": [],
   "source": [
    "! conda install numpy --y"
   ]
  },
  {
   "cell_type": "markdown",
   "metadata": {},
   "source": [
    "<ul><li>Update any installed package:<br>\n",
    "    $ conda update PACKAGENAME</li></ul>"
   ]
  },
  {
   "cell_type": "code",
   "execution_count": null,
   "metadata": {},
   "outputs": [],
   "source": [
    "! conda update numpy --y"
   ]
  },
  {
   "cell_type": "markdown",
   "metadata": {},
   "source": [
    "<ul><li>Remove an installed package:<br>\n",
    "    $conda remove PACKAGENAME</li></ul>"
   ]
  },
  {
   "cell_type": "code",
   "execution_count": null,
   "metadata": {},
   "outputs": [],
   "source": [
    "! conda remove numpy"
   ]
  },
  {
   "cell_type": "markdown",
   "metadata": {},
   "source": [
    "### 6- Conda cheat sheet &#x1F92B;\n",
    "<a href=\"https://conda.io/docs/_downloads/conda-cheatsheet.pdf\">\n",
    "    <img src=\"https://goo.gl/FSsA52\" width=\"50%\" border=\"0\">\n",
    "</a>"
   ]
  },
  {
   "cell_type": "markdown",
   "metadata": {},
   "source": [
    "<h3>7- Anaconda Navigator</h3>"
   ]
  },
  {
   "cell_type": "markdown",
   "metadata": {},
   "source": [
    "<ul><li>Hate the command prompt/terminal? don't despair!</li></ul>\n",
    "<ul><li>The Anaconda Navigator offers a desktop graphical user interface (GUI) to manage packages and environments</li></ul>"
   ]
  },
  {
   "cell_type": "markdown",
   "metadata": {},
   "source": [
    "<a><img src=\"https://goo.gl/ZmEjDd\" width=\"700\" border=\"0\"></a>"
   ]
  },
  {
   "cell_type": "markdown",
   "metadata": {},
   "source": [
    "<h3>8- Installing non-conda packages</h3>"
   ]
  },
  {
   "cell_type": "markdown",
   "metadata": {},
   "source": [
    "<ul><li>If a package is not available from conda, you may be able to install the package with another \n",
    "    package manager like pip:<br>\n",
    "    $pip install PACKAGENAME</li></ul>"
   ]
  },
  {
   "cell_type": "code",
   "execution_count": null,
   "metadata": {},
   "outputs": [],
   "source": [
    "! pip install Pillow"
   ]
  },
  {
   "cell_type": "markdown",
   "metadata": {},
   "source": [
    "## III- PyCharm community edition IDE\n",
    "\n",
    "<ol style=\"list-style-type:none\">\n",
    "    <li><h3>1- What is an IDE?</h3></li>\n",
    "    <li><h3>2- Instalation</h3></li>\n",
    "    <li><h3>3- Creating a new project</h3></li>\n",
    "    <li><h3>4- Hello World!</h3></li>\n",
    "    <li><h3>5- Using Python as a calculator</h3></li>\n",
    "</ol>"
   ]
  },
  {
   "cell_type": "markdown",
   "metadata": {},
   "source": [
    "### 1- What is an IDE?"
   ]
  },
  {
   "cell_type": "markdown",
   "metadata": {},
   "source": [
    "<blockquote> \n",
    "\"An integrated development environment (IDE) presents a single program in which all development is done. An IDE typically provides many features for writing, editing, running, testing and debugging a code.\"</blockquote>"
   ]
  },
  {
   "cell_type": "markdown",
   "metadata": {},
   "source": [
    "### 2- Installation"
   ]
  },
  {
   "cell_type": "markdown",
   "metadata": {
    "collapsed": true
   },
   "source": [
    "<a href=\"https://www.jetbrains.com/pycharm-edu/\">\n",
    "    <img src=\"https://goo.gl/aDLqJQ\" width=\"50%\" border=\"0\">\n",
    "</a>"
   ]
  },
  {
   "cell_type": "markdown",
   "metadata": {},
   "source": [
    "<h3>3- Creating a new project</h3>"
   ]
  },
  {
   "cell_type": "markdown",
   "metadata": {},
   "source": [
    "<ul><li>Project location: where do you want to save the project?</li></ul>\n",
    "<ul><li>Project interpreter: where is your Python interpreter?</li></ul>\n",
    "<ul><li>File > New > Python File</li></ul>"
   ]
  },
  {
   "cell_type": "markdown",
   "metadata": {
    "collapsed": true
   },
   "source": [
    "<h3>4- Hello World!</h3>"
   ]
  },
  {
   "cell_type": "markdown",
   "metadata": {},
   "source": [
    "<ul><li>The built-in <b>print()</b> function prints objects to the text stream file</li></ul>"
   ]
  },
  {
   "cell_type": "code",
   "execution_count": null,
   "metadata": {},
   "outputs": [],
   "source": [
    "print(\"Hello World!\")"
   ]
  },
  {
   "cell_type": "markdown",
   "metadata": {},
   "source": [
    "### 5- Using Python as a calculator"
   ]
  },
  {
   "cell_type": "code",
   "execution_count": null,
   "metadata": {},
   "outputs": [],
   "source": [
    "print(2 + 2)"
   ]
  },
  {
   "cell_type": "code",
   "execution_count": null,
   "metadata": {},
   "outputs": [],
   "source": [
    "print(50 - 5*6)"
   ]
  },
  {
   "cell_type": "code",
   "execution_count": null,
   "metadata": {},
   "outputs": [],
   "source": [
    "print(17 / 3)  # classic division"
   ]
  },
  {
   "cell_type": "code",
   "execution_count": null,
   "metadata": {},
   "outputs": [],
   "source": [
    "print(17 // 3) # floor division discards the fractional part"
   ]
  },
  {
   "cell_type": "code",
   "execution_count": null,
   "metadata": {},
   "outputs": [],
   "source": [
    "print(17 % 3)  # the % operator returns the remainder of the division"
   ]
  },
  {
   "cell_type": "code",
   "execution_count": null,
   "metadata": {},
   "outputs": [],
   "source": [
    "print(5 ** 2)  # 5 squared"
   ]
  },
  {
   "cell_type": "code",
   "execution_count": null,
   "metadata": {},
   "outputs": [],
   "source": [
    "print(2 ** 7)  # 2 to the power of 7"
   ]
  },
  {
   "cell_type": "markdown",
   "metadata": {},
   "source": [
    "### - Exercises"
   ]
  },
  {
   "cell_type": "markdown",
   "metadata": {},
   "source": [
    "1- Make sure you've installed Anaconda and PyCharm EDU"
   ]
  },
  {
   "cell_type": "markdown",
   "metadata": {},
   "source": [
    "2- Create a new environment named py35 with Python 3.5"
   ]
  },
  {
   "cell_type": "markdown",
   "metadata": {},
   "source": [
    "3- Install the following packages in py35: numpy, pandas, matplotlib, pyqt5"
   ]
  },
  {
   "cell_type": "markdown",
   "metadata": {},
   "source": [
    "4- Greet the world in your IDE!"
   ]
  }
 ],
 "metadata": {
  "kernelspec": {
   "display_name": "Python 3",
   "language": "python",
   "name": "python3"
  },
  "language_info": {
   "codemirror_mode": {
    "name": "ipython",
    "version": 3
   },
   "file_extension": ".py",
   "mimetype": "text/x-python",
   "name": "python",
   "nbconvert_exporter": "python",
   "pygments_lexer": "ipython3",
   "version": "3.7.1"
  }
 },
 "nbformat": 4,
 "nbformat_minor": 1
}
