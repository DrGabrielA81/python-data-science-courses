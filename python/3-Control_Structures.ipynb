{
 "cells": [
  {
   "cell_type": "markdown",
   "metadata": {},
   "source": [
    "<h1 align=\"center\">Python for DATA SCIENCE</h1><Br/>\n",
    "<img src=\"https://goo.gl/ZKX5FF\" style=\"width:15%; float:centre\"><Br/>\n",
    "<h2 align=\"center\">Dr Mazen Gabriel Alhrishy</h2>\n",
    "<h5 align=\"center\"><i>MAZEN.ALHRISHY@GMAIL.COM</i></h5><Br/>\n",
    "\n",
    "<table width=25%>\n",
    "    <tr>\n",
    "        <td>\n",
    "            <a href=\"https://goo.gl/BTtR3C\"><img src=\"https://goo.gl/rMsKok\"></a>\n",
    "        </td>\n",
    "        <td>\n",
    "            <a href=\"https://goo.gl/XaRDbH\"><img src=\"https://goo.gl/KyMZcj\"></a>\n",
    "        </td>\n",
    "        <td>\n",
    "            <a href=\"https://goo.gl/9uCqS6\"><img src=\"https://goo.gl/a8gcDK\"></a>\n",
    "        </td>\n",
    "        <td>\n",
    "            <a href=\"https://goo.gl/bnt2EL\"><img src=\"https://goo.gl/1rT18x\"></a>\n",
    "        </td>\n",
    "        <td>\n",
    "            <a href=\"https://goo.gl/VmfU3S\"><img src=\"https://goo.gl/WFFkxn\"></a>\n",
    "        </td>\n",
    "    </tr>\n",
    "</table>"
   ]
  },
  {
   "cell_type": "markdown",
   "metadata": {},
   "source": [
    "# 3- Control Structures\n",
    "\n",
    "> ## [I- Conditional statements](#I)\n",
    "> ## [II- Iterative statement](#II)\n",
    "> ## [III- Jump statements](#III)\n",
    "\n",
    "> ### [- Exercises](#E)\n",
    "> ### [- Solutions](#S)"
   ]
  },
  {
   "cell_type": "markdown",
   "metadata": {},
   "source": [
    "***\n",
    "## I- Conditional statements <a id='I'></a>\n",
    "\n",
    "\n",
    "> ### [1. if statements](#I-1)\n",
    "> ### [2. if-else statements](#I-2)\n",
    "> ### [3. if-elif-else statements](#I-3)\n",
    "> ### [4. Nested if-elif-else statements](#I-4)"
   ]
  },
  {
   "cell_type": "markdown",
   "metadata": {},
   "source": [
    "### 1- if statements <a id='I-1'></a>\n",
    "\n",
    "<blockquote>\n",
    "<b>Human</b>: \"if this condition is true, do this for me\"\n",
    "</blockquote>\n",
    "\n",
    "<ul><li>The general Python syntax for a simple <b>if</b> statement is</ul></li>\n",
    "\n",
    "<b>\n",
    "if <font color=\"red\">condition</font>:<br>\n",
    "&emsp;<font color=\"green\">indentedStatementBlock</font><br>\n",
    "</b>\n",
    "    \n",
    "<blockquote>\n",
    "<b>Python</b>: \"if the condition is true, I will execute the indented statements. If the condition is false, I'll skip the indented statements\"\n",
    "</blockquote>"
   ]
  },
  {
   "cell_type": "code",
   "execution_count": null,
   "metadata": {
    "collapsed": true
   },
   "outputs": [],
   "source": [
    "x = int(input(\"Please enter an integer: \"))\n",
    "\n",
    "if x < 0:\n",
    "    x = 0\n",
    "    print('Negative changed to zero')\n",
    "\n",
    "print(\"I'm out\")"
   ]
  },
  {
   "cell_type": "markdown",
   "metadata": {},
   "source": [
    "<h3>2- if else statements</h3>\n",
    "\n",
    "<blockquote>\n",
    "<b>Human</b>: \"if this condition is true, do this for me, otherwise, do this other thing\"\n",
    "</blockquote>\n",
    "\n",
    "<ul><li>The general Python <b>if-else</b> syntax is</ul></li>\n",
    "<b>\n",
    "if <font color=\"red\">condition</font>:<br>\n",
    "&emsp;<font color=\"green\">indentedStatementBlockForTrueCondition</font><br>\n",
    "else:<br>\n",
    "&emsp;<font color=\"green\">indentedStatementBlockForFlaseCondition</font><br>\n",
    "</b>\n",
    "\n",
    "<blockquote>\n",
    "<b>Python</b>: \"if the condition is true, I will execute the first indented statements. If the condition is false, I'll execute the second indented statements\"\n",
    "</blockquote>"
   ]
  },
  {
   "cell_type": "code",
   "execution_count": null,
   "metadata": {
    "collapsed": true
   },
   "outputs": [],
   "source": [
    "x = int(input(\"Please enter an integer: \"))\n",
    "\n",
    "if x < 0:\n",
    "    x = 0\n",
    "    print('Negative changed to zero')\n",
    "else:\n",
    "    print('More')\n",
    "    \n",
    "print(\"I'm out\")"
   ]
  },
  {
   "cell_type": "markdown",
   "metadata": {},
   "source": [
    "<h3>3- if-elif-else statements</h3>\n",
    "\n",
    "<blockquote>\n",
    "<b>Human</b>: \"if this first condition is true, do this for me, otherwise, check if this second condition is true and do this second thing for me. Otherwise, do this other thing\"\n",
    "</blockquote>\n",
    "\n",
    "<ul><li>The general Python <b>if-elif-else</b> syntax is</ul></li>\n",
    "\n",
    "<b>\n",
    "if <font color=\"red\">condition1</font>:<br>\n",
    "&emsp;<font color=\"green\">indentedStatementBlockForTrueCondition1</font><br>\n",
    "elif <font color=\"red\">condition2</font>:<br>\n",
    "&emsp;<font color=\"green\">indentedStatementBlockForTrueCondition2</font><br>\n",
    "else:<br>\n",
    "&emsp;<font color=\"green\">indentedStatementBlockForFalseConditions1&2</font><br>\n",
    "</b>\n",
    "</b>\n",
    "    \n",
    "<ul><li>'elif' is short for 'else if'</li></ul>\n",
    "\n",
    "<blockquote>\n",
    "<b>Python</b>: \"if the first condition is true, I will execute the first indented statements. If the first condition is not true, then I'll check the second condition. If the second condition is true, I will execute the second indented statements. If the second condition is false, I'll execute the third indented statements\"\n",
    "</blockquote>"
   ]
  },
  {
   "cell_type": "code",
   "execution_count": null,
   "metadata": {},
   "outputs": [],
   "source": [
    "x = int(input(\"Please enter an integer: \"))\n",
    "\n",
    "if x < 0:\n",
    "    x = 0\n",
    "    print('Negative changed to zero')\n",
    "elif x == 0:\n",
    "    print('Zero')\n",
    "elif x == 1:\n",
    "    print('Single')\n",
    "else:\n",
    "    print('More')\n",
    "    \n",
    "print(\"I'm out\")"
   ]
  },
  {
   "cell_type": "markdown",
   "metadata": {},
   "source": [
    "### 4- Nested if-elif-else statements <a id='I-4'></a>\n",
    "\n",
    "- You can nest <b>if-elif-else</b> statements as much as needed. For example\n",
    "\n",
    "<b>\n",
    "if <font color=\"red\">condition1</font>:<br>\n",
    "&emsp;<font color=\"green\">indentedStatementBlockForTrueCondition1</font><br>\n",
    "elif <font color=\"red\">condition2</font>:<br>\n",
    "&emsp;if <font color=\"red\">condition21</font>:<br>\n",
    "&emsp;&emsp;<font color=\"green\">indentedStatementBlockForTrueCondition21</font><br>\n",
    "&emsp;elif <font color=\"red\">condition22</font>:<br>\n",
    "&emsp;&emsp;<font color=\"green\">indentedStatementBlockForTrueCondition22</font><br>\n",
    "elif <font color=\"red\">condition3</font>:<br>\n",
    "&emsp;if <font color=\"red\">condition31</font>:<br>\n",
    "&emsp;else:<br>\n",
    "&emsp;&emsp;<font color=\"green\">indentedStatementBlockForFalseCondition31</font><br>\n",
    "else:<br>\n",
    "&emsp;<font color=\"green\">indentedStatementBlockForFalseConditions1&2</font><br>\n",
    "</b>"
   ]
  },
  {
   "cell_type": "code",
   "execution_count": null,
   "metadata": {
    "collapsed": true
   },
   "outputs": [],
   "source": [
    "x = int(input(\"Please enter an integer: \"))\n",
    "\n",
    "if x < 0:\n",
    "    x = 0\n",
    "    print('Negative changed to zero')\n",
    "elif x > 0:\n",
    "    if x == 1:\n",
    "        print('Single')\n",
    "    else:\n",
    "        print('More')\n",
    "else:\n",
    "        print('Zero')\n",
    "\n",
    "print(\"I'm out\")"
   ]
  },
  {
   "cell_type": "markdown",
   "metadata": {},
   "source": [
    "## II- Iterative statement <a id='II'></a>\n",
    "\n",
    "> ### [1. for statements](#II-1)\n",
    "> ### [2. The range() function](#II-2)\n",
    "> ### [3. The enumerate() function](#II-3)\n",
    "> ### [4. while statements](#II-4)"
   ]
  },
  {
   "cell_type": "markdown",
   "metadata": {},
   "source": [
    "### 1- for statements <a id='II-1'></a>\n",
    "\n",
    "> <b>Human</b>: \"Do this thing n times, or to every element in this sequence (<u>I know it will be repeated n times</u>)\"\n",
    "\n",
    "<ul><li>The general Python syntax for a <b>for</b> loop is</ul></li>\n",
    "<b>\n",
    "for <font color=\"red\">element</font> in <font color=\"red\">sequence</font>:<br>\n",
    "&emsp;<font color=\"green\">indentedStatementBlockToRepeat</font><br>\n",
    "</b>\n",
    "\n",
    "> <b>Python</b>: \"I will iterate over the sequence, and execute the indented statements, once during each iteration\""
   ]
  },
  {
   "cell_type": "markdown",
   "metadata": {},
   "source": [
    "<ul><li>If we use it with a list, it loops over its items</ul></li>"
   ]
  },
  {
   "cell_type": "code",
   "execution_count": null,
   "metadata": {},
   "outputs": [],
   "source": [
    "for i in [5, 2, 1]:\n",
    "    print(\"I'm looping\")\n",
    "    print(i)"
   ]
  },
  {
   "cell_type": "markdown",
   "metadata": {},
   "source": [
    "<ul><li>If we use it with a string, it loops over its characters</ul></li>"
   ]
  },
  {
   "cell_type": "code",
   "execution_count": null,
   "metadata": {
    "collapsed": true
   },
   "outputs": [],
   "source": [
    "for char in 'python':\n",
    "    print(\"I'm looping\")\n",
    "    print(char)"
   ]
  },
  {
   "cell_type": "markdown",
   "metadata": {},
   "source": [
    "### 2- The range() function <a id='II-2'></a>\n",
    "\n",
    "<ul><li>If you need to iterate over a sequence of numbers, the built-in <b>range()</b> function comes in handy</ul></li>\n",
    "<ul><li><b>range(start, stop, step)</b>: the arguments must be integers. Stop is exclusive</ul></li>"
   ]
  },
  {
   "cell_type": "code",
   "execution_count": null,
   "metadata": {
    "collapsed": true
   },
   "outputs": [],
   "source": [
    "list(range(5))"
   ]
  },
  {
   "cell_type": "code",
   "execution_count": null,
   "metadata": {
    "collapsed": true
   },
   "outputs": [],
   "source": [
    "for i in range(0, 5, 1):\n",
    "    print(i)"
   ]
  },
  {
   "cell_type": "code",
   "execution_count": null,
   "metadata": {
    "collapsed": true
   },
   "outputs": [],
   "source": [
    "for i in range(0, 5):  # if the step argument is omitted, it defaults to 1\n",
    "    print(i)"
   ]
  },
  {
   "cell_type": "code",
   "execution_count": null,
   "metadata": {
    "collapsed": true
   },
   "outputs": [],
   "source": [
    "for i in range(5):  # if the start argument is omitted, it defaults to 0\n",
    "    print(i)"
   ]
  },
  {
   "cell_type": "markdown",
   "metadata": {},
   "source": [
    "<ul><li>To iterate over the indices of a sequence, you can combine <b>range()</b> and <b>len()</b> as follows</ul></li>"
   ]
  },
  {
   "cell_type": "code",
   "execution_count": null,
   "metadata": {
    "collapsed": true
   },
   "outputs": [],
   "source": [
    "a = ['Mary', 'had', 'a', 'little', 'lamb']\n",
    "\n",
    "for indx in range(len(a)):\n",
    "    print(indx, a[indx])"
   ]
  },
  {
   "cell_type": "markdown",
   "metadata": {},
   "source": [
    "<ul><li>In most such cases, however, it is more convenient to use the <b>enumerate()</b> function</ul></li>"
   ]
  },
  {
   "cell_type": "markdown",
   "metadata": {},
   "source": [
    "### 3- The enumerate() function <a id='II-3'></a>\n",
    "\n",
    "- Returns the index and item for the current iteration</ul></li>"
   ]
  },
  {
   "cell_type": "code",
   "execution_count": null,
   "metadata": {
    "collapsed": true
   },
   "outputs": [],
   "source": [
    "items = ['red', 'blue', 'green']\n",
    "\n",
    "for indx, item in enumerate(items):\n",
    "    print(indx, item)    "
   ]
  },
  {
   "cell_type": "markdown",
   "metadata": {},
   "source": [
    "### 4- while statements <a id='II-4'></a>\n",
    "\n",
    "> <b>Human</b>: \"As long as this condition is true, keep doing this thing (<u>I don't know how many times it will be repeated</u>)\"\n",
    "\n",
    "\n",
    "<ul><li>The general Python syntax for a simple <b>while</b> loop is</ul></li>\n",
    "<b>\n",
    "while <font color=\"red\">condition</font>:<br>\n",
    "&emsp;<font color=\"green\">indentedStatementBlockForTrueCondition</font><br>\n",
    "</b>\n",
    "\n",
    "> <b>Python</b>: \"If the condition is true, I will execute the indented statements, and go back and check if the condition is still true. If the condition is still true, I will execute again. I will repeat until the condition is false\""
   ]
  },
  {
   "cell_type": "code",
   "execution_count": null,
   "metadata": {
    "collapsed": true
   },
   "outputs": [],
   "source": [
    "count = 0\n",
    "\n",
    "while count < 5:\n",
    "    print(count)\n",
    "    count += 1  # this is the same as count = count + 1"
   ]
  },
  {
   "cell_type": "markdown",
   "metadata": {},
   "source": [
    "<ul><li>Infinite while loop (useful where a user's input is required to terminate)</ul></li>"
   ]
  },
  {
   "cell_type": "code",
   "execution_count": null,
   "metadata": {
    "collapsed": true
   },
   "outputs": [],
   "source": [
    "x = True\n",
    "while x:\n",
    "    ans = input(\"Please enter exit to quit\\n\").lower()\n",
    "    if ans.strip() == 'exit':\n",
    "        x = False"
   ]
  },
  {
   "cell_type": "markdown",
   "metadata": {},
   "source": [
    "## III- Jump statements<a id='III'></a>\n",
    "\n",
    "> ### [1- break statements](#III-1)\n",
    "> ### [2- continue statements](#III-2)"
   ]
  },
  {
   "cell_type": "markdown",
   "metadata": {},
   "source": [
    "### 1- break statements<a id='III-1'></a>\n",
    "<ul><li>Breaks out of the innermost enclosing <b>for</b> or <b>while</b> loop</ul></li>"
   ]
  },
  {
   "cell_type": "code",
   "execution_count": null,
   "metadata": {
    "collapsed": true
   },
   "outputs": [],
   "source": [
    "items = ['red', 'blue', 'green']\n",
    "\n",
    "for item in items:\n",
    "    if item == 'blue':\n",
    "        print('Found blue!')\n",
    "        break\n",
    "    print('No blue yet!')"
   ]
  },
  {
   "cell_type": "code",
   "execution_count": null,
   "metadata": {
    "collapsed": true
   },
   "outputs": [],
   "source": [
    "while True:\n",
    "    ans = input(\"Please enter exit to quit\\n\").lower()\n",
    "    if ans.strip() == 'exit':\n",
    "        break"
   ]
  },
  {
   "cell_type": "markdown",
   "metadata": {},
   "source": [
    "### 2- continue statements<a id='III-2'>\n",
    "<ul><li>Continues with the next iteration of the <b>for</b> loop</ul></li>"
   ]
  },
  {
   "cell_type": "code",
   "execution_count": null,
   "metadata": {
    "collapsed": true
   },
   "outputs": [],
   "source": [
    "for num in range(2, 10):\n",
    "    if num % 2 == 0:\n",
    "        print(\"Found an even number\", num)\n",
    "        continue\n",
    "    print(\"Found a number\", num)"
   ]
  },
  {
   "cell_type": "markdown",
   "metadata": {},
   "source": [
    "## - Exercises<a id=E></a>"
   ]
  },
  {
   "cell_type": "markdown",
   "metadata": {},
   "source": [
    "1- The equation for calculating the body mass index (BMI) is: \n",
    "<br><br>\n",
    "$BMI=\\dfrac{mass}{height^2}$ where the mass is in kilograms and the height is in metre.  \n",
    "<br><br>\n",
    "A BMI of less than 18.5 is classified as underweight, between 18.5 and 25 is normal, between 25 and 30 is overweight and more than 30 is obese. Write a program that calculates the user's BMI, and then displays their classification as described above."
   ]
  },
  {
   "cell_type": "markdown",
   "metadata": {},
   "source": [
    "2- Write a program that calculates and displays out all of the prime numbers between 1 and 50. A prime number is an integer number greater than 1 that is only divisible by 1 and itself (e.g. 2,3,5,7, etc)."
   ]
  },
  {
   "cell_type": "markdown",
   "metadata": {},
   "source": [
    "3- Write a program that calculates and displays the Fibonacci series up to a maximum value of 10000. The Fibonacci series is a sequence of integer numbers, starting with two 1s, then each subsequent number is equal to the sum of the previous two (e.g. 1, 1, 2, 3, 5, 8, 13, etc)."
   ]
  },
  {
   "cell_type": "markdown",
   "metadata": {},
   "source": [
    "## - Solutions<a id=S></a>"
   ]
  },
  {
   "cell_type": "code",
   "execution_count": null,
   "metadata": {
    "collapsed": true
   },
   "outputs": [],
   "source": [
    "# Exercise 1\n",
    "weight_kg = float(input(\"What's your weight in KG?:\\n\"))\n",
    "height_meter = float(input(\"What's your height in meter?:\\n\"))\n",
    "\n",
    "bmi = weight_kg/(height_meter**2)\n",
    "print(\"Your BMI is \" + str(bmi) + ' KG/M2')\n",
    "\n",
    "if bmi < 18.5:\n",
    "    print('Underweight BMI')\n",
    "elif 18.50 < bmi < 25:\n",
    "    print('Normal BMI')\n",
    "elif 25 < bmi < 30:\n",
    "    print('Overweight BMI')\n",
    "else:\n",
    "    print('Obese BMI')"
   ]
  },
  {
   "cell_type": "code",
   "execution_count": null,
   "metadata": {
    "collapsed": true
   },
   "outputs": [],
   "source": [
    "# Exercise 2\n",
    "for n in range(2, 51):\n",
    "    for x in range(2, n):\n",
    "        if n % x == 0:\n",
    "            print(n, 'is divisible by', x)\n",
    "            break\n",
    "    else:\n",
    "        print(n, 'is a prime number')"
   ]
  },
  {
   "cell_type": "code",
   "execution_count": null,
   "metadata": {
    "collapsed": true
   },
   "outputs": [],
   "source": [
    "# Exercise 3\n",
    "a = b = 1\n",
    "\n",
    "print(a, end=' ')\n",
    "print(b, end=' ')\n",
    "\n",
    "while (a + b) < 10000:\n",
    "    c = a + b\n",
    "    print(c, end=' ')\n",
    "    a = b\n",
    "    b = c"
   ]
  }
 ],
 "metadata": {
  "kernelspec": {
   "display_name": "Python 3",
   "language": "python",
   "name": "python3"
  },
  "language_info": {
   "codemirror_mode": {
    "name": "ipython",
    "version": 3
   },
   "file_extension": ".py",
   "mimetype": "text/x-python",
   "name": "python",
   "nbconvert_exporter": "python",
   "pygments_lexer": "ipython3",
   "version": "3.7.1"
  }
 },
 "nbformat": 4,
 "nbformat_minor": 2
}
