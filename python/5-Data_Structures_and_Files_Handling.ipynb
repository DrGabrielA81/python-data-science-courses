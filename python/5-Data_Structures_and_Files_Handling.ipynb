{
 "cells": [
  {
   "cell_type": "markdown",
   "metadata": {},
   "source": [
    "<h1 align=\"center\">Python for DATA SCIENCE</h1><Br/>\n",
    "<img src=\"https://goo.gl/ZKX5FF\" style=\"width:15%; float:centre\"><Br/>\n",
    "<h2 align=\"center\">Dr Mazen Gabriel Alhrishy</h2>\n",
    "<h5 align=\"center\"><i>MAZEN.ALHRISHY@GMAIL.COM</i></h5><Br/>\n",
    "\n",
    "<table width=25%>\n",
    "    <tr>\n",
    "        <td>\n",
    "            <a href=\"https://goo.gl/BTtR3C\"><img src=\"https://goo.gl/rMsKok\"></a>\n",
    "        </td>\n",
    "        <td>\n",
    "            <a href=\"https://goo.gl/XaRDbH\"><img src=\"https://goo.gl/KyMZcj\"></a>\n",
    "        </td>\n",
    "        <td>\n",
    "            <a href=\"https://goo.gl/9uCqS6\"><img src=\"https://goo.gl/a8gcDK\"></a>\n",
    "        </td>\n",
    "        <td>\n",
    "            <a href=\"https://goo.gl/bnt2EL\"><img src=\"https://goo.gl/1rT18x\"></a>\n",
    "        </td>\n",
    "        <td>\n",
    "            <a href=\"https://goo.gl/VmfU3S\"><img src=\"https://goo.gl/WFFkxn\"></a>\n",
    "        </td>\n",
    "    </tr>\n",
    "</table>"
   ]
  },
  {
   "cell_type": "markdown",
   "metadata": {},
   "source": [
    "<h1>Week 5- Data Structures and Files Handling</h1>\n",
    "\n",
    "<ol style=\"list-style-type:none\">\n",
    "    <li><h2>I- More data structures</h2></li>\n",
    "    <li><h2>II- Reading and writing files</h2></li>\n",
    "    <li><h2>- Exercises</h2></li>\n",
    "    <li><h2>- Solutions</h2></li>\n",
    "</ol>"
   ]
  },
  {
   "cell_type": "markdown",
   "metadata": {},
   "source": [
    "<h2>I- More data structures</h2>\n",
    "\n",
    "<ol style=\"list-style-type:none\">\n",
    "    <li><h3>1- List comprehensions</h3></li>\n",
    "    <li><h3>2- Tuples</h3></li>\n",
    "    <li><h3>3- Dictionaries</h3></li>\n",
    "</ol>"
   ]
  },
  {
   "cell_type": "markdown",
   "metadata": {},
   "source": [
    "<h3>1- List comprehensions</h3>\n",
    "\n",
    "<blockquote>\n",
    "\"List comprehensions provide a concise way to create lists. They are usually used to create a new list where each element is the result of some operations applied to each element of another sequence\"\n",
    "</blockquote>\n",
    "\n",
    "<ul><li>A simple Python syntax for a list comprehension is:</ul></li>\n",
    "\n",
    "<b>\n",
    "[<font color=\"green\">expression</font> for <font color=\"red\">element</font> in <font color=\"red\">sequence</font>]\n",
    "</b>"
   ]
  },
  {
   "cell_type": "markdown",
   "metadata": {},
   "source": [
    "<ul><li>To see the appeal of list comprehensions, lets assume that we want to square each number from 1-10, and store the result in a list</ul></li>"
   ]
  },
  {
   "cell_type": "markdown",
   "metadata": {},
   "source": [
    "<b>Option 1</b>: we can do this using a <b>for</b> loop. However, this creates a variable named x that still exists after the loop completes"
   ]
  },
  {
   "cell_type": "code",
   "execution_count": null,
   "metadata": {
    "collapsed": true
   },
   "outputs": [],
   "source": [
    "squares = list()\n",
    "\n",
    "for x in range(1, 11):\n",
    "    squares.append(x**2)\n",
    "    \n",
    "print(squares)"
   ]
  },
  {
   "cell_type": "markdown",
   "metadata": {},
   "source": [
    "<b>Option 2</b>: We can create the list without any side effects by using the <b>map()</b> function introduced before, and converting the resulting object into a list"
   ]
  },
  {
   "cell_type": "code",
   "execution_count": null,
   "metadata": {
    "collapsed": true
   },
   "outputs": [],
   "source": [
    "map_object = map(lambda x: x**2, range(1, 11))\n",
    "squares = list(map_object)\n",
    "\n",
    "print(squares)"
   ]
  },
  {
   "cell_type": "markdown",
   "metadata": {},
   "source": [
    "<b>Option 3</b>: However, using a list comprehension is more concise and readable!"
   ]
  },
  {
   "cell_type": "code",
   "execution_count": null,
   "metadata": {
    "collapsed": true
   },
   "outputs": [],
   "source": [
    "squares = [x**2 for x in range(1, 11)]\n",
    "\n",
    "print(squares)"
   ]
  },
  {
   "cell_type": "markdown",
   "metadata": {},
   "source": [
    "<h3>2- Tuples</h3>\n",
    "\n",
    "<blockquote>\n",
    "\"A tuple is another standard sequence data type similar to lists. However, the important difference is that, unlike lists, tuples are <b>immutable</b>\"\n",
    "</blockquote>\n",
    "\n",
    "<ul><li>A tuple consists of a number of values separated by commas, with or without surrounding parentheses (although often parentheses are used anyway)</ul></li>"
   ]
  },
  {
   "cell_type": "code",
   "execution_count": null,
   "metadata": {
    "collapsed": true
   },
   "outputs": [],
   "source": [
    "t = (12345, 54321, 'hello!')\n",
    "print(t, type(t))"
   ]
  },
  {
   "cell_type": "markdown",
   "metadata": {},
   "source": [
    "<ul><li>We can create an empty tuple by using either empty parentheses <b>( )</b>, or the built-in function <b>tuple()</b></ul></li>"
   ]
  },
  {
   "cell_type": "code",
   "execution_count": null,
   "metadata": {
    "collapsed": true
   },
   "outputs": [],
   "source": [
    "empty_t = ()\n",
    "empty_t = tuple()\n",
    "\n",
    "print(empty_t, type(empty_t))"
   ]
  },
  {
   "cell_type": "markdown",
   "metadata": {},
   "source": [
    "<ul><li>To create a tuple with one item only, the value should be followed with a comma (it is not sufficient to enclose a single value in parentheses)</ul></li>"
   ]
  },
  {
   "cell_type": "code",
   "execution_count": null,
   "metadata": {
    "collapsed": true
   },
   "outputs": [],
   "source": [
    "singleton_t = ('hello!')  # creates a string object not a tuple!\n",
    "print(singleton_t, type(singleton_t))\n",
    "\n",
    "singleton_t = ('hello!',)  # note the trailing comma\n",
    "print(singleton_t, type(singleton_t))"
   ]
  },
  {
   "cell_type": "markdown",
   "metadata": {},
   "source": [
    "<ul><li>Unlike lists, tuples are immutable (i.e. you can't change items values)</ul></li>"
   ]
  },
  {
   "cell_type": "code",
   "execution_count": null,
   "metadata": {
    "collapsed": true
   },
   "outputs": [],
   "source": [
    "t[0] = 88888  # value reassignment is not allowed"
   ]
  },
  {
   "cell_type": "markdown",
   "metadata": {},
   "source": [
    "<ul><li>Like lists, tuples can be indexed and sliced</li></ul>"
   ]
  },
  {
   "cell_type": "code",
   "execution_count": null,
   "metadata": {
    "collapsed": true
   },
   "outputs": [],
   "source": [
    "print(t[0])  # indexing returns the item\n",
    "print(t[-1])\n",
    "print(t[-2:])  # slicing returns a new tuple"
   ]
  },
  {
   "cell_type": "markdown",
   "metadata": {},
   "source": [
    "<ul><li>Like lists, you can also unpack a tuple by using as many variables on the left side of the equals sign as there are elements in the tuple</ul></li>"
   ]
  },
  {
   "cell_type": "code",
   "execution_count": null,
   "metadata": {
    "collapsed": true
   },
   "outputs": [],
   "source": [
    "x, y, z = t\n",
    "print(x)\n",
    "print(y)\n",
    "print(z)"
   ]
  },
  {
   "cell_type": "markdown",
   "metadata": {},
   "source": [
    "<h3>3- Dictionaries</h3>\n",
    "\n",
    "<blockquote>\n",
    "\"A dictionary is an unordered set of <b>key: value</b> pairs, with the requirement that the keys are immutable and unique within one dictionary\"\n",
    "</blockquote>\n",
    "\n",
    "<ul><li>The dictionary's set of <b>key: value</b> pairs are separated by commas, with surrounding braces</ul></li>"
   ]
  },
  {
   "cell_type": "code",
   "execution_count": null,
   "metadata": {
    "collapsed": true
   },
   "outputs": [],
   "source": [
    "d = {'one': 1, 'two': 2, 'three': 3}\n",
    "print(d, type(d))"
   ]
  },
  {
   "cell_type": "markdown",
   "metadata": {},
   "source": [
    "<ul><li>This can also be done using the built-in function <b>dict()</b></ul></li>"
   ]
  },
  {
   "cell_type": "code",
   "execution_count": null,
   "metadata": {
    "collapsed": true
   },
   "outputs": [],
   "source": [
    "d = dict(one=1, two=2, three=3)  # using comma-separated key=value\n",
    "print(d, type(d))\n",
    "\n",
    "d = dict([('one', 1), ('two', 2), ('three', 3)])  # using a list of comma-separated (key,value)\n",
    "print(d, type(d))"
   ]
  },
  {
   "cell_type": "markdown",
   "metadata": {},
   "source": [
    "<ul><li><b>dict()</b> can also be used to create an empty dictionary, similar to using empty braces <b>{ }</b></ul></li>"
   ]
  },
  {
   "cell_type": "code",
   "execution_count": null,
   "metadata": {
    "collapsed": true
   },
   "outputs": [],
   "source": [
    "empty_d = {}\n",
    "empty_d = dict()\n",
    "\n",
    "print(empty_d, type(empty_d))"
   ]
  },
  {
   "cell_type": "markdown",
   "metadata": {},
   "source": [
    "<ul><li>To understand the motivation behind dictionaries, consider the task of storing some countries with their corresponding capitals</ul></li>"
   ]
  },
  {
   "cell_type": "markdown",
   "metadata": {},
   "source": [
    "<b>Option 1</b>: using 2 lists, the first to store countries, and the second to store corresponding capitals. To access the capital of a country, we first need to get the index of that country from the first list, then use the index to access the capital in the second list (i.e. no direct access)"
   ]
  },
  {
   "cell_type": "code",
   "execution_count": null,
   "metadata": {
    "collapsed": true
   },
   "outputs": [],
   "source": [
    "countries = ['spain', 'france', 'germany', 'norway']\n",
    "capitals = ['madrid', 'paris', 'berlin', 'oslo']\n",
    "\n",
    "ind_ger = countries.index('germany')\n",
    "print(capitals[ind_ger])"
   ]
  },
  {
   "cell_type": "markdown",
   "metadata": {},
   "source": [
    "<b>Option 2</b>: Using a dictionary on the other hand allows direct access to a value using its key as an index!"
   ]
  },
  {
   "cell_type": "code",
   "execution_count": null,
   "metadata": {
    "collapsed": true
   },
   "outputs": [],
   "source": [
    "europe = {'spain':'madrid', 'france':'paris', 'germany':'berlin', 'norway':'oslo'}\n",
    "print(europe['germany'])"
   ]
  },
  {
   "cell_type": "markdown",
   "metadata": {},
   "source": [
    "<ul><li>To check whether a single key is in the dictionary, use the membership operations"
   ]
  },
  {
   "cell_type": "code",
   "execution_count": null,
   "metadata": {
    "collapsed": true
   },
   "outputs": [],
   "source": [
    "print('germany' in europe)\n",
    "print('germany' not in europe)"
   ]
  },
  {
   "cell_type": "markdown",
   "metadata": {},
   "source": [
    "<ul><li>To check all the keys used in the dictionary, use the <b>keys()</b> method together with the <b>list()</b> function to return a list of all the keys in arbitrary order. If you want the list sorted, you can use the <b>sorted()</b> function instead of <b>list()</b></ul></li>"
   ]
  },
  {
   "cell_type": "code",
   "execution_count": null,
   "metadata": {
    "collapsed": true
   },
   "outputs": [],
   "source": [
    "print(list(europe.keys()))\n",
    "print(sorted(europe.keys()))"
   ]
  },
  {
   "cell_type": "markdown",
   "metadata": {},
   "source": [
    "<ul><li>The <b>items()</b> method together with the <b>list()</b> function returns a list of tuples in arbitrary order, where each tuple is a key:value pair. Again, we can sort the list of tuples using the <b>sorted()</b> function instead of <b>list()</b></ul></li>"
   ]
  },
  {
   "cell_type": "code",
   "execution_count": null,
   "metadata": {
    "collapsed": true
   },
   "outputs": [],
   "source": [
    "print(list(europe.items()))\n",
    "print(sorted(europe.items()))  # sorting the tuple pairs using the keys"
   ]
  },
  {
   "cell_type": "markdown",
   "metadata": {},
   "source": [
    "<ul><li>The <b>items()</b> method is also useful to loop through dictionaries becasue it retrieves the key:value pairs </ul></li>"
   ]
  },
  {
   "cell_type": "code",
   "execution_count": null,
   "metadata": {
    "collapsed": true
   },
   "outputs": [],
   "source": [
    "for k, v in europe.items():\n",
    "    print(k, v)"
   ]
  },
  {
   "cell_type": "markdown",
   "metadata": {},
   "source": [
    "<ul><li>To add a <b>key: value</b> pair to the dictionary</li></ul>"
   ]
  },
  {
   "cell_type": "code",
   "execution_count": null,
   "metadata": {
    "collapsed": true
   },
   "outputs": [],
   "source": [
    "europe['latvia'] = 'riga'\n",
    "print(europe)"
   ]
  },
  {
   "cell_type": "markdown",
   "metadata": {},
   "source": [
    "<ul><li>The <b>del</b> statement can be used to remove a <b>key: value</b> pair from a dictionary; while the <b>clear()</b> method can be used to clear the entire dictionary</li></ul>"
   ]
  },
  {
   "cell_type": "code",
   "execution_count": null,
   "metadata": {
    "collapsed": true
   },
   "outputs": [],
   "source": [
    "del europe['germany']\n",
    "print(europe)\n",
    "\n",
    "europe.clear()\n",
    "print(europe)"
   ]
  },
  {
   "cell_type": "markdown",
   "metadata": {},
   "source": [
    "<a href=\"https://docs.python.org/3/library/stdtypes.html#dict\"> Here</a> are all of the methods you can call on a dictionary object"
   ]
  },
  {
   "cell_type": "markdown",
   "metadata": {},
   "source": [
    "<h2>II- Reading and writing files</h2>"
   ]
  },
  {
   "cell_type": "markdown",
   "metadata": {},
   "source": [
    "<ul><li>The <b>open()</b> function can be used to read a file. It returns a file object, and is most commonly used with two arguments as follows</ul></li>\n",
    "\n",
    "<b>\n",
    "file_object = <font color=\"red\">open</font>(file, mode='rt')<br>\n",
    "</b>\n",
    "    \n",
    "    file: a string containing the filename\n",
    "    mode: an optional string that specifies the mode in which the file is opened. Available modes are:\n",
    "          'r' open for reading only (default)\n",
    "          'r+' open for reading and writing\n",
    "          'w' open for writing only, truncating the file first (i.e. erase its contents)\n",
    "          'a' open for writing only, appending to the end of the file if it exists\n",
    "          't' appended to any mode above to open the file in text mode (default)\n",
    "          'b' appended to any mode above to open the file in binary mode"
   ]
  },
  {
   "cell_type": "markdown",
   "metadata": {},
   "source": [
    "<ul><li>Files that contain text are normally opened in text mode 't' (i.e. you read and write strings from and to the file)</ul></li>"
   ]
  },
  {
   "cell_type": "code",
   "execution_count": null,
   "metadata": {
    "collapsed": true
   },
   "outputs": [],
   "source": [
    "f1 = open(r'Text_Files/file_(3_lines).txt', 'rt')"
   ]
  },
  {
   "cell_type": "markdown",
   "metadata": {},
   "source": [
    "<ul><li>Files that don’t contain text (e.g. image files), are normally opened in binary mode 'b' (i.e. data is read and written from and to the file in the form of bytes objects)</ul></li>"
   ]
  },
  {
   "cell_type": "code",
   "execution_count": null,
   "metadata": {
    "collapsed": true
   },
   "outputs": [],
   "source": [
    "f2 = open(r'Images/Guido_van_Rossum.jpg', 'rb')"
   ]
  },
  {
   "cell_type": "markdown",
   "metadata": {},
   "source": [
    "<ul><li>To read the entire contents of the file, the <b>read()</b> method can be used</ul></li>"
   ]
  },
  {
   "cell_type": "code",
   "execution_count": null,
   "metadata": {
    "collapsed": true
   },
   "outputs": [],
   "source": [
    "data1 = f1.read()\n",
    "print(data1)"
   ]
  },
  {
   "cell_type": "code",
   "execution_count": null,
   "metadata": {
    "collapsed": true
   },
   "outputs": [],
   "source": [
    "data2 = f2.read()\n",
    "print(data2)"
   ]
  },
  {
   "cell_type": "markdown",
   "metadata": {},
   "source": [
    "<ul><li>If the end of the file has been reached, <b>read()</b> will return an empty string</ul></li>"
   ]
  },
  {
   "cell_type": "code",
   "execution_count": null,
   "metadata": {
    "collapsed": true
   },
   "outputs": [],
   "source": [
    "f1.read()"
   ]
  },
  {
   "cell_type": "code",
   "execution_count": null,
   "metadata": {
    "collapsed": true
   },
   "outputs": [],
   "source": [
    "f2.read()"
   ]
  },
  {
   "cell_type": "markdown",
   "metadata": {},
   "source": [
    "<ul><li>If we are done processing the opened file, it should be closed to free up any system resources used by it. For this, the <b>close()</b> method is called</ul></li>"
   ]
  },
  {
   "cell_type": "code",
   "execution_count": null,
   "metadata": {
    "collapsed": true
   },
   "outputs": [],
   "source": [
    "f1.close()\n",
    "f2.close()"
   ]
  },
  {
   "cell_type": "markdown",
   "metadata": {},
   "source": [
    "<ul><li>To check if a file was closed, the <b>closed</b> method can be called</ul></li>"
   ]
  },
  {
   "cell_type": "code",
   "execution_count": null,
   "metadata": {
    "collapsed": true
   },
   "outputs": [],
   "source": [
    "print(f1.closed)\n",
    "print(f2.closed)"
   ]
  },
  {
   "cell_type": "markdown",
   "metadata": {},
   "source": [
    "<ul><li>To read a single line from the file, the <b>readline()</b> method can be used (a newline character (\\n) is left at the end of each line). When the end of the file has been reached, <b>readline()</b> returns an empty string"
   ]
  },
  {
   "cell_type": "code",
   "execution_count": null,
   "metadata": {
    "collapsed": true
   },
   "outputs": [],
   "source": [
    "f = open(r'Text_Files/file_(2_lines).txt', 'rt')"
   ]
  },
  {
   "cell_type": "code",
   "execution_count": null,
   "metadata": {
    "collapsed": true
   },
   "outputs": [],
   "source": [
    "f.readline()"
   ]
  },
  {
   "cell_type": "code",
   "execution_count": null,
   "metadata": {
    "collapsed": true
   },
   "outputs": [],
   "source": [
    "f.readline()"
   ]
  },
  {
   "cell_type": "code",
   "execution_count": null,
   "metadata": {
    "collapsed": true
   },
   "outputs": [],
   "source": [
    "f.readline()"
   ]
  },
  {
   "cell_type": "code",
   "execution_count": null,
   "metadata": {
    "collapsed": true
   },
   "outputs": [],
   "source": [
    "f.close()"
   ]
  },
  {
   "cell_type": "markdown",
   "metadata": {},
   "source": [
    "<ul><li>For reading all lines from a file, one at a time, you can loop over the file object. This is memory efficient, fast, and leads to simple code</ul></li>"
   ]
  },
  {
   "cell_type": "code",
   "execution_count": null,
   "metadata": {
    "collapsed": true
   },
   "outputs": [],
   "source": [
    "f = open(r'Text_Files/file_(3_lines).txt', 'rt')\n",
    "for line in f:\n",
    "    print(line, end='')\n",
    "f.close()"
   ]
  },
  {
   "cell_type": "markdown",
   "metadata": {},
   "source": [
    "<ul><li>If you want to read all the lines of a file into a list at once, you can also use <b>list()</b> or <b>readlines()</b></ul></li>"
   ]
  },
  {
   "cell_type": "code",
   "execution_count": null,
   "metadata": {
    "collapsed": true
   },
   "outputs": [],
   "source": [
    "f = open(r'Text_Files/file_(3_lines).txt', 'rt')\n",
    "print(list(f))\n",
    "f.close()"
   ]
  },
  {
   "cell_type": "code",
   "execution_count": null,
   "metadata": {
    "collapsed": true
   },
   "outputs": [],
   "source": [
    "f = open(r'Text_Files/file_(3_lines).txt', 'rt')\n",
    "print(f.readlines())\n",
    "f.close()"
   ]
  },
  {
   "cell_type": "markdown",
   "metadata": {},
   "source": [
    "<ul><li>It is good practice to use the <b>with</b> keyword when dealing with file objects. The advantage is that the file is properly closed after it's processed (no need for you to call <b>close()</b>)</ul></li>"
   ]
  },
  {
   "cell_type": "code",
   "execution_count": null,
   "metadata": {
    "collapsed": true
   },
   "outputs": [],
   "source": [
    "with open(r'Text_Files/file_(3_lines).txt', 'rt') as f:\n",
    "    print(f.readlines())"
   ]
  },
  {
   "cell_type": "markdown",
   "metadata": {},
   "source": [
    "<ul><li>To write a string to the file, the <b>write()</b> method is used. It also returns the number of characters written</ul></li>"
   ]
  },
  {
   "cell_type": "code",
   "execution_count": null,
   "metadata": {
    "collapsed": true
   },
   "outputs": [],
   "source": [
    "with open(r'Text_Files/file_write_test.txt', 'wt') as f:\n",
    "    f.write('This is a test\\n')\n",
    "\n",
    "print(f.closed)  # check if file was closed"
   ]
  },
  {
   "cell_type": "markdown",
   "metadata": {},
   "source": [
    "<a href=\"https://docs.python.org/3/library/io.html#io.IOBase\"> Here</a> are all of the methods you can call on a file object"
   ]
  },
  {
   "cell_type": "markdown",
   "metadata": {},
   "source": [
    "<h2>- Exercises</h2>"
   ]
  },
  {
   "cell_type": "markdown",
   "metadata": {},
   "source": [
    "1- Using a list comprehension, create a new list 'new_list' out of the list 'numbers', which contains the numbers in 'numbers', as integers. Print out the result.\n",
    "\n",
    "    numbers = [34.6, -203.4, 44.9, 68.3, -12.2, 44.6, 12.7]\n",
    "    \n",
    "<ul><li>Modify your answer so that 'new_list' contains only the positive numbers from 'numbers', again as integers. Print out the result.</ul></li>"
   ]
  },
  {
   "cell_type": "markdown",
   "metadata": {},
   "source": [
    "2- Using a list comprehension, create a list of integers which specify the length of each word in the sentence, but only if the word is not 'the'\n",
    "\n",
    "    sentence = 'the quick brown fox jumps over the lazy dog'\n",
    "\n",
    "<ul><li>Print out the resulting list</ul></li>"
   ]
  },
  {
   "cell_type": "markdown",
   "metadata": {},
   "source": [
    "3- Similar to lists, dictionaries can also have nested dictionaries, where the value is a dictionary of key: value pairs. Write a 'europe' dictionary of the following countries, where each key is a country, and the value is a dictionary of 2 keys: 'capital' and 'population'\n",
    "\n",
    "    Spain:(Madrid, 46.77 Million)\n",
    "    France:(Paris, 66.03 Million)\n",
    "    Germany:(Berlin, 80.62 Million)\n",
    "    Norway:(Oslo, 5.084 Million)\n",
    "    \n",
    "<ul><li>Print out the capital of France</ul></li>\n",
    "<ul><li>Add Latvia to the dictionary</ul></li>\n",
    "\n",
    "    Latvia:(Riga, 1.96 Million)\n",
    "<ul><li>Print out the dictionary</ul></li>"
   ]
  },
  {
   "cell_type": "markdown",
   "metadata": {},
   "source": [
    "4- Write a Python script to read through the lines of a file, break each line into a list of words, and then loop through each of the words in the line, and count each word using a dictionary"
   ]
  },
  {
   "cell_type": "markdown",
   "metadata": {},
   "source": [
    "<h2>- Solutions</h2>"
   ]
  },
  {
   "cell_type": "code",
   "execution_count": null,
   "metadata": {},
   "outputs": [],
   "source": [
    "# Exercise 1\n",
    "\n",
    "numbers = [34.6, -203.4, 44.9, 68.3, -12.2, 44.6, 12.7]\n",
    "new_list = [int(number) for number in numbers]\n",
    "print(new_list)\n",
    "\n",
    "new_list = [int(number) for number in numbers if number > 0]\n",
    "print(new_list)"
   ]
  },
  {
   "cell_type": "code",
   "execution_count": null,
   "metadata": {},
   "outputs": [],
   "source": [
    "# Exercise 2\n",
    "\n",
    "sentence = 'the quick brown fox jumps over the lazy dog'\n",
    "words = sentence.split()\n",
    "print(words)\n",
    "word_lengths = [len(word) for word in words if word != \"the\"]\n",
    "print(word_lengths)"
   ]
  },
  {
   "cell_type": "code",
   "execution_count": null,
   "metadata": {},
   "outputs": [],
   "source": [
    "# Exercise 3\n",
    "europe = { 'spain': { 'capital':'madrid', 'population':46.77 },\n",
    "           'france': { 'capital':'paris', 'population':66.03 },\n",
    "           'germany': { 'capital':'berlin', 'population':80.62 },\n",
    "           'norway': { 'capital':'oslo', 'population':5.084 } }\n",
    "\n",
    "\n",
    "# print out the capital of France\n",
    "print(europe['france']['capital'])\n",
    "\n",
    "# add Latvia to europe \n",
    "europe['Latvia'] = {'capital': 'riga', 'population': 1.96}\n",
    "\n",
    "# Print europe\n",
    "print(europe)"
   ]
  },
  {
   "cell_type": "code",
   "execution_count": null,
   "metadata": {},
   "outputs": [],
   "source": [
    "# Exercise 4\n",
    "\n",
    "with open(r'Text_Files/romeo.txt', 'rt') as f:\n",
    "\n",
    "    word_counts = dict()\n",
    "\n",
    "    for line in f:\n",
    "        words = line.split()  # split each line into a list of words\n",
    "        for word in words:\n",
    "            if word not in word_counts:\n",
    "                word_counts[word] = 1\n",
    "            else:\n",
    "                word_counts[word] += 1\n",
    "\n",
    "print(word_counts)"
   ]
  }
 ],
 "metadata": {
  "kernelspec": {
   "display_name": "Python 3",
   "language": "python",
   "name": "python3"
  },
  "language_info": {
   "codemirror_mode": {
    "name": "ipython",
    "version": 3
   },
   "file_extension": ".py",
   "mimetype": "text/x-python",
   "name": "python",
   "nbconvert_exporter": "python",
   "pygments_lexer": "ipython3",
   "version": "3.6.6"
  }
 },
 "nbformat": 4,
 "nbformat_minor": 2
}
