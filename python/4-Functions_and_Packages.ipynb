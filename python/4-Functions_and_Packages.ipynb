{
 "cells": [
  {
   "cell_type": "markdown",
   "metadata": {},
   "source": [
    "<h1 align=\"center\">Python for DATA SCIENCE</h1><Br/>\n",
    "<h2 align=\"center\">Dr Gabriel HARRIS</h2>\n",
    "\n",
    "<h5 align=\"center\"><a href=\"https://medium.com/@DrGabrielHarris\">Medium</a></h5>\n",
    "<h5 align=\"center\"><a href=\"https:/github.com/DrGabrielHarris\"> GitHub</a></h5>"
   ]
  },
  {
   "cell_type": "markdown",
   "metadata": {},
   "source": [
    "<h1>Week 4- Functions and Packages</h1>\n",
    "\n",
    "<ol style=\"list-style-type:none\">\n",
    "    <li><h2>I- Functions and methods</h2></li>\n",
    "    <li><h2>II- Packages and modules</h2></li>\n",
    "    <li><h2>- Exercises</h2></li>\n",
    "    <li><h2>- Solutions</h2></li>\n",
    "</ol>"
   ]
  },
  {
   "cell_type": "markdown",
   "metadata": {},
   "source": [
    "<h2>I- Functions and methods</h2>\n",
    "\n",
    "<ol style=\"list-style-type:none\">\n",
    "    <li><h3>1- Calling a function</h3></li>\n",
    "    <li><h3>2- Built-in functions</h3></li>\n",
    "    <li><h3>3- Calling methods</h3></li>\n",
    "    <li><h3>4- User-defined functions</h3></li>\n",
    "    <li><h3>5- Error-handling</h3></li>\n",
    "    <li><h3>6- The pass statement</h3></li>\n",
    "    <li><h3>7- Lambda expressions</h3></li>\n",
    "</ol>"
   ]
  },
  {
   "cell_type": "markdown",
   "metadata": {},
   "source": [
    "<h3>1- Calling a function</h3>\n",
    "\n",
    "<blockquote>\n",
    "\"A function is a piece of reusable code that performs a particular task. Rather than writing the same code every time, you write a function once, then you can call it as much as needed\"\n",
    "</blockquote>\n",
    "\n",
    "<ul><li>The general Python syntax for calling a function is:</ul></li>\n",
    "\n",
    "<b>\n",
    "output[s] = <font color=\"red\">function_name</font>(input parameter[s])<br>\n",
    "</b>"
   ]
  },
  {
   "cell_type": "markdown",
   "metadata": {},
   "source": [
    "<h3>2- Built-in functions</h3>\n",
    "\n",
    "<ul><li>Python has a number of functions built into it that are always available</ul></li>\n",
    "\n",
    "<ul><li>You have already used a number of these functions! e.g. <b>print()</b>, <b>type()</b>, and <b>len()</b></ul></li>\n",
    "\n",
    "<ul><li>Python built-in functions are all listed in the <a href=\"https://docs.python.org/3.3/library/functions.html\"> docs</a> in alphabetical order</ul></li>\n",
    "\n"
   ]
  },
  {
   "cell_type": "markdown",
   "metadata": {},
   "source": [
    "<ul><li>A built-in function is like a black box. You don't care what happens inside it, you just know it works as it should! For example, the <b>max()</b> function will return the largest item</ul></li>"
   ]
  },
  {
   "cell_type": "code",
   "execution_count": null,
   "metadata": {
    "collapsed": true
   },
   "outputs": [],
   "source": [
    "family_heights = [1.73, 1.68, 1.71, 1.89]"
   ]
  },
  {
   "cell_type": "code",
   "execution_count": null,
   "metadata": {
    "collapsed": true
   },
   "outputs": [],
   "source": [
    "tallest = max(family_heights)\n",
    "print(tallest)"
   ]
  },
  {
   "cell_type": "markdown",
   "metadata": {},
   "source": [
    "<ul><li>Another example is the <b>round()</b> function which takes 2 parameters, the number to round, and the wanted precision:</ul></li>"
   ]
  },
  {
   "cell_type": "code",
   "execution_count": null,
   "metadata": {
    "collapsed": true
   },
   "outputs": [],
   "source": [
    " round(1.68, 1)"
   ]
  },
  {
   "cell_type": "markdown",
   "metadata": {},
   "source": [
    "<ul><li>If you don't provide the precision, it defaults to 0</ul></li>"
   ]
  },
  {
   "cell_type": "code",
   "execution_count": null,
   "metadata": {
    "collapsed": true
   },
   "outputs": [],
   "source": [
    " round(1.68)"
   ]
  },
  {
   "cell_type": "markdown",
   "metadata": {},
   "source": [
    "<ul><li>How do you know the number of parameters, optional parameters, default values, etc?<br>\n",
    "\n",
    "<b>Option 1</b>: you know the name of the function > check the documentation using the <b>help()</b> function. Alternatively, look in <a href=\"https://docs.python.org/3/library/index.html\"> The Python Standard Library</a>\n",
    "\n",
    "<b>Option 2</b>: you don't konw the name of the function > Google it! If it's a stansard task, it probably exists</ul></li>"
   ]
  },
  {
   "cell_type": "code",
   "execution_count": null,
   "metadata": {
    "collapsed": true
   },
   "outputs": [],
   "source": [
    "help(round)"
   ]
  },
  {
   "cell_type": "markdown",
   "metadata": {},
   "source": [
    "The <b>[ ]</b> around ndigits indicates that this parameter is optional"
   ]
  },
  {
   "cell_type": "markdown",
   "metadata": {},
   "source": [
    "<ul><li>Another way to indicate optional parameters is to assign them default values. For example, look at the documentation of <b>sorted()</b></ul></li>"
   ]
  },
  {
   "cell_type": "code",
   "execution_count": null,
   "metadata": {
    "collapsed": true
   },
   "outputs": [],
   "source": [
    "help(sorted)"
   ]
  },
  {
   "cell_type": "markdown",
   "metadata": {},
   "source": [
    "<b>sorted()</b> takes three arguments. However, <b>key=None</b> means that if you don't specify the key argument, it will default to None. <b>reverse=False</b> means that if you don't specify the reverse argument, it will default to False"
   ]
  },
  {
   "cell_type": "code",
   "execution_count": null,
   "metadata": {
    "collapsed": true
   },
   "outputs": [],
   "source": [
    "x = [11.25, 18.0, 20.0, 10.75, 9.50]"
   ]
  },
  {
   "cell_type": "code",
   "execution_count": null,
   "metadata": {
    "collapsed": true
   },
   "outputs": [],
   "source": [
    "x_sorted = sorted(x)  # similar to sorted(x, key=None, reverse=False)\n",
    "print(x_sorted)"
   ]
  },
  {
   "cell_type": "code",
   "execution_count": null,
   "metadata": {
    "collapsed": true
   },
   "outputs": [],
   "source": [
    "x_sorted = sorted(x, reverse=True)  # similar to sorted(x, key=None, reverse=True)\n",
    "print(x_sorted)"
   ]
  },
  {
   "cell_type": "markdown",
   "metadata": {},
   "source": [
    "<h3>3- Calling methods</h3>\n",
    "\n",
    "<ul><li>In Python everything is an object of a class. For example, 1.0 is an object of class float, 'Hello' is an object of class str, and [1, 2, 3] is an object of class list</ul></li>"
   ]
  },
  {
   "cell_type": "code",
   "execution_count": null,
   "metadata": {
    "collapsed": true
   },
   "outputs": [],
   "source": [
    "print(type(1.0), type('Hello'), type([1, 2, 3]))"
   ]
  },
  {
   "cell_type": "markdown",
   "metadata": {},
   "source": [
    "<blockquote>\n",
    "\"Each Python class has a number of functions which can be used on objects of that class. These functions are called methods. In other words, a method is a function that belongs to a class\"\n",
    "</blockquote>\n",
    "\n",
    "<ul><li>The general Python syntax for calling a method is:</ul></li>\n",
    "\n",
    "<b>\n",
    "object_name.<font color=\"red\">method_name</font>(input parameter[s])<br>\n",
    "</b>"
   ]
  },
  {
   "cell_type": "markdown",
   "metadata": {},
   "source": [
    "<ul><li>You have already used a number of methods! For example, you've used the string class method <b>title()</b>, and the list class methods <b>strip()</b> and <b>append()</b></ul></li>\n",
    "\n",
    "<a href=\"https://docs.python.org/3/library/stdtypes.html#string-methods\"> Here</a> are all of the methods you can call on a string object\n",
    "\n",
    "<a href=\"https://docs.python.org/3/tutorial/datastructures.html\"> Here</a> are all of the methods you can call on a list object"
   ]
  },
  {
   "cell_type": "markdown",
   "metadata": {},
   "source": [
    "<ul><li>Some methods are shared between different classes. However, they behave differently depending on the data type of the object (hence the need for data types)</ul></li>"
   ]
  },
  {
   "cell_type": "code",
   "execution_count": null,
   "metadata": {
    "collapsed": true
   },
   "outputs": [],
   "source": [
    "family_heights = ['liz', 1.73, 'emma', 1.68, 'mom', 1.71, 'dad', 1.89]\n",
    "    \n",
    "print(family_heights.index('liz'))  # calling method on list object\n",
    "\n",
    "print(family_heights[0].index('z'))  # calling method on string object"
   ]
  },
  {
   "cell_type": "markdown",
   "metadata": {},
   "source": [
    "<ul><li>Some methods change the object they are called on while other don't!</ul></li>"
   ]
  },
  {
   "cell_type": "code",
   "execution_count": null,
   "metadata": {
    "collapsed": true
   },
   "outputs": [],
   "source": [
    "family_heights.append('me')  # this method will change the object\n",
    "print(family_heights)"
   ]
  },
  {
   "cell_type": "code",
   "execution_count": null,
   "metadata": {
    "collapsed": true
   },
   "outputs": [],
   "source": [
    "family_heights[0].capitalize()  # this method will NOT change the object\n",
    "print(family_heights[0])"
   ]
  },
  {
   "cell_type": "markdown",
   "metadata": {},
   "source": [
    "<h3>4- User-defined functions</h3>\n",
    "\n",
    "<blockquote>\n",
    "The <font color=\"blue\">def </font> keyword can be used to create our own function\n",
    "</blockquote>\n",
    "\n",
    "<ul><li>The general Python syntax for defining a function is:</ul></li>\n",
    "\n",
    "<b>\n",
    "<font color=\"blue\">def </font><font color=\"red\">function_name</font>(input parameter[s]):<br>\n",
    "&emsp;<font color=\"grey\">\"\"\"funciton doctring\"\"\"<br></font>\n",
    "&emsp;indentedStatementBlock<br>\n",
    "&emsp;<font color=\"blue\">return</font> value<br>\n",
    "</b>\n",
    "\n",
    "<ul><li>The function docstring is a string that is added at the beginning to describe the function</ul></li>\n",
    "<ul><li>The return statement returns a value(s) when the function is called. If omitted None is returned</ul></li>"
   ]
  },
  {
   "cell_type": "markdown",
   "metadata": {},
   "source": [
    "<ul><li>This function takes a value and returns its square </ul></li>"
   ]
  },
  {
   "cell_type": "code",
   "execution_count": null,
   "metadata": {
    "collapsed": true
   },
   "outputs": [],
   "source": [
    "def square(value):\n",
    "    \"\"\"\n",
    "    Square a number\n",
    "    :param value: to square\n",
    "    :return: value squared \n",
    "    \"\"\"\n",
    "    squared_value = value ** 2\n",
    "    return squared_value"
   ]
  },
  {
   "cell_type": "markdown",
   "metadata": {},
   "source": [
    "<ul><li>The function call is similar to calling built-in functions</ul></li>"
   ]
  },
  {
   "cell_type": "code",
   "execution_count": null,
   "metadata": {
    "collapsed": true
   },
   "outputs": [],
   "source": [
    "result = square(4)\n",
    "print(result)"
   ]
  },
  {
   "cell_type": "markdown",
   "metadata": {},
   "source": [
    "<ul><li>This function takes 2 values, raises the first value to the power of the second value, and returns the result</ul></li>"
   ]
  },
  {
   "cell_type": "code",
   "execution_count": null,
   "metadata": {
    "collapsed": true
   },
   "outputs": [],
   "source": [
    "def raise_to_power(value1, value2):\n",
    "    \"\"\"Raise the first number to the power of the second\"\"\"\n",
    "    power_value = value1 ** value2\n",
    "    return power_value"
   ]
  },
  {
   "cell_type": "code",
   "execution_count": null,
   "metadata": {
    "collapsed": true
   },
   "outputs": [],
   "source": [
    "result = raise_to_power(4, 2)\n",
    "print(result)"
   ]
  },
  {
   "cell_type": "markdown",
   "metadata": {},
   "source": [
    "<ul><li>You can also specify a default value for one or more parameters</ul></li>"
   ]
  },
  {
   "cell_type": "code",
   "execution_count": null,
   "metadata": {
    "collapsed": true
   },
   "outputs": [],
   "source": [
    "def raise_to_power(value1, value2=2):\n",
    "    \"\"\"Raise the first number to the power of the second\"\"\"\n",
    "    power_value = value1 ** value2\n",
    "    return power_value"
   ]
  },
  {
   "cell_type": "markdown",
   "metadata": {},
   "source": [
    "<ul><li>If we called the function without the second parameter, it defaults to 2</ul></li>"
   ]
  },
  {
   "cell_type": "code",
   "execution_count": null,
   "metadata": {
    "collapsed": true
   },
   "outputs": [],
   "source": [
    "result = raise_to_power(4)\n",
    "print(result)"
   ]
  },
  {
   "cell_type": "markdown",
   "metadata": {},
   "source": [
    "<ul><li>This function takes 3 values, and returns both the minimum and the maximum values as a list</ul></li>"
   ]
  },
  {
   "cell_type": "code",
   "execution_count": null,
   "metadata": {
    "collapsed": true
   },
   "outputs": [],
   "source": [
    "def find_min_max(value1, value2, value3):\n",
    "    \"\"\"Find the minimum and maximum value of 3 values\"\"\"\n",
    "    min_value = min(value1, value2, value3)\n",
    "    max_value = max(value1, value2, value3)\n",
    "    return [min_value, max_value]"
   ]
  },
  {
   "cell_type": "code",
   "execution_count": null,
   "metadata": {
    "collapsed": true
   },
   "outputs": [],
   "source": [
    "results = find_min_max(8, 5, 10)\n",
    "print(results)"
   ]
  },
  {
   "cell_type": "markdown",
   "metadata": {},
   "source": [
    "<h3>5- Error-handling</h3>"
   ]
  },
  {
   "cell_type": "markdown",
   "metadata": {},
   "source": [
    "<h3>6- The pass statement</h3>\n",
    "\n",
    "<ul><li>The pass statement does nothing (silently ignored)</ul></li>\n",
    "    \n",
    "<ul><li>It can be used when a statement is required syntactically but the program requires no action</ul></li>\n",
    "\n",
    "<ul><li>For example, it can be used as a place-holder for a function or conditional body when you are working on new code</ul></li>"
   ]
  },
  {
   "cell_type": "code",
   "execution_count": null,
   "metadata": {
    "collapsed": true
   },
   "outputs": [],
   "source": [
    "def my_function():\n",
    "    pass  # I'll implement this later"
   ]
  },
  {
   "cell_type": "code",
   "execution_count": null,
   "metadata": {
    "collapsed": true
   },
   "outputs": [],
   "source": [
    "if x > 0:\n",
    "    pass  # not sure what to do here yet"
   ]
  },
  {
   "cell_type": "markdown",
   "metadata": {},
   "source": [
    "<h3>7- Lambda expressions</h3>\n",
    "\n",
    "<blockquote>\n",
    "The <font color=\"blue\">lambda </font> keyword can be used to create small (usually anonymous) functions\n",
    "</blockquote>\n",
    "\n",
    "<ul><li>The general Python syntax for a Lambda expression is:</ul></li>\n",
    "\n",
    "<b>\n",
    "<font color=\"red\">function_name</font> = <font color=\"blue\">lambda </font> input parameter[s]: expression to be returned<br>\n",
    "</b>"
   ]
  },
  {
   "cell_type": "markdown",
   "metadata": {},
   "source": [
    "<ul><li>This Lambda expression works as the raise_to_power() function we defined before. It takes 2 parameters x and y, and returns x to the power of y</ul></li>"
   ]
  },
  {
   "cell_type": "code",
   "execution_count": null,
   "metadata": {
    "collapsed": true
   },
   "outputs": [],
   "source": [
    "raise_to_power = lambda x, y: x ** y"
   ]
  },
  {
   "cell_type": "code",
   "execution_count": null,
   "metadata": {
    "collapsed": true
   },
   "outputs": [],
   "source": [
    "print(raise_to_power(2, 3))"
   ]
  },
  {
   "cell_type": "markdown",
   "metadata": {},
   "source": [
    "<ul><li>However, lambda expressions are usually used to create anonymous small functions whenever a function object is required</ul></li>\n",
    "\n",
    "<ul><li>For example, the <b>map()</b> function takes two arguments: <b>map(func, seq)</b>. The function is applied to ALL elements in the sequence. For this, a lambda expression is useful</ul></li>"
   ]
  },
  {
   "cell_type": "code",
   "execution_count": null,
   "metadata": {
    "collapsed": true
   },
   "outputs": [],
   "source": [
    "nums = [48, 6, 9, 21, 1]\n",
    "\n",
    "square_all = map(lambda num: num ** 2, nums)\n",
    "print(list(square_all))"
   ]
  },
  {
   "cell_type": "markdown",
   "metadata": {
    "collapsed": true
   },
   "source": [
    "<h2>II- Packages and modules</h2>\n",
    "\n",
    "<ol style=\"list-style-type:none\">\n",
    "    <li><h3>1- Motivation</h3></li>\n",
    "    <li><h3>2- Installing packages</h3></li>\n",
    "    <li><h3>3- Importing packages</h3></li>\n",
    "</ol>"
   ]
  },
  {
   "cell_type": "markdown",
   "metadata": {},
   "source": [
    "<h3>1- Motivation</h3>\n",
    "\n",
    "<ul><li>There're thousands and thousands of functions and methods. However, it's not a good idea to have them all in your Python distribution becasue it leads to:<br>\n",
    "&emsp;Huge code base and size<br>\n",
    "&emsp;Lots of code you won’t use<br>\n",
    "&emsp;Maintenance problem</ul></li>"
   ]
  },
  {
   "cell_type": "markdown",
   "metadata": {},
   "source": [
    "<ul><li>This is when packages come in handy<br>\n",
    "&emsp;A package is a directory of Python scripts (i.e. package/module1.py ... module2.py etc.)<br>\n",
    "&emsp;Each script is called a module<br>\n",
    "&emsp;Each module defines functions and methods</ul></li>"
   ]
  },
  {
   "cell_type": "markdown",
   "metadata": {},
   "source": [
    "<h3>2- Installing packages</h3>\n",
    "\n",
    "<ul><li>Before start using a package, you need to install it into your Python distribution</ul></li>\n",
    "\n",
    "<ul><li>You already know how to install packages using <b>conda</b> or <b>pip</b> package managers &#x1F64C;</ul></li>"
   ]
  },
  {
   "cell_type": "markdown",
   "metadata": {},
   "source": [
    "<h3>3- Importing packages</h3>\n",
    "\n",
    "<ul><li>To start using a package which you've installed, you need to import it into your script first</ul></li>\n",
    "\n",
    "<ul><li>This can be done in several ways:</ul></li>"
   ]
  },
  {
   "cell_type": "markdown",
   "metadata": {},
   "source": [
    "<b>Option 1</b>: import the package, then access its functions with the dot operator (recommended)"
   ]
  },
  {
   "cell_type": "code",
   "execution_count": null,
   "metadata": {
    "collapsed": true
   },
   "outputs": [],
   "source": [
    "import numpy  # recommended \n",
    "x = numpy.array([1, 2, 3])  # array is clearly a function of numpy\n",
    "print(x, type(x))"
   ]
  },
  {
   "cell_type": "code",
   "execution_count": null,
   "metadata": {
    "collapsed": true
   },
   "outputs": [],
   "source": [
    "import numpy as np  # recommended and usually used\n",
    "x = np.array([1, 2, 3])  "
   ]
  },
  {
   "cell_type": "markdown",
   "metadata": {},
   "source": [
    "<b>Option 2</b>: import specific functions from the package, then access them directly without the dot operator"
   ]
  },
  {
   "cell_type": "code",
   "execution_count": null,
   "metadata": {
    "collapsed": true
   },
   "outputs": [],
   "source": [
    "from numpy import array\n",
    "x = array([1, 2, 3])  # array is NOT clearly a function of numpy"
   ]
  },
  {
   "cell_type": "code",
   "execution_count": null,
   "metadata": {
    "collapsed": true
   },
   "outputs": [],
   "source": [
    "from numpy import array as arr\n",
    "x = arr([1, 2, 3])"
   ]
  },
  {
   "cell_type": "markdown",
   "metadata": {},
   "source": [
    "<b>Option 3</b>: import all functions from the package into the script, then access them directly without the dot operator"
   ]
  },
  {
   "cell_type": "code",
   "execution_count": null,
   "metadata": {
    "collapsed": true
   },
   "outputs": [],
   "source": [
    "from numpy import *\n",
    "x = array([1, 2, 3])"
   ]
  },
  {
   "cell_type": "markdown",
   "metadata": {},
   "source": [
    "<ul><li>It is customary to place all import statements at the beginning of your script. However, in PEP 8 (style guide for Python code) Imports are always put at the top of the script</ul></li>"
   ]
  },
  {
   "cell_type": "markdown",
   "metadata": {},
   "source": [
    "<h2>- Exercises</h2>"
   ]
  },
  {
   "cell_type": "markdown",
   "metadata": {},
   "source": [
    "1- Rewrite the solution to exercise 1 from week 3 as a function with the signature: \n",
    "\n",
    "    bmi = calculate_bmi(weight_kg, height_m)\n",
    "    \n",
    "<ul><li>The function should print out the BMI classification when called</ul></li>\n",
    "<ul><li>Call the function to test it, and print out the returned value</ul></li>"
   ]
  },
  {
   "cell_type": "markdown",
   "metadata": {},
   "source": [
    "2- Rewrite the solution to exercise 2 from week 3 as a function with the signature:\n",
    "\n",
    "    primes_list = find_primes(n_min, n_max)\n",
    "\n",
    "<ul><li>The function should return a list of all the primes found in the range [n_min, n_max] inclusive</ul></li>\n",
    "<ul><li>Call the function to test it, and print out the returned list</ul></li>"
   ]
  },
  {
   "cell_type": "markdown",
   "metadata": {},
   "source": [
    "3- Rewrite the solution to exercise 3 from week 3 as a function with the signature:\n",
    "\n",
    "    fibonacci_series_list = fibonacci_series(n_max)\n",
    "\n",
    "<ul><li>The function should return a list of Fibonacci series up to n_max</ul></li>\n",
    "<ul><li>Call the function to test it, and print out the returned list</ul></li>"
   ]
  },
  {
   "cell_type": "markdown",
   "metadata": {},
   "source": [
    "4- For a clustering algorithm that you've developed, you want to find the circumference and area of a circle with a radius $r = 0.43$<br>\n",
    "\n",
    "<ul><li>Import the math package to access the constant $\\pi$</ul></li>\n",
    "<ul><li>Calculate the circumference of the circle using the equation $circumference = 2 \\pi r$</ul></li>\n",
    "<ul><li>Calculate the area of the circle using the equation $area = \\pi r^2$</ul></li>\n",
    "<ul><li>Print out both the circumference and the area rounded to 2 decimal points</ul></li>\n",
    "\n",
    "    Extra: write 2 lambda expressions to calculate the circumference and the area given a radius"
   ]
  },
  {
   "cell_type": "markdown",
   "metadata": {},
   "source": [
    "5- Let's say the Moon's orbit around planet Earth is a perfect circle, with a radius $r = 192500 km$.\n",
    "\n",
    "<ul><li>Calculate the distance travelled by the Moon over 12 <b>degrees</b> of its orbit using the equation $distance = r \\times \\phi$, where $r$ is the radius in km, and $\\phi$ is the angle in <b>radians</b></ul></li>\n",
    "\n",
    "    Tip: Convert the given angle in degrees to radians using the radians() function from the math package\n",
    "\n",
    "<ul><li>Print out the distance rounded to 2 decimal points</ul></li>\n",
    "\n",
    "    Extra: write a lambda expression to calculate the distance given a radius in km, and an angle in degrees"
   ]
  },
  {
   "cell_type": "markdown",
   "metadata": {},
   "source": [
    "<h2>- Solutions</h2>"
   ]
  },
  {
   "cell_type": "code",
   "execution_count": null,
   "metadata": {
    "collapsed": true
   },
   "outputs": [],
   "source": [
    "# Exercise 1\n",
    "\n",
    "def calculate_bmi(weight_kg, height_m):\n",
    "\n",
    "    bmi = weight_kg/(height_m**2)\n",
    "\n",
    "    if bmi < 18.5:\n",
    "        print('Underweight BMI')\n",
    "    elif 18.50 < bmi < 25:\n",
    "        print('Normal BMI')\n",
    "    elif 25 < bmi < 30:\n",
    "        print('Overweight BMI')\n",
    "    else:\n",
    "        print('Obese BMI')\n",
    "    \n",
    "    return bmi\n",
    "\n",
    "# calling the function\n",
    "bmi = calculate_bmi(75, 1.77)\n",
    "print(bmi)"
   ]
  },
  {
   "cell_type": "code",
   "execution_count": null,
   "metadata": {
    "collapsed": true
   },
   "outputs": [],
   "source": [
    "# Exercise 2\n",
    "\n",
    "def find_primes(n_min, n_max):\n",
    "    \n",
    "    primes = list()\n",
    "    \n",
    "    for n in range(n_min, n_max+1):\n",
    "        for x in range(2, n):\n",
    "            if n % x == 0:\n",
    "                break\n",
    "        else:\n",
    "            primes.append(n)\n",
    "            \n",
    "    return primes\n",
    "            \n",
    "# calling the function\n",
    "primes_list = find_primes(40, 53)\n",
    "print(primes_list)"
   ]
  },
  {
   "cell_type": "code",
   "execution_count": null,
   "metadata": {
    "collapsed": true
   },
   "outputs": [],
   "source": [
    "# Exercise 3\n",
    "\n",
    "def fibonacci_series(n_max):\n",
    "    a = b = 1\n",
    "\n",
    "    series = [a, b]\n",
    "\n",
    "    while (a + b) < 10000:\n",
    "        c = a + b\n",
    "        series.append(c)\n",
    "        a = b\n",
    "        b = c\n",
    "    \n",
    "    return series\n",
    "\n",
    "# calling the function\n",
    "fibonacci_series_list = fibonacci_series(10000)\n",
    "print(fibonacci_series_list)"
   ]
  },
  {
   "cell_type": "code",
   "execution_count": null,
   "metadata": {
    "collapsed": true
   },
   "outputs": [],
   "source": [
    "# Exercise 4\n",
    "\n",
    "import math\n",
    "\n",
    "r = 0.43\n",
    "\n",
    "circumference = 2 * math.pi * r\n",
    "area = math.pi * (r**2)\n",
    "\n",
    "print('circumference = ', round(circumference, 2))\n",
    "print('area = ', round(area, 2))\n",
    "\n",
    "# extra\n",
    "circumference_lambda = lambda r: 2 * math.pi * r\n",
    "area_lambda = lambda r: math.pi * (r**2)\n",
    "\n",
    "print('circumference_lambda = ', round(circumference_lambda(0.43), 2))\n",
    "print('area_lambda = ', round(area_lambda(0.43), 2))"
   ]
  },
  {
   "cell_type": "code",
   "execution_count": null,
   "metadata": {
    "collapsed": true
   },
   "outputs": [],
   "source": [
    "# Exercise 5\n",
    "\n",
    "import math\n",
    "\n",
    "r = 192500  # km\n",
    "phi = 12  # degrees\n",
    "\n",
    "distance = r * math.radians(phi)\n",
    "\n",
    "print('distance = ', round(distance, 2))\n",
    "\n",
    "# extra\n",
    "distance_lambda = lambda r, phi: r * math.radians(phi)\n",
    "print('distance_lambda = ', round(distance_lambda(192500, 12), 2))"
   ]
  }
 ],
 "metadata": {
  "kernelspec": {
   "display_name": "Python 3",
   "language": "python",
   "name": "python3"
  },
  "language_info": {
   "codemirror_mode": {
    "name": "ipython",
    "version": 3
   },
   "file_extension": ".py",
   "mimetype": "text/x-python",
   "name": "python",
   "nbconvert_exporter": "python",
   "pygments_lexer": "ipython3",
   "version": "3.7.6"
  }
 },
 "nbformat": 4,
 "nbformat_minor": 2
}
