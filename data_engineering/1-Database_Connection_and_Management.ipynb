{
 "cells": [
  {
   "cell_type": "markdown",
   "metadata": {},
   "source": [
    "<h1 align=\"center\">Python for DATA SCIENCE</h1><Br/>\n",
    "<img src=\"./Images/Python_Logo.svg\" style=\"width:30%; float:centre; padding:10px 100px 10px 10px\"><Br/>\n",
    "<h1 align=\"center\">Dr Mazen Gabriel ALHRISHY</h1>\n",
    "<h5 align=\"center\"><i>MAZEN.ALHRISHY@GMAIL.COM</i></h5>\n",
    "\n",
    "<a href=\"https://goo.gl/BTtR3C\">\n",
    "    <img src=\"./Images/Linkedin.png\" style=\"width:50; float:left; padding:10px 10px 10px 320px\">\n",
    "</a>\n",
    "\n",
    "<a href=\"https://goo.gl/TtrM6z\">\n",
    "    <img src=\"./Images/Bitbucket.png\" style=\"width:50; float:left; padding:10px 10px 10px 10px\">\n",
    "</a>\n",
    "\n",
    "<a href=\"https://goo.gl/9uCqS6\">\n",
    "    <img src=\"./Images/DataCamp.png\" style=\"width:7%; float:left; padding:10px 10px 10px 10px\">\n",
    "</a>\n",
    "\n",
    "<a href=\"https://goo.gl/bnt2EL\">\n",
    "    <img src=\"./Images/Quora.png\" style=\"width:50; float:left; padding:10px 10px 10px 10px\">\n",
    "</a>\n",
    "\n",
    "<a href=\"https://goo.gl/VmfU3S\">\n",
    "    <img src=\"./Images/scholar.png\" style=\"width:50; float:left; padding:10px 10px 10px 10px\">\n",
    "</a>"
   ]
  },
  {
   "cell_type": "markdown",
   "metadata": {},
   "source": [
    "***\n",
    "# 9- Database Connection and Management\n",
    "\n",
    "> ## [I- Introduction](#I)\n",
    "## [II- PyODBC: Python Open DataBase Connectivity](#II)\n",
    "## [III- SQLite3: Python SQLite](#III)\n",
    "## [IV- Executing SQL statements](#IV)\n",
    "## [V- Reading data into Pandas DataFrame](#V)"
   ]
  },
  {
   "cell_type": "markdown",
   "metadata": {},
   "source": [
    "***\n",
    "\n",
    "## I- Introduction <a id='I'></a>\n",
    "\n",
    "> ## [1. Database model](#I-1)\n",
    "## [2. Database management system (DBMS)](#I-2)\n",
    "## [3. Database connectivity interface](#I-3)"
   ]
  },
  {
   "cell_type": "markdown",
   "metadata": {},
   "source": [
    "### 1- Database model <a id='I-1'></a>\n",
    "\n",
    "> **__[A database model](https://en.wikipedia.org/wiki/Database_model)__** determines the logical structure of a database (a database is an organized collection of data). This in turn determines how data can be stored, organized and manipulated \n",
    "\n",
    "- **__[The Relational Model](https://en.wikipedia.org/wiki/Relational_model)__** (RM) is the most popular database model since the 1980s. RM uses a table-based format, where tables are related by common columns"
   ]
  },
  {
   "cell_type": "markdown",
   "metadata": {},
   "source": [
    "### 2- Database management system (DBMS) <a id='I-2'></a>\n",
    "\n",
    "> **A DataBase Management System (DBMS)**: is a software that interacts with end-users, other applications, and the database itself to create, read, update and manage data\n",
    "\n",
    "- **__[The Relational DBMS](https://en.wikipedia.org/wiki/Relational_database_management_system)__** (RDBMS) is the DBMS based on RM. According to **__[DB-Engines](https://db-engines.com/en/ranking)__**, the most widely used RDBMS are Oracle, MySQL, Microsoft SQL Server, PostgreSQL, IBM DB2, Microsoft Access, and **SQLite**\n",
    "\n",
    "\n",
    "- A database is often referred to by the RDBMS used to manipulate it. For example, a database that is manipulated using Microsoft SQL Server is referred to as: **Microsoft SQL Server-Database**\n",
    "\n",
    "\n",
    "- Although not required, all RDBMS use **__[SQL](https://en.wikipedia.org/wiki/SQL)__** as a standard data access language"
   ]
  },
  {
   "cell_type": "markdown",
   "metadata": {},
   "source": [
    "### 3- Database connectivity interface<a id='I-3'></a>\n",
    "\n",
    "> **__[A database connectivity interface](https://en.wikipedia.org/wiki/Open_Database_Connectivity)__** allows an application to access data from a variety of DBMSs **using a specific driver for a specific DBMS and operating system**. This means that the application can be written without depending on a specific DBMS or the operating system\n",
    "\n",
    "- **__[Open DataBase Connectivity](https://en.wikipedia.org/wiki/Open_Database_Connectivity)__** (ODBC): a standard Microsoft Windows interface that enables applications (typically written in C or C++) to connect to DBMSs\n",
    "\n",
    "\n",
    "- **__[Java DataBase Connectivity](https://en.wikipedia.org/wiki/Java_Database_Connectivity)__** (JDBC): a standard Oracle interface that enables applications written in Java to connect to DBMSs"
   ]
  },
  {
   "cell_type": "markdown",
   "metadata": {},
   "source": [
    "***\n",
    "## II- __[PyODBC](https://github.com/mkleehammer/pyodbc/wiki)__: Python Open DataBase Connectivity <a id=\"II\"></a>\n",
    "\n",
    "> Using pyodbc, you can easily connect Python applications to a DBMS-database using the required ODBC driver\n",
    "\n",
    "> ### [1- Installation](#II-1)\n",
    "> ### [2- Connecting to a database](#II-2)"
   ]
  },
  {
   "cell_type": "markdown",
   "metadata": {},
   "source": [
    "### 1- Installation <a id='II-1'></a>\n",
    "\n",
    "> Installation includes 2 steps: \n",
    "    - Installing the package\n",
    "    - Installing the required ODBC driver"
   ]
  },
  {
   "cell_type": "markdown",
   "metadata": {},
   "source": [
    "- **_Step 1_**: install pyodbc through pip in your Anaconda prompt"
   ]
  },
  {
   "cell_type": "code",
   "execution_count": null,
   "metadata": {},
   "outputs": [],
   "source": [
    "! pip install pyodbc --y"
   ]
  },
  {
   "cell_type": "markdown",
   "metadata": {},
   "source": [
    "* To import into a Python script"
   ]
  },
  {
   "cell_type": "code",
   "execution_count": null,
   "metadata": {},
   "outputs": [],
   "source": [
    "import pyodbc"
   ]
  },
  {
   "cell_type": "markdown",
   "metadata": {},
   "source": [
    "- **_Step 2_**: install the required driver for the DBMS-database you want to connect to. For example, if you want to connect to a Microsoft SQL Server-Database, you need to download and install the driver from __[Microsoft](https://docs.microsoft.com/en-us/sql/connect/odbc/download-odbc-driver-for-sql-server?view=sql-server-2017)__ after choosing your operating system"
   ]
  },
  {
   "cell_type": "markdown",
   "metadata": {},
   "source": [
    "### 2- Connecting to a database <a id='II-2'></a>"
   ]
  },
  {
   "cell_type": "markdown",
   "metadata": {},
   "source": [
    "> To make a connection to a database, we need to pass a **connection string** to the **connect()** function of pyodbc. The most important thing to remember is that: pyodbc passes the connection string directly to the DBMS-database driver unmodified. Therefore, **connection strings are driver-specific**"
   ]
  },
  {
   "cell_type": "markdown",
   "metadata": {},
   "source": [
    "- For example, to connect to a **Microsoft SQL Server-Database**, we provide the following **connection string**:"
   ]
  },
  {
   "cell_type": "code",
   "execution_count": null,
   "metadata": {},
   "outputs": [],
   "source": [
    "cnxn = pyodbc.connect('driver={SQL Server};'\n",
    "                      'server=serverName;'  # serverName: your Server name\n",
    "                      'database=databaseName;'  # databaseName: your database name\n",
    "                      'trusted_connection=yes')"
   ]
  },
  {
   "cell_type": "markdown",
   "metadata": {},
   "source": [
    "- Information about general connection string for most databases can be found __[here](http://www.connectionstrings.com)__\n",
    "- Make sure to follow the connection string formatting rules found __[here](https://www.connectionstrings.com/formating-rules-for-connection-strings/)__\n",
    "\n",
    "\n",
    "- The connection string can also be passed as arguments, which are then concatenated into a connection string:"
   ]
  },
  {
   "cell_type": "code",
   "execution_count": null,
   "metadata": {},
   "outputs": [],
   "source": [
    "cnxn = pyodbc.connect(driver='{SQL Server}',\n",
    "                      server='serverName',  # serverName: your Server name\n",
    "                      database='databaseName',  # databaseName: your database name\n",
    "                      trusted_connection='yes')"
   ]
  },
  {
   "cell_type": "markdown",
   "metadata": {},
   "source": [
    "- In the connection string above, we assume that the SQL Server Authentication mode is set to **Windows Authentication Mode**, so we did not have to provide credentials to get access permissions to the server\n",
    "\n",
    "- However, if it was a **Mixed Authentication Mode** (i.e. SQL Server Authentication + Windows Authentication), we can still use the above connection string, or the following one where we provide our User ID and Password:"
   ]
  },
  {
   "cell_type": "code",
   "execution_count": null,
   "metadata": {},
   "outputs": [],
   "source": [
    "cnxn = pyodbc.connect(driver='{SQL Server}',\n",
    "                      server='serverName',  # serverName: your Server name\n",
    "                      database='databaseName',  # databaseName: your database name\n",
    "                      uid='UserID',  # UserID: your user ID for the Server login\n",
    "                      pwd='password')  # password: your password for the Server login"
   ]
  },
  {
   "cell_type": "markdown",
   "metadata": {},
   "source": [
    "- Pyodbc also supports __[Data Source Name](https://en.wikipedia.org/wiki/Data_source_name)__ (DSN) connections. A DSN contains information about a specific database that an ODBC driver needs in order to connect to it (information such as the database driver, the server and database names, etc)"
   ]
  },
  {
   "cell_type": "code",
   "execution_count": null,
   "metadata": {},
   "outputs": [],
   "source": [
    "cnxn = pyodbc.connect('DSN=DsnName;'  # DsnName: the DSN name\n",
    "                      'pwd=password')  # password: your password for the Server login"
   ]
  },
  {
   "cell_type": "markdown",
   "metadata": {},
   "source": [
    "- Lastly, depending on the database you are trying to access, and the version of Python you are using, you might need to set the connection **encoding/decoding settings**. These settings can be found __[here](https://github.com/mkleehammer/pyodbc/wiki/Unicode)__\n",
    "\n",
    "\n",
    "- For **Microsoft SQL Server-Database** and **Python 3.x**, using pyodbc default encoding/decoding settings is recommended (i.e. no need to do anything)"
   ]
  },
  {
   "cell_type": "markdown",
   "metadata": {},
   "source": [
    "***\n",
    "## III- SQLite for Python: SQLite3 <a id='III'></a>\n",
    "\n",
    "> SQLite3 is the Python package for SQLite which is the most widely deployed RDBMS in the world (arguably).  \n",
    "The main features of SQLite are: \n",
    "    - An embedded SQL database: SQLite does not have a separate server process (i.e. server-less). It    reads and writes directly to ordinary disk files (i.e. disk-based)\n",
    "    - Free for use for any purpose, commercial or private\n",
    "\n",
    "\n",
    "> ### [1- Installation](#III-1)\n",
    "> ### [2- Connecting to a database](#III-2)"
   ]
  },
  {
   "cell_type": "markdown",
   "metadata": {},
   "source": [
    "### 1- Installation <a id='III-1'></a>\n",
    "\n",
    "* SQLite3 is included with Python by default. So even if you have created a new Anaconda environment, it will be installed for you\n",
    "\n",
    "* To verify the package is included:"
   ]
  },
  {
   "cell_type": "code",
   "execution_count": null,
   "metadata": {},
   "outputs": [],
   "source": [
    "! conda list"
   ]
  },
  {
   "cell_type": "markdown",
   "metadata": {},
   "source": [
    "* To import into a Python script"
   ]
  },
  {
   "cell_type": "code",
   "execution_count": null,
   "metadata": {},
   "outputs": [],
   "source": [
    "import sqlite3"
   ]
  },
  {
   "cell_type": "markdown",
   "metadata": {},
   "source": [
    "### 2- Connecting to a database <a id='III-2'></a>\n",
    "\n",
    "> To create a connection to a disk-based database, we just need to pass the name of the database to the **connect()** function of sqlite3:"
   ]
  },
  {
   "cell_type": "code",
   "execution_count": null,
   "metadata": {},
   "outputs": [],
   "source": [
    "cnxn = sqlite3.connect(r'Databases\\database.db')"
   ]
  },
  {
   "cell_type": "markdown",
   "metadata": {},
   "source": [
    "If the database does not exist, it will be created for us"
   ]
  },
  {
   "cell_type": "markdown",
   "metadata": {},
   "source": [
    "***\n",
    "## 4- Executing SQL statements <a id='IV'></a>\n",
    "\n",
    "> ### [1- SELECT statement](#IV-1)\n",
    "> ### [2- UPDATE statement](#IV-2)\n",
    "> ### [3- DELETE statement](#IV-3)\n",
    "> ### [4- INSERT INTO statement](#IV-4)\n",
    "> ### [5- Long SQL statement](#IV-5)"
   ]
  },
  {
   "cell_type": "markdown",
   "metadata": {},
   "source": [
    "- Once we have a connection to the database, either from pyodbc or sqlite3, we can then create a **Cursor** object which represents a database cursor. We can do this using the **__[cursor()](https://github.com/mkleehammer/pyodbc/wiki/Cursor)__** method"
   ]
  },
  {
   "cell_type": "code",
   "execution_count": null,
   "metadata": {},
   "outputs": [],
   "source": [
    "cursor = cnxn.cursor()"
   ]
  },
  {
   "cell_type": "markdown",
   "metadata": {},
   "source": [
    "- Now we have a Cursor object, we can execute any valid SQL query string using the Cursor **execute()** method\n",
    "\n",
    "        cursor.execute(sql_query_string)"
   ]
  },
  {
   "cell_type": "markdown",
   "metadata": {},
   "source": [
    "> The database we are connected to (database.db), has 2 tables:  \n",
    "**T_CUSTOMERS**, which contains records of 5 customers (i.e. 5 rows). **Each record has a unique customer id (id), first name (fname), and last name (lname)**  \n",
    "**T_ADDRESSES** which contains the 5 customers addresses. **Each record has a unique customer id (id), Country (country), City (city), and postal code (code)**"
   ]
  },
  {
   "cell_type": "markdown",
   "metadata": {},
   "source": [
    "### 1- SELECT statement <a id='IV-1'></a>"
   ]
  },
  {
   "cell_type": "markdown",
   "metadata": {},
   "source": [
    "- To select the **id**, **fname**, and **lname** columns from **T_CUSTOMERS**, we use SQL __[SELECT](https://www.w3schools.com/sql/sql_select.asp)__"
   ]
  },
  {
   "cell_type": "code",
   "execution_count": null,
   "metadata": {},
   "outputs": [],
   "source": [
    "cursor.execute(\"SELECT id, fname, lname FROM T_CUSTOMERS\")"
   ]
  },
  {
   "cell_type": "markdown",
   "metadata": {},
   "source": [
    "> The executed SELECT statement returns rows, which we can retrieve using one of the Cursor **fetch** functions:\n",
    "    - fetchone(): retrieves one row only, and move the Curser to the next row\n",
    "    - fetchall(): retrieves all rows, and move the Curser to the end\n",
    "    - fetchmany(size): retrieves a number of rows, and move the Curser to the next row\n",
    "    \n",
    "Note: if there are no rows left, **fetchone()** will return None, whereas **fetchall()** and **fetchmany()** will both return empty lists"
   ]
  },
  {
   "cell_type": "markdown",
   "metadata": {},
   "source": [
    "- For example, to retrieve one row only"
   ]
  },
  {
   "cell_type": "code",
   "execution_count": null,
   "metadata": {},
   "outputs": [],
   "source": [
    "row = cursor.fetchone()"
   ]
  },
  {
   "cell_type": "markdown",
   "metadata": {},
   "source": [
    "**row** will be a **Tuple of values**, one for each of the columns in the SELECT statement"
   ]
  },
  {
   "cell_type": "code",
   "execution_count": null,
   "metadata": {},
   "outputs": [],
   "source": [
    "print(row)"
   ]
  },
  {
   "cell_type": "markdown",
   "metadata": {},
   "source": [
    "- To get each column's description, the **Cursor description** attribute can be used"
   ]
  },
  {
   "cell_type": "code",
   "execution_count": null,
   "metadata": {},
   "outputs": [],
   "source": [
    "descriptions = cursor.description"
   ]
  },
  {
   "cell_type": "markdown",
   "metadata": {},
   "source": [
    "This description will be a list of **Tuples**, one for each column. Each Tuple has 7 items to describe the column, the one that matters to us is the first item, which is the column's name (or alias, if specified in the SQL SELECT)"
   ]
  },
  {
   "cell_type": "code",
   "execution_count": null,
   "metadata": {},
   "outputs": [],
   "source": [
    "for description in descriptions:\n",
    "    print(description[0])"
   ]
  },
  {
   "cell_type": "markdown",
   "metadata": {},
   "source": [
    "- To retrieve all the remaining rows as a list, we can use **fetchall()**"
   ]
  },
  {
   "cell_type": "code",
   "execution_count": null,
   "metadata": {},
   "outputs": [],
   "source": [
    "rows = cursor.fetchall()"
   ]
  },
  {
   "cell_type": "code",
   "execution_count": null,
   "metadata": {},
   "outputs": [],
   "source": [
    "for row in rows:\n",
    "    print(row)"
   ]
  },
  {
   "cell_type": "markdown",
   "metadata": {},
   "source": [
    "### 2- UPDATE statement <a id='IV-2'></a>\n",
    "\n",
    "- To update an existing record in **T_CUSTOMERS**, we use SQL __[UPDATE](https://www.w3schools.com/sql/sql_update.asp)__ **with a WHERE clause**\n",
    "\n",
    "<font color=\"red\">If you do not use a WHERE clause</font> in the UPDATE statement to specify which record(s) should be updated, <font color=\"red\">all records will be updated!</font>"
   ]
  },
  {
   "cell_type": "markdown",
   "metadata": {},
   "source": [
    "- Let's update lname='Trujillo' to 'Taqueria'"
   ]
  },
  {
   "cell_type": "code",
   "execution_count": null,
   "metadata": {},
   "outputs": [],
   "source": [
    "cursor.execute(\"UPDATE T_CUSTOMERS SET lname = 'Taqueria' WHERE lname='Trujillo'\")"
   ]
  },
  {
   "cell_type": "markdown",
   "metadata": {},
   "source": [
    "- If we want to know how many records were modified by the last SQL statement, we can use the **Cursor rowcount** attribute. This will return -1 if no SQL has been executed or if the number of rows is unknown"
   ]
  },
  {
   "cell_type": "code",
   "execution_count": null,
   "metadata": {},
   "outputs": [],
   "source": [
    "print(cursor.rowcount)"
   ]
  },
  {
   "cell_type": "markdown",
   "metadata": {},
   "source": [
    "- Let's check if the record with id=4 has been deleted by **executing** the SELECT statement again with **fetchall()**"
   ]
  },
  {
   "cell_type": "code",
   "execution_count": null,
   "metadata": {},
   "outputs": [],
   "source": [
    "for row in cursor.execute(\"SELECT id, fname, lname FROM T_CUSTOMERS\").fetchall():\n",
    "    print(row)"
   ]
  },
  {
   "cell_type": "markdown",
   "metadata": {},
   "source": [
    "### 3- DELETE Statement <a id='IV-3'></a>\n",
    "\n",
    "- To delete a customer's record from **T_CUSTOMERS**, we use SQL __[DELETE](https://www.w3schools.com/Sql/sql_delete.asp)__ **with a WHERE clause**\n",
    "\n",
    "<font color=\"red\">If you do not use a WHERE clause</font> in the DELETE statement to specify which record(s) should be deleted, <font color=\"red\">all records will be deleted!</font>"
   ]
  },
  {
   "cell_type": "markdown",
   "metadata": {},
   "source": [
    "- Let's delete the record with id=4"
   ]
  },
  {
   "cell_type": "code",
   "execution_count": null,
   "metadata": {},
   "outputs": [],
   "source": [
    "cursor.execute(\"DELETE FROM T_CUSTOMERS WHERE id=4\")"
   ]
  },
  {
   "cell_type": "markdown",
   "metadata": {},
   "source": [
    "- Let's check how many records were modified"
   ]
  },
  {
   "cell_type": "code",
   "execution_count": null,
   "metadata": {},
   "outputs": [],
   "source": [
    "print(cursor.rowcount)"
   ]
  },
  {
   "cell_type": "markdown",
   "metadata": {},
   "source": [
    "- Let's check if that record has been deleted successfully"
   ]
  },
  {
   "cell_type": "code",
   "execution_count": null,
   "metadata": {},
   "outputs": [],
   "source": [
    "for row in cursor.execute(\"SELECT id, fname, lname FROM T_CUSTOMERS\").fetchall():\n",
    "    print(row)"
   ]
  },
  {
   "cell_type": "markdown",
   "metadata": {},
   "source": [
    "### 4- INSERT INTO Statement <a id='IV-4'></a>\n",
    "\n",
    "- To insert a new record into **T_CUSTOMERS**, we use SQL __[INSERT INTO](https://www.w3schools.com/sql/sql_insert.asp)__"
   ]
  },
  {
   "cell_type": "markdown",
   "metadata": {},
   "source": [
    "- Let's insert the same record we have deleted"
   ]
  },
  {
   "cell_type": "code",
   "execution_count": null,
   "metadata": {},
   "outputs": [],
   "source": [
    "cursor.execute(\"INSERT INTO T_CUSTOMERS(id, fname, lname) VALUES (4, 'Ana', 'Trujillo')\")"
   ]
  },
  {
   "cell_type": "markdown",
   "metadata": {},
   "source": [
    "- Let's check how many records were modified"
   ]
  },
  {
   "cell_type": "code",
   "execution_count": null,
   "metadata": {},
   "outputs": [],
   "source": [
    "print(cursor.rowcount)"
   ]
  },
  {
   "cell_type": "markdown",
   "metadata": {},
   "source": [
    "- Let's check if that record has been inserted successfully"
   ]
  },
  {
   "cell_type": "code",
   "execution_count": null,
   "metadata": {},
   "outputs": [],
   "source": [
    "for row in cursor.execute(\"SELECT id, fname, lname FROM T_CUSTOMERS\").fetchall():\n",
    "    print(row)"
   ]
  },
  {
   "cell_type": "markdown",
   "metadata": {},
   "source": [
    "### 5- Long SQL Statement <a id='IV-5'></a>\n",
    "\n",
    "> Let's assume that we want to select the full name, and city and postal code of a customer with the last name 'Trujillo'. We (or someone else) has written the following SQL statement to do this:\n",
    "\n",
    "       SELECT customer.lname,\n",
    "              customer.fname,\n",
    "              address.city,\n",
    "              address.code\n",
    "       FROM   T_CUSTOMERS AS customer \n",
    "              LEFT JOIN T_ADDRESSES AS address ON address.id = customer.id \n",
    "       WHERE  customer.lname = 'Trujillo'"
   ]
  },
  {
   "cell_type": "markdown",
   "metadata": {},
   "source": [
    "- The easiest way to pass this long SQL statement to **excute()** is to use the triple-quote string format to encapsulate the statement. White-spaces (including tabs and newlines) should be ignored by the SQL database, but if we want to remove them from the left, we can use the **dedent()** function from the built-in textwrap module "
   ]
  },
  {
   "cell_type": "code",
   "execution_count": null,
   "metadata": {},
   "outputs": [],
   "source": [
    "import textwrap\n",
    "\n",
    "sql_query_string = textwrap.dedent(\"\"\"\n",
    "SELECT customer.lname,\n",
    "       customer.fname,\n",
    "       address.city,\n",
    "       address.code\n",
    "FROM   T_CUSTOMERS AS customer \n",
    "       LEFT JOIN T_ADDRESSES AS address ON address.id = customer.id \n",
    "WHERE  customer.lname = 'Trujillo' \n",
    "\"\"\")\n",
    "\n",
    "print(cursor.execute(sql_query_string).fetchall())"
   ]
  },
  {
   "cell_type": "markdown",
   "metadata": {},
   "source": [
    "- Finally, <font color=\"red\">we must call **commit()** on the **connection** that created this cursor, otherwise our changes will be lost if we close the Script</font>"
   ]
  },
  {
   "cell_type": "code",
   "execution_count": null,
   "metadata": {},
   "outputs": [],
   "source": [
    "cnxn.commit()"
   ]
  },
  {
   "cell_type": "markdown",
   "metadata": {},
   "source": [
    "***\n",
    "## 5- Read SQL statements into Pandas DataFrame <a id='V'></a>\n",
    "\n",
    "> Pandas can read an SQL statement directly into a dataframe **without using a Cursor**. This can be done using the\n",
    "**read_sql(sql, con)** function where:\n",
    "    - sql: SQL statement string\n",
    "    - con: connection object to the database"
   ]
  },
  {
   "cell_type": "markdown",
   "metadata": {},
   "source": [
    "> Let's read the last SQL statement into a DataFrame"
   ]
  },
  {
   "cell_type": "code",
   "execution_count": null,
   "metadata": {},
   "outputs": [],
   "source": [
    "import textwrap\n",
    "import pandas as pd\n",
    "\n",
    "sql_query_string = textwrap.dedent(\"\"\"\n",
    "SELECT customer.lname,\n",
    "       customer.fname,\n",
    "       address.city,\n",
    "       address.code\n",
    "FROM   T_CUSTOMERS AS customer \n",
    "       LEFT JOIN T_ADDRESSES AS address ON address.id = customer.id \n",
    "WHERE  customer.lname = 'Trujillo' \n",
    "\"\"\")\n",
    "\n",
    "df = pd.read_sql(sql_query_string, cnxn)"
   ]
  },
  {
   "cell_type": "code",
   "execution_count": null,
   "metadata": {},
   "outputs": [],
   "source": [
    "print(df)"
   ]
  }
 ],
 "metadata": {
  "kernelspec": {
   "display_name": "Python 3",
   "language": "python",
   "name": "python3"
  },
  "language_info": {
   "codemirror_mode": {
    "name": "ipython",
    "version": 3
   },
   "file_extension": ".py",
   "mimetype": "text/x-python",
   "name": "python",
   "nbconvert_exporter": "python",
   "pygments_lexer": "ipython3",
   "version": "3.6.4"
  }
 },
 "nbformat": 4,
 "nbformat_minor": 2
}
