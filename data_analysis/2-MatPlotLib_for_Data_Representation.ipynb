{
 "cells": [
  {
   "cell_type": "markdown",
   "metadata": {},
   "source": [
    "<h1 align=\"center\">Python for DATA SCIENCE</h1><Br/>\n",
    "<img src=\"https://goo.gl/ZKX5FF\" style=\"width:15%; float:centre\"><Br/>\n",
    "<h2 align=\"center\">Dr Mazen Gabriel Alhrishy</h2>\n",
    "<h5 align=\"center\"><i>MAZEN.ALHRISHY@GMAIL.COM</i></h5><Br/>\n",
    "\n",
    "<table width=25%>\n",
    "    <tr>\n",
    "        <td>\n",
    "            <a href=\"https://goo.gl/BTtR3C\"><img src=\"https://goo.gl/rMsKok\"></a>\n",
    "        </td>\n",
    "        <td>\n",
    "            <a href=\"https://goo.gl/XaRDbH\"><img src=\"https://goo.gl/KyMZcj\"></a>\n",
    "        </td>\n",
    "        <td>\n",
    "            <a href=\"https://goo.gl/9uCqS6\"><img src=\"https://goo.gl/a8gcDK\"></a>\n",
    "        </td>\n",
    "        <td>\n",
    "            <a href=\"https://goo.gl/bnt2EL\"><img src=\"https://goo.gl/1rT18x\"></a>\n",
    "        </td>\n",
    "        <td>\n",
    "            <a href=\"https://goo.gl/VmfU3S\"><img src=\"https://goo.gl/WFFkxn\"></a>\n",
    "        </td>\n",
    "    </tr>\n",
    "</table>"
   ]
  },
  {
   "cell_type": "markdown",
   "metadata": {},
   "source": [
    "***\n",
    "# 7- Matplotlib for Data Representation\n",
    "\n",
    "> ## [I- Introduction](#I)\n",
    "> ## [II- Parts of a figure](#II)\n",
    "> ## [III- Matplotlib hierarchy](#III)\n",
    "> ## [IV- Plotting function](#IV)\n",
    "> ## [V- Customizing matplotlib](#V)\n",
    "> ## [VI- Saving plots](#VI)\n",
    "\n",
    "> ### [- Exercises](#exercises)\n",
    "> ### [- Solutions](#solutions)"
   ]
  },
  {
   "cell_type": "markdown",
   "metadata": {},
   "source": [
    "***\n",
    "\n",
    "## I- Introduction <a id='I'></a>\n",
    "\n",
    "> ## [1. History](#I-1)\n",
    "> ## [2. Installation](#I-2)\n",
    "> ## [3. Motivation](#I-3)"
   ]
  },
  {
   "cell_type": "markdown",
   "metadata": {},
   "source": [
    "### 1- History <a id='I-1'></a>\n",
    "\n",
    "* In 2003, **John D. Hunter** was developing an EEG analysis application in MATLAB. As the application grew in complexity, he decided to start over in Python. However, he was having difficulty finding a 2D plotting package for Python\n",
    "\n",
    "<img src=\"https://goo.gl/rk5Vhn\" style=\"width:30%; border-radius:50%; float:left; padding:10px 30px 10px 30px;\"/>\n",
    "<Br/>\n",
    "<Br/>\n",
    "\"Finding no package that suited me just right, I did what any self-respecting Python programmer would do: rolled up my sleeves and dived in\"\n",
    "<Br/>\n",
    "— John D. Hunter (1968-2012), the original author of Matplotlib\n",
    "<Br/>    \n",
    "<Br/>\n",
    "<Br/>\n",
    "* The result was a Python extension to emulate the **MAT**LAB graphics commands, **mat**plotlib, with the philosophy that you should be able to create simple plots with just a few commands, or just one!\n",
    "\n",
    "\n",
    "* Matplotlib is written primarily in pure Python, but it also makes heavy use of NumPy and other extension code to provide good performance even for large arrays\n",
    "\n",
    "\n",
    "* __[Matplotlib website](https://matplotlib.org/index.html)__"
   ]
  },
  {
   "cell_type": "markdown",
   "metadata": {},
   "source": [
    "### 2- Installation <a id='I-2'></a>\n",
    "\n",
    "* Matplotlib requires a large number of dependencies, however, the Anaconda Python distribution already provides matplotlib built-in\n",
    "\n",
    "* If you've created a basic virtual environment, you can get Matplotlib using conda:"
   ]
  },
  {
   "cell_type": "code",
   "execution_count": null,
   "metadata": {},
   "outputs": [],
   "source": [
    "! conda install matplotlib --y"
   ]
  },
  {
   "cell_type": "markdown",
   "metadata": {},
   "source": [
    "* To verify the package was installed"
   ]
  },
  {
   "cell_type": "code",
   "execution_count": null,
   "metadata": {},
   "outputs": [],
   "source": [
    "! conda list"
   ]
  },
  {
   "cell_type": "markdown",
   "metadata": {},
   "source": [
    "* To enable interactive figures in a live Jupyter notebook session (you don't need this in your Python script!)"
   ]
  },
  {
   "cell_type": "code",
   "execution_count": null,
   "metadata": {},
   "outputs": [],
   "source": [
    "import matplotlib\n",
    "matplotlib.use('nbagg')"
   ]
  },
  {
   "cell_type": "code",
   "execution_count": null,
   "metadata": {},
   "outputs": [],
   "source": [
    "import numpy as np"
   ]
  },
  {
   "cell_type": "markdown",
   "metadata": {},
   "source": [
    "* To import into a Python script"
   ]
  },
  {
   "cell_type": "code",
   "execution_count": null,
   "metadata": {},
   "outputs": [],
   "source": [
    "import matplotlib.pyplot as plt"
   ]
  },
  {
   "cell_type": "markdown",
   "metadata": {},
   "source": [
    "### 3- Motivation <a id='I-3'></a>\n",
    "\n",
    "* Exploring data and reporting insight\n",
    "\n",
    "\n",
    "* The __[GapMinder](https://www.gapminder.org/downloads/updated-gapminder-world-poster-2015/)__ image below shows the Life Expectancy and Income of 182 nations in the year 2015. Each bubble is a country, and the size of the bubble is its population. Each region also has a diffrent color\n",
    "\n",
    "<img src=\"https://goo.gl/Xk6bLS\" width=\"90%\" height=\"90%\"/>"
   ]
  },
  {
   "cell_type": "markdown",
   "metadata": {},
   "source": [
    "* At the end you will do something similar in matplotlib!"
   ]
  },
  {
   "cell_type": "markdown",
   "metadata": {},
   "source": [
    "## II- Parts of a figure <a id=\"II\"></a>\n",
    "\n",
    "> ### [1- Figure](#II-1)\n",
    "> ### [2- Axes](#II-2)\n",
    "> ### [3- Axis](#II-3)\n",
    "> ### [4- Artist](#II-4)"
   ]
  },
  {
   "cell_type": "markdown",
   "metadata": {
    "collapsed": true
   },
   "source": [
    "    The following image shows the anatomy of a matplotlib figure. All objects are encircled and labelled.\n",
    "    (source: matplotlib.org)"
   ]
  },
  {
   "cell_type": "markdown",
   "metadata": {},
   "source": [
    "<img src=\"https://goo.gl/mLHZcD\" width=\"65%\"/>"
   ]
  },
  {
   "cell_type": "markdown",
   "metadata": {},
   "source": [
    "### 1- Figure <a id='II-1'></a>\n",
    "\n",
    "* This refers to the whole figure that everything is drawn on (i.e. top level container for all plot elements)\n",
    "\n",
    "\n",
    "* The easiest way to create a new Figure object is with **figure()**"
   ]
  },
  {
   "cell_type": "code",
   "execution_count": null,
   "metadata": {},
   "outputs": [],
   "source": [
    "fig = plt.figure()\n",
    "\n",
    "print(type(fig))"
   ]
  },
  {
   "cell_type": "markdown",
   "metadata": {},
   "source": [
    "* The Figure object will not show until you ask for it using the **show()** method"
   ]
  },
  {
   "cell_type": "code",
   "execution_count": null,
   "metadata": {},
   "outputs": [],
   "source": [
    "fig.show()"
   ]
  },
  {
   "cell_type": "markdown",
   "metadata": {},
   "source": [
    "* You can control the size of the Figure by calling the **figsize(width, height)** method (given in inches)"
   ]
  },
  {
   "cell_type": "code",
   "execution_count": null,
   "metadata": {},
   "outputs": [],
   "source": [
    "fig = plt.figure(figsize=(2, 2))\n",
    "fig.show()"
   ]
  },
  {
   "cell_type": "markdown",
   "metadata": {},
   "source": [
    "> The Figure class docs can be found __[here](https://matplotlib.org/api/_as_gen/matplotlib.figure.Figure.html#matplotlib.figure.Figure)__"
   ]
  },
  {
   "cell_type": "markdown",
   "metadata": {},
   "source": [
    "### 2- Axes <a id='II-2'></a>\n",
    "\n",
    "* This refers to the region of the figure with the data space (what you think of as a 'plot' inside the inner box)\n",
    "\n",
    "\n",
    "* A figure can contain many Axes (at least one to be useful). A given Axes object can only belong to one Figure object\n",
    "\n",
    "\n",
    "* In fact, the Figure we've created does not yet have an Axes object. To add one, we can call the **add_axes([left, bottom, width, height])** method, which also returns the Axes object itself"
   ]
  },
  {
   "cell_type": "code",
   "execution_count": null,
   "metadata": {},
   "outputs": [],
   "source": [
    "fig = plt.figure(figsize=(5, 5))\n",
    "\n",
    "ax = fig.add_axes([0.125,0.11,0.775,0.77])\n",
    "print(type(ax))\n",
    "\n",
    "fig.show()"
   ]
  },
  {
   "cell_type": "markdown",
   "metadata": {},
   "source": [
    "* However, **add_axes([left, bottom, width, height])** is not usually used as arguments have to be given in fractions of the figure width and height to place the Axes at a predefined position (who wants to do that!)\n",
    "\n",
    "\n",
    "* Instead, the **add_subplot(nrows, ncols, index)** method is used which automatically places an Axes on a grid specified by **nrows X ncols** at the given **index**"
   ]
  },
  {
   "cell_type": "code",
   "execution_count": null,
   "metadata": {},
   "outputs": [],
   "source": [
    "fig = plt.figure(figsize=(5, 5))\n",
    "\n",
    "ax1 = fig.add_subplot(2, 2, 1)  # place axes at index=1 on a grid of 2X2 and return axes\n",
    "ax2 = fig.add_subplot(2, 2, 2)  # place axes at index=2\n",
    "ax3 = fig.add_subplot(2, 2, 3)  # place axes at index=3\n",
    "ax4 = fig.add_subplot(2, 2, 4)  # place axes at index=4\n",
    "\n",
    "fig.show()"
   ]
  },
  {
   "cell_type": "markdown",
   "metadata": {},
   "source": [
    "* **subplots(nrows, ncols)** is a shorthand way to create a Figure and to add one/multiple Axes on a gird at the same time. It returns a tuple of (Figure object, **nrows X ncols** numpy array of Axes objects)"
   ]
  },
  {
   "cell_type": "code",
   "execution_count": null,
   "metadata": {},
   "outputs": [],
   "source": [
    "fig, axes = plt.subplots(1, 2, figsize=(8, 4))\n",
    "ax0, ax1 = axes\n",
    "fig.show()"
   ]
  },
  {
   "cell_type": "markdown",
   "metadata": {},
   "source": [
    "* Each axes contains two (or three in the case of 3D) axis objects (be aware of the difference between axes and axis)\n",
    "\n",
    "\n",
    "* Each Axes has:\n",
    "    - A title, that can be set via **set_title()**\n",
    "    - An x-label, that can be set via **set_xlabel()**\n",
    "    - A y-label, that can be set via **set_ylabel()**\n",
    "    \n",
    "    \n",
    "* **set(title='', x-label='', y-label='')** is a shorthand way to set the title, and labels"
   ]
  },
  {
   "cell_type": "code",
   "execution_count": null,
   "metadata": {},
   "outputs": [],
   "source": [
    "fig, axes = plt.subplots(1, 2, figsize=(8, 4))  # axes is 1x2 numpy array\n",
    "\n",
    "ax0, ax1 = axes  # unpack array\n",
    "\n",
    "ax0.set_title('Axes 1 title')\n",
    "ax0.set_ylabel('Y-Axis 1 label')\n",
    "ax0.set_xlabel('X-Axis 1 label')\n",
    "\n",
    "# using shorthand set\n",
    "ax1.set(title='Axes 2 title', \n",
    "        ylabel='Y-Axis 2 label', \n",
    "        xlabel='X-Axis 2 label')\n",
    "\n",
    "fig.show()"
   ]
  },
  {
   "cell_type": "markdown",
   "metadata": {},
   "source": [
    "> The Axes class docs can be found __[here](https://matplotlib.org/api/axes_api.html)__"
   ]
  },
  {
   "cell_type": "markdown",
   "metadata": {},
   "source": [
    "### 3- Axis <a id='II-3'></a>\n",
    "\n",
    "* This refer to the number-line-like object. Axis objects take care of: \n",
    "    - Setting the data limits \n",
    "    - Generating the ticks (the marks on the Axis), and setting ticks location\n",
    "    - Generating the ticklabels (strings labeling the ticks), and formatting ticklabels\n",
    "    \n",
    "    \n",
    "* However, the Axes object also has methods to control: \n",
    "    - data limits, via **set_xlim()** and **set_ylim()**\n",
    "    - ticks, via **set_xticks()** and **set_yticks()**\n",
    "    - tick labels, via **set_xticklabels()** and **set_yticklabels()**\n",
    "   \n",
    "\n",
    "Therefore, unless we need a finer control over individual Axis, we will only use Axes methods to control Axis\n",
    "\n",
    "\n",
    "* **set(xlim=[], xticks=[], xticklabels=[], ylim=[], yticks=[], yticklabels=[])** is a shorthand way to set the data limits, and ticks and tick-labels"
   ]
  },
  {
   "cell_type": "code",
   "execution_count": null,
   "metadata": {},
   "outputs": [],
   "source": [
    "fig, ax = plt.subplots(1, 1, figsize=(4, 4), tight_layout=True)  # see what happens without tight_layout=True\n",
    "\n",
    "ax.set_title('Axes title')\n",
    "ax.set_ylabel('Y-Axis label')\n",
    "ax.set_xlabel('X-Axis label')\n",
    "\n",
    "ax.set_xlim([1, 5])\n",
    "ax.set_xticks([1, 3, 5])\n",
    "ax.set_xticklabels(['1K', '3K', '5K'])\n",
    "\n",
    "# using shorthand set\n",
    "ax.set(ylim=[1, 100], \n",
    "       yticks=[20, 40, 60, 80], \n",
    "       yticklabels=['20Y', '40Y', '60Y', '80Y'])\n",
    "\n",
    "fig.show()"
   ]
  },
  {
   "cell_type": "markdown",
   "metadata": {},
   "source": [
    "> The Axis class docs can be found __[here](https://matplotlib.org/api/axis_api.html)__"
   ]
  },
  {
   "cell_type": "markdown",
   "metadata": {},
   "source": [
    "### 4- Artist <a id='II-4'></a>\n",
    "\n",
    "* Everything you can see on the figure is an artist (even the Figure, Axes, and Axis objects themselves!)\n",
    "\n",
    "* Most Artists belong to an Axes; such an Artist cannot be shared by multiple Axes, or moved from one to another\n",
    "\n",
    "* For example, the plotted Line2D object below is an Artist"
   ]
  },
  {
   "cell_type": "code",
   "execution_count": null,
   "metadata": {},
   "outputs": [],
   "source": [
    "fig, ax = plt.subplots(1, 1, figsize=(4, 4), tight_layout=True)\n",
    "\n",
    "x = np.linspace(0, 2, 100)\n",
    "y = range(len(x))\n",
    "\n",
    "line = ax.plot(x, y, label='linear')  # plot y versus x as a line\n",
    "\n",
    "ax.set_title('Linear plot')\n",
    "ax.set_xlabel('x')\n",
    "ax.set_ylabel('y')\n",
    "\n",
    "fig.legend()\n",
    "fig.show()"
   ]
  },
  {
   "cell_type": "markdown",
   "metadata": {},
   "source": [
    "## III- Matplotlib hierarchy <a id='III'></a>\n",
    "\n",
    "> ### [1- The pyplot module](#III-1)\n",
    "> ### [2- General concept](#III-2)\n",
    "> ### [3- Coding style](#III-3)"
   ]
  },
  {
   "cell_type": "markdown",
   "metadata": {},
   "source": [
    "### 1- The pyplot module <a id='III-1'></a>\n",
    "\n",
    "* Why did we use **pyplot** (imported as plt) functions in some calls (e.g. **plt.subplots()**), while we used objects functions in other calls (e.g. **axes.set_title()**)?\n",
    "\n",
    "\n",
    "* In fact, we could have only used **pyplot** functions to create the same previous plot!"
   ]
  },
  {
   "cell_type": "code",
   "execution_count": null,
   "metadata": {},
   "outputs": [],
   "source": [
    "plt.close()  # first we should close any existing Figures (why?)"
   ]
  },
  {
   "cell_type": "code",
   "execution_count": null,
   "metadata": {},
   "outputs": [],
   "source": [
    "x = np.linspace(0, 2, 100)\n",
    "y = range(len(x))\n",
    "\n",
    "plt.plot(x, y, label='linear')\n",
    "\n",
    "plt.title('Linear plot')\n",
    "plt.xlabel('x')\n",
    "plt.ylabel('y')\n",
    "\n",
    "plt.legend()\n",
    "plt.show()"
   ]
  },
  {
   "cell_type": "markdown",
   "metadata": {},
   "source": [
    "* What has just happened!? We didn't create a Figure object, nor added Axes to it! We also set all the Axes elements (title, x-label, and y-label) using **pyplot** functions directly, not the Axes methods\n",
    "\n",
    "* It's all about hierarchy!\n",
    "\n",
    "> The pyplot module docs can be found __[here](https://matplotlib.org/api/_as_gen/matplotlib.pyplot.html)__"
   ]
  },
  {
   "cell_type": "markdown",
   "metadata": {},
   "source": [
    "### 2- General concept <a id='III-2'></a>\n",
    "\n",
    "\n",
    "> The purpose of a plotting package is to assist you in visualizing your data as easily as possible, with all the necessary control – that is, by using relatively high-level commands most of the time, and still have the ability to use the low-level commands when needed. Therefore, everything in matplotlib is organized in a hierarchy\n",
    "\n",
    "#### High-level\n",
    "* At the top level, **pyplot** provides an environment where simple functions are used to add elements to the **current Axes** in the **current Figure** (known as the “state-machine environment”). The state-machine **implicitly and automatically creates Figures and Axes** to achieve the desired plot\n",
    "\n",
    ">**plt.plot()** automatically create a new Figure and Axes objects (if don't exist already), and add the plot element to the **current Axes**. Any subsequent calls using pyplot will also affect the **current Axes***\n",
    "\n",
    "*That's why we had to close any existing Figures before making any calls using pyplot\n",
    "\n",
    "#### Low-level\n",
    "* At the next level, **pyplot** is used only for a few functions such as Figure creation, and the user **explicitly creates and keeps track of the Figure and Axes objects** (known as \"object-oriented approach\"). These Axes objects are then used for most plotting actions\n",
    "\n",
    ">**plt.subplots()** create the Figure and the Axes. Any subsequent calls using the created Axes will only affect **that Axes***\n",
    "\n",
    "\n",
    "#### How are they related?\n",
    "\n",
    "* A high-level function is the equivalent of calling the low-level functoin on the **current Axes**\n",
    "* For example:\n",
    "\n",
    "> **plt.title()** is the pyplot equivalent of calling **set_title()** on the **current Axes** <br>\n",
    "**plt.xlim()** is the pyplot equivalent of calling **set_xlim()** on the **current Axes** <br>\n",
    "**plt.xticks()** is the pyplot equivalent of calling **set_xticks()** on the **current Axes** <br>\n",
    "**plt.xlabel()** is the pyplot equivalent of calling **set_xlabel()** on the **current Axes** <br>"
   ]
  },
  {
   "cell_type": "markdown",
   "metadata": {},
   "source": [
    "### 3- Coding style <a id='III-3'></a>"
   ]
  },
  {
   "cell_type": "markdown",
   "metadata": {},
   "source": [
    "* How do you choose which coding style to use?\n",
    "\n",
    "    - The \"object-oriented\" approach is more explicit and offers fine control, but more verbose (i.e. extra typing)\n",
    "\n",
    "    - The “state-machine\" approach is less verbose, but less explicit and does not offer similar control\n",
    "\n",
    "\n",
    "> It is up to you to choose either approaches as long as your style is consistent. However, it is suggested (and common) to use pyplot to create the Figures and Axes, and then the \"object-oriented\" approach for subsequent plotting"
   ]
  },
  {
   "cell_type": "markdown",
   "metadata": {},
   "source": [
    "***\n",
    "## IV- Plotting functions <a id=\"IV\"></a>\n",
    "\n",
    "> ### [1- Types of inputs](#IV-1)\n",
    "> ### [2- Examples](#IV-2)"
   ]
  },
  {
   "cell_type": "markdown",
   "metadata": {},
   "source": [
    "### 1- Types of inputs <a id=\"IV-1\"></a>\n",
    "\n",
    "* All plotting functions expect **numpy.array** as input\n",
    "\n",
    "\n",
    "* Classes that are ‘array-like’ may or may not work as intended. Therefore, it is best to convert these to **numpy.array** objects prior to plotting"
   ]
  },
  {
   "cell_type": "markdown",
   "metadata": {},
   "source": [
    "### 2- Examples <a id=\"IV-2\"></a>\n",
    "\n",
    "* There are a large number of plotting functions available in matplotlib which you can view samples of __[here](https://matplotlib.org/tutorials/introductory/sample_plots.html#sphx-glr-tutorials-introductory-sample-plots-py)__\n",
    "\n",
    "\n",
    "* Some of the most common functions are listed below"
   ]
  },
  {
   "cell_type": "markdown",
   "metadata": {
    "collapsed": true
   },
   "source": [
    "#### Line plot function __[docs](https://matplotlib.org/api/_as_gen/matplotlib.pyplot.plot.html)__"
   ]
  },
  {
   "cell_type": "code",
   "execution_count": null,
   "metadata": {},
   "outputs": [],
   "source": [
    "import numpy as np\n",
    "\n",
    "# example data\n",
    "x = np.arange(0.0, 2.0, 0.01)\n",
    "y = 1 + np.sin(2 * np.pi * x)\n",
    "\n",
    "fig, ax = plt.subplots()  # same as subplots(111)\n",
    "line = ax.plot(x, y)\n",
    "\n",
    "ax.set(xlabel='time (s)', \n",
    "       ylabel='voltage (mV)', \n",
    "       title='About as simple as it gets, folks')\n",
    "\n",
    "ax.grid()  # show a grid\n",
    "plt.show()"
   ]
  },
  {
   "cell_type": "markdown",
   "metadata": {
    "collapsed": true
   },
   "source": [
    "#### Scatter plot function (__[docs](https://matplotlib.org/api/_as_gen/matplotlib.pyplot.scatter.html)__) "
   ]
  },
  {
   "cell_type": "code",
   "execution_count": null,
   "metadata": {},
   "outputs": [],
   "source": [
    "# example data\n",
    "x = np.arange(0.0, 2.0, 0.01)\n",
    "y = 1 + np.sin(2 * np.pi * x)\n",
    "\n",
    "fig, ax = plt.subplots()  # same as subplots(111)\n",
    "ax.scatter(x, y)\n",
    "\n",
    "ax.set(xlabel='time (s)', \n",
    "       ylabel='voltage (mV)', \n",
    "       title='About as simple as it gets, folks')\n",
    "\n",
    "ax.grid()  # show a grid\n",
    "plt.show()"
   ]
  },
  {
   "cell_type": "markdown",
   "metadata": {
    "collapsed": true
   },
   "source": [
    "#### Histogram function (__[docs](https://matplotlib.org/api/_as_gen/matplotlib.pyplot.hist.html)__)"
   ]
  },
  {
   "cell_type": "code",
   "execution_count": null,
   "metadata": {},
   "outputs": [],
   "source": [
    "import numpy as np\n",
    "\n",
    "np.random.seed(19680801)\n",
    "\n",
    "# example data\n",
    "mu = 100  # mean of distribution\n",
    "sigma = 15  # standard deviation of distribution\n",
    "x = mu + sigma * np.random.randn(437)\n",
    "\n",
    "fig, ax = plt.subplots(tight_layout=True)\n",
    "\n",
    "# the histogram of the data\n",
    "ax.hist(x, bins=50, density=1)\n",
    "\n",
    "ax.set_xlabel('Smarts')\n",
    "ax.set_ylabel('Probability density')\n",
    "ax.set_title(r'Histogram of IQ: $\\mu=100$, $\\sigma=15$')\n",
    "\n",
    "plt.show()"
   ]
  },
  {
   "cell_type": "markdown",
   "metadata": {
    "collapsed": true
   },
   "source": [
    "#### Bar charts function (__[docs](https://matplotlib.org/api/_as_gen/matplotlib.pyplot.bar.html)__)"
   ]
  },
  {
   "cell_type": "code",
   "execution_count": null,
   "metadata": {},
   "outputs": [],
   "source": [
    "import numpy as np\n",
    "\n",
    "# example data\n",
    "means_men = np.array([20, 35, 30, 35, 27])\n",
    "std_men = np.array([2, 3, 4, 1, 2])\n",
    "\n",
    "n_groups = len(means_men)\n",
    "index = np.arange(n_groups)\n",
    "\n",
    "fig, ax = plt.subplots(tight_layout=True)\n",
    "\n",
    "ax.bar(x=index, \n",
    "       height=means_men,\n",
    "       width=0.35,\n",
    "       alpha=0.4, \n",
    "       color='r',\n",
    "       yerr=std_men, \n",
    "       label='Men')\n",
    "\n",
    "ax.set(title='Scores by group', xlabel='Group', ylabel='Scores')\n",
    "ax.set(xticks=index, xticklabels=['A', 'B', 'C', 'D', 'E'])\n",
    "\n",
    "ax.legend()\n",
    "plt.show()"
   ]
  },
  {
   "cell_type": "markdown",
   "metadata": {
    "collapsed": true
   },
   "source": [
    "#### Pie chart function (__[docs](https://matplotlib.org/api/_as_gen/matplotlib.pyplot.pie.html)__)"
   ]
  },
  {
   "cell_type": "code",
   "execution_count": null,
   "metadata": {},
   "outputs": [],
   "source": [
    "# example data\n",
    "labels = ['Frogs', 'Hogs', 'Dogs', 'Logs']\n",
    "sizes = np.array([15, 30, 45, 10])\n",
    "explode = [0, 0.1, 0, 0]  # only \"explode\" the 2nd slice (i.e. 'Hogs')\n",
    "\n",
    "fig, ax = plt.subplots()\n",
    "ax.pie(x=sizes, \n",
    "       explode=explode, \n",
    "       labels=labels, \n",
    "       autopct='%1.1f%%',\n",
    "       shadow=True, \n",
    "       startangle=90)\n",
    "\n",
    "ax.axis('equal')  # Equal aspect ratio ensures that pie is drawn as a circle\n",
    "\n",
    "plt.show()"
   ]
  },
  {
   "cell_type": "markdown",
   "metadata": {},
   "source": [
    "#### - Exercises <a id='exercises'></a>\n",
    "> Modified from dataCamp.com\n",
    "\n",
    "The pickle file ./Data_Samples/GapMinder_2007.p includes fours lists for 142 countries in this order:\n",
    "    - gdp_cap: the GDP per capita for each country expressed in US Dollars \n",
    "    - life_exp: the life expectancy for each country expressed in years\n",
    "    - pop: the population for each country expressed in millions of people\n",
    "    - col: the colour representation for each country \n",
    "\n",
    "1. Read the pickle file into these 4 lists, then convert them into 4 numpy arrays\n",
    "\n",
    "2. To see how life expectancy in different countries is distributed, plot a histogram of the values in life_exp using 20 bins\n",
    "\n",
    "3. Plot a scatter chart, with gdp_cap on the x-axis, and life_exp on the y-axis. Set the: \n",
    "    - title to 'World Development in 2007'\n",
    "    - xlabel to 'GDP per Capita [in USD]'\n",
    "    - ylabel to 'Life Expectancy [in years]'\n",
    "    - xticks values to [1000,10000,100000]\n",
    "    - xticks labels to ['1k','10k','100k']\n",
    "\n",
    "4. Is there a correlation between GDP and life expectancy? For this you need to display the GDP on a logarithmic scale\n",
    "\n",
    "5. Make the size of the scatter dots correspond to the population by setting the size argument to population\n",
    "\n",
    "6. Double the values in the population array to double the scatter dots size\n",
    "\n",
    "7. Add colours to the scatter dots by setting the colour argument to the colour array\n",
    "\n",
    "8. Change the opacity of the scatter dots by setting the alpha argument to 0.5"
   ]
  },
  {
   "cell_type": "markdown",
   "metadata": {},
   "source": [
    "#### - Solutions <a id='solutions'></a>"
   ]
  },
  {
   "cell_type": "code",
   "execution_count": null,
   "metadata": {},
   "outputs": [],
   "source": [
    "import matplotlib\n",
    "matplotlib.use('nbagg')"
   ]
  },
  {
   "cell_type": "code",
   "execution_count": null,
   "metadata": {},
   "outputs": [],
   "source": [
    "import matplotlib.pyplot as plt\n",
    "import numpy as np\n",
    "import pickle\n",
    "import os\n",
    "\n",
    "# read the pickle file into 4 lists\n",
    "filename = os.path.join('Data_Samples', 'GapMinder_2007.p')\n",
    "\n",
    "with open(filename, \"rb\") as f:\n",
    "    [gdp_cap, life_exp, pop, col] = pickle.load(f)\n",
    "\n",
    "# convert lists into numpy arrays\n",
    "np_gdp_cap = np.array(gdp_cap)\n",
    "np_life_exp = np.array(life_exp)\n",
    "np_pop = np.array(pop)\n",
    "np_col = np.array(col)"
   ]
  },
  {
   "cell_type": "code",
   "execution_count": null,
   "metadata": {},
   "outputs": [],
   "source": [
    "# 2- life_exp histogram\n",
    "fig, ax = plt.subplots()\n",
    "ax.hist(life_exp, 20)\n",
    "fig.show()"
   ]
  },
  {
   "cell_type": "code",
   "execution_count": null,
   "metadata": {},
   "outputs": [],
   "source": [
    "# 3- scatter chart\n",
    "fig, ax = plt.subplots()\n",
    "ax.scatter( x=gdp_cap, y=life_exp)\n",
    "\n",
    "ax.set_xlabel('GDP per Capita [in USD]')\n",
    "ax.set_ylabel('Life Expectancy [in years]')\n",
    "ax.set_title('World Development in 2007')\n",
    "ax.set_xticks([1000, 10000, 100000], ['1k', '10k', '100k'])\n",
    "\n",
    "ax.grid(True)\n",
    "fig.show()"
   ]
  },
  {
   "cell_type": "code",
   "execution_count": null,
   "metadata": {},
   "outputs": [],
   "source": [
    "# 4- display the GDP on a logarithmic scale\n",
    "fig, ax = plt.subplots()\n",
    "ax.scatter( x=gdp_cap, y=life_exp)\n",
    "\n",
    "ax.set_xscale('log')\n",
    "ax.set_xlabel('GDP per Capita [in USD]')\n",
    "ax.set_ylabel('Life Expectancy [in years]')\n",
    "ax.set_title('World Development in 2007')\n",
    "ax.set_xticks([1000, 10000, 100000], ['1k', '10k', '100k'])\n",
    "\n",
    "ax.grid(True)\n",
    "fig.show()"
   ]
  },
  {
   "cell_type": "code",
   "execution_count": null,
   "metadata": {},
   "outputs": [],
   "source": [
    "# 5- make the size of the scatter dots correspond to the population\n",
    "fig, ax = plt.subplots()\n",
    "ax.scatter( x=gdp_cap, y=life_exp, s=np.array(pop))\n",
    "\n",
    "ax.set_xscale('log')\n",
    "ax.set_xlabel('GDP per Capita [in USD]')\n",
    "ax.set_ylabel('Life Expectancy [in years]')\n",
    "ax.set_title('World Development in 2007')\n",
    "ax.set_xticks([1000, 10000, 100000], ['1k', '10k', '100k'])\n",
    "\n",
    "ax.grid(True)\n",
    "fig.show()"
   ]
  },
  {
   "cell_type": "code",
   "execution_count": null,
   "metadata": {},
   "outputs": [],
   "source": [
    "# 6- double the values in the population array to double the scatter dots size\n",
    "fig, ax = plt.subplots()\n",
    "ax.scatter( x=gdp_cap, y=life_exp, s=np.array(pop) * 2)\n",
    "\n",
    "ax.set_xscale('log')\n",
    "ax.set_xlabel('GDP per Capita [in USD]')\n",
    "ax.set_ylabel('Life Expectancy [in years]')\n",
    "ax.set_title('World Development in 2007')\n",
    "ax.set_xticks([1000, 10000, 100000], ['1k', '10k', '100k'])\n",
    "\n",
    "ax.grid(True)\n",
    "fig.show()"
   ]
  },
  {
   "cell_type": "code",
   "execution_count": null,
   "metadata": {},
   "outputs": [],
   "source": [
    "# 7- sdd colours to the scatter dots\n",
    "fig, ax = plt.subplots()\n",
    "ax.scatter( x=gdp_cap, y=life_exp, s=np.array(pop) * 2, c=col)\n",
    "\n",
    "ax.set_xscale('log')\n",
    "ax.set_xlabel('GDP per Capita [in USD]')\n",
    "ax.set_ylabel('Life Expectancy [in years]')\n",
    "ax.set_title('World Development in 2007')\n",
    "ax.set_xticks([1000, 10000, 100000], ['1k', '10k', '100k'])\n",
    "\n",
    "ax.grid(True)\n",
    "fig.show()"
   ]
  },
  {
   "cell_type": "code",
   "execution_count": null,
   "metadata": {},
   "outputs": [],
   "source": [
    "# 8- change the opacity of the scatter dots\n",
    "fig, ax = plt.subplots()\n",
    "ax.scatter( x=gdp_cap, y=life_exp, s=np.array(pop) * 2, c=col, alpha=0.5)\n",
    "\n",
    "ax.set_xscale('log')\n",
    "ax.set_xlabel('GDP per Capita [in USD]')\n",
    "ax.set_ylabel('Life Expectancy [in years]')\n",
    "ax.set_title('World Development in 2007')\n",
    "ax.set_xticks([1000, 10000, 100000], ['1k', '10k', '100k'])\n",
    "\n",
    "ax.grid(True)\n",
    "fig.show()"
   ]
  }
 ],
 "metadata": {
  "kernelspec": {
   "display_name": "Python 3",
   "language": "python",
   "name": "python3"
  },
  "language_info": {
   "codemirror_mode": {
    "name": "ipython",
    "version": 3
   },
   "file_extension": ".py",
   "mimetype": "text/x-python",
   "name": "python",
   "nbconvert_exporter": "python",
   "pygments_lexer": "ipython3",
   "version": "3.7.4"
  }
 },
 "nbformat": 4,
 "nbformat_minor": 2
}
