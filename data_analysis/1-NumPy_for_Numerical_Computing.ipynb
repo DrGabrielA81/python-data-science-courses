{
 "cells": [
  {
   "cell_type": "markdown",
   "metadata": {},
   "source": [
    "<h1 align=\"center\">Python for DATA SCIENCE</h1><Br/>\n",
    "<img src=\"https://goo.gl/ZKX5FF\" style=\"width:15%; float:centre\"><Br/>\n",
    "<h2 align=\"center\">Dr Mazen Gabriel Alhrishy</h2>\n",
    "<h5 align=\"center\"><i>MAZEN.ALHRISHY@GMAIL.COM</i></h5><Br/>\n",
    "\n",
    "<table width=25%>\n",
    "    <tr>\n",
    "        <td>\n",
    "            <a href=\"https://goo.gl/BTtR3C\"><img src=\"https://goo.gl/rMsKok\"></a>\n",
    "        </td>\n",
    "        <td>\n",
    "            <a href=\"https://goo.gl/XaRDbH\"><img src=\"https://goo.gl/KyMZcj\"></a>\n",
    "        </td>\n",
    "        <td>\n",
    "            <a href=\"https://goo.gl/9uCqS6\"><img src=\"https://goo.gl/a8gcDK\"></a>\n",
    "        </td>\n",
    "        <td>\n",
    "            <a href=\"https://goo.gl/bnt2EL\"><img src=\"https://goo.gl/1rT18x\"></a>\n",
    "        </td>\n",
    "        <td>\n",
    "            <a href=\"https://goo.gl/VmfU3S\"><img src=\"https://goo.gl/WFFkxn\"></a>\n",
    "        </td>\n",
    "    </tr>\n",
    "</table>"
   ]
  },
  {
   "cell_type": "markdown",
   "metadata": {},
   "source": [
    "# 6- NumPy for Numerical Computing\n",
    "\n",
    "> ## [I- Introduction](#I)\n",
    "> ## [II- Array creation](#II)\n",
    "> ## [III- Basic arithmetic](#III)\n",
    "> ## [IV- Indexing, slicing and iterating](#IV)\n",
    "> ## [V- Shape Manipulation](#V)\n",
    "> ## [VI- Universal functions (ufunc)](#VI)\n",
    "\n",
    "### [- Exercise](#E)\n",
    "### [- Solutions](#S)"
   ]
  },
  {
   "cell_type": "markdown",
   "metadata": {},
   "source": [
    "***\n",
    "\n",
    "## I- Introduction <a id='I'></a>\n",
    "\n",
    "> ## [1. History](#I-1)\n",
    "> ## [2. Installation](#I-2)\n",
    "> ## [3. NumPy arrays](#I-3)\n",
    "> ## [4. Motivation](#I-4)"
   ]
  },
  {
   "cell_type": "markdown",
   "metadata": {},
   "source": [
    "### 1- History <a id='I-1'></a>\n",
    "\n",
    "* In early 2005, **Travis Oliphant*** wanted to unify the community around a single array package and ported Numarray's features to Numeric, releasing the result as the **Num**erical **Py**thon extension or **NumPy 1.0** in 2006\n",
    "\n",
    "<img src=\"https://goo.gl/d6Ddwm\" style=\"width:30%; border-radius:30%; float:left; padding:10px 30px 10px 30px;\"/>\n",
    "\n",
    "* Travis Oliphant is an American data scientist and businessman who is also the founder of Anaconda\n",
    "\n",
    "\n",
    "* NumPy is the fundamental package for scientific computing with Python. It contains among other things:<br>\n",
    "     * A powerful N-dimensional array object<br>\n",
    "     * Sophisticated (broadcasting) functions<br>\n",
    "     * Useful linear algebra, Fourier transform, and random number capabilities\n",
    "\n",
    "\n",
    "* NumPy is mostly written in C and wrapped in Python to provide good performance for large arrays\n",
    "\n",
    "\n",
    "* __[NumPy website](http://www.numpy.org)__"
   ]
  },
  {
   "cell_type": "markdown",
   "metadata": {},
   "source": [
    "### 2- Installation <a id='I-2'></a>\n",
    "\n",
    "* The Anaconda Python distribution includes all the key packages needed to use NumPy. However, if you've created a basic  virtual environment, you can get NumPy using conda:"
   ]
  },
  {
   "cell_type": "code",
   "execution_count": null,
   "metadata": {},
   "outputs": [],
   "source": [
    "! conda install numpy --y"
   ]
  },
  {
   "cell_type": "markdown",
   "metadata": {},
   "source": [
    "* To verify the package was installed"
   ]
  },
  {
   "cell_type": "code",
   "execution_count": null,
   "metadata": {},
   "outputs": [],
   "source": [
    "! conda list"
   ]
  },
  {
   "cell_type": "markdown",
   "metadata": {},
   "source": [
    "* To import into a Python script and check installed version number"
   ]
  },
  {
   "cell_type": "code",
   "execution_count": null,
   "metadata": {},
   "outputs": [],
   "source": [
    "import numpy as np\n",
    "print(np.__version__)"
   ]
  },
  {
   "cell_type": "markdown",
   "metadata": {},
   "source": [
    "### 3- NumPy arrays <a id='I-3'></a>\n",
    "\n",
    "> \"Similar to a Python list, a Numpy array is a data structure which can store a fixed-size collection of elements. However, Numpy arrays can only store a collection of the **same data type**. Moreover, it provides much **advanced handling of N-dimensional arrays*** for mathematical operations\"\n",
    "\n",
    "* *Each dimension in an array is represented by an axis: \n",
    "    * Axis-0: represents the first dimension (row-wise for 1D array, and column-wise for nd array)\n",
    "    * Axis-1: represents the second dimension (row-wise)\n",
    "    * Axis-2: represents the third dimension (depth-wise)\n",
    "\n",
    "<img src=\"https://goo.gl/wfFHUF\" width=\"70%\"/>"
   ]
  },
  {
   "cell_type": "markdown",
   "metadata": {},
   "source": [
    "### 4- Motivation <a id='I-4'></a>\n",
    "\n",
    "* Lists are very powerful objects in Python. A list can hold a sequence of elements with different types if needed. Elements can be also added, removed or changed. However, one crucial feature is missing!"
   ]
  },
  {
   "cell_type": "markdown",
   "metadata": {},
   "source": [
    "* Let’s consider the task of calculating the BMI from these 2 lists, where each weight/height pair is for the same person"
   ]
  },
  {
   "cell_type": "code",
   "execution_count": null,
   "metadata": {},
   "outputs": [],
   "source": [
    "weight = [65.4, 59.2, 63.6, 88.4, 68.7]\n",
    "height = [1.73, 1.68, 1.71, 1.89, 1.79]"
   ]
  },
  {
   "cell_type": "code",
   "execution_count": null,
   "metadata": {},
   "outputs": [],
   "source": [
    "bmi = weight / height ** 2"
   ]
  },
  {
   "cell_type": "markdown",
   "metadata": {},
   "source": [
    "* It seems that you can't perform mathematical operations, elementwise, over the entire list at once! The only option left is to loop over the list to calculate the BMI one at a time:"
   ]
  },
  {
   "cell_type": "code",
   "execution_count": null,
   "metadata": {},
   "outputs": [],
   "source": [
    "bmi = list()\n",
    "\n",
    "for w, h in zip(weight, height):  # the built-in zip() function allows you to loop over 2 lists at once (or more)\n",
    "    bmi.append(w / h ** 2)\n",
    "    \n",
    "print(bmi)"
   ]
  },
  {
   "cell_type": "markdown",
   "metadata": {},
   "source": [
    "* What about rounding every element in the bmi list to 2 decimal digits?"
   ]
  },
  {
   "cell_type": "code",
   "execution_count": null,
   "metadata": {},
   "outputs": [],
   "source": [
    "round(bmi, 2)"
   ]
  },
  {
   "cell_type": "markdown",
   "metadata": {},
   "source": [
    "* We need to loop again! This is clearly inefficient, especially for very big lists. Solution: NumPy!"
   ]
  },
  {
   "cell_type": "code",
   "execution_count": null,
   "metadata": {},
   "outputs": [],
   "source": [
    "import numpy as np\n",
    "\n",
    "# convert height list into a numpy array \n",
    "np_height = np.array(height)\n",
    "print(np_height, type(np_height))\n",
    "\n",
    "# convert weight list into a numpy array \n",
    "np_weight = np.array(weight)\n",
    "print(np_weight, type(np_weight))"
   ]
  },
  {
   "cell_type": "markdown",
   "metadata": {},
   "source": [
    "* Now we can calculate all the BMI values for all weight/height pairs at once!"
   ]
  },
  {
   "cell_type": "code",
   "execution_count": null,
   "metadata": {},
   "outputs": [],
   "source": [
    "bmi = np_weight / np_height ** 2\n",
    "print(bmi, type(bmi))"
   ]
  },
  {
   "cell_type": "markdown",
   "metadata": {},
   "source": [
    "* We can also round all elements in the array at once using the built-in NumPy **round()** method"
   ]
  },
  {
   "cell_type": "code",
   "execution_count": null,
   "metadata": {},
   "outputs": [],
   "source": [
    "bmi = np.round(bmi)\n",
    "print(bmi)"
   ]
  },
  {
   "cell_type": "markdown",
   "metadata": {},
   "source": [
    "***\n",
    "## II- Array creation <a id=\"II\"></a>\n",
    "\n",
    "* There are several ways to create NumPy arrays. Here are the most common ones:\n",
    "\n",
    "> ### [1- Using array()](#II-1)\n",
    "> ### [2- Using zeros(), and ones()](#II-2)\n",
    "> ### [3- Using arange(), and linspace()](#II-3)\n",
    "> ### [4- Using the random module](#II-4)"
   ]
  },
  {
   "cell_type": "markdown",
   "metadata": {},
   "source": [
    "### 1- Using array() <a id='II-1'></a>\n",
    "\n",
    "* When the elements of an array are known, the **array()** function is used\n",
    "\n",
    "* **array()** expects a regular Python sequence, such as a list or a tuple of the known elements. The type of the resulting array is deduced from the type of the elements in the sequences"
   ]
  },
  {
   "cell_type": "code",
   "execution_count": null,
   "metadata": {},
   "outputs": [],
   "source": [
    "# create a 1D array from Python list\n",
    "a = np.array([2, 3, 4])\n",
    "print('a =', a, type(a))"
   ]
  },
  {
   "cell_type": "markdown",
   "metadata": {},
   "source": [
    "* To get the type and the shape of the created array, the **dtype** and **shape** attributes* can be used\n",
    "\n",
    "*An object has methods that do tasks, and also attributes that save values. Similar to methods, they are also accessible through the dot operator"
   ]
  },
  {
   "cell_type": "code",
   "execution_count": null,
   "metadata": {},
   "outputs": [],
   "source": [
    "print(a.dtype, a.shape)"
   ]
  },
  {
   "cell_type": "code",
   "execution_count": null,
   "metadata": {},
   "outputs": [],
   "source": [
    "# create a 1D array from Python tuple\n",
    "b = np.array((1.2, 3.5, 5.1))\n",
    "print('b =', b, b.dtype, b.shape)"
   ]
  },
  {
   "cell_type": "markdown",
   "metadata": {},
   "source": [
    "* **array()** transforms sequences of sequences into 2D arrays, sequences of sequences of sequences into 3D arrays, and so on (i.e. N-dimensional arrays)"
   ]
  },
  {
   "cell_type": "code",
   "execution_count": null,
   "metadata": {},
   "outputs": [],
   "source": [
    "# create a 2D array from list of 2 tuples\n",
    "c = np.array([(1.5, 2, 3), (4, 5, 6)])\n",
    "print('c =\\n', c, c.dtype, c.shape)"
   ]
  },
  {
   "cell_type": "markdown",
   "metadata": {},
   "source": [
    "* The type of the array can also be explicitly specified at creation time"
   ]
  },
  {
   "cell_type": "code",
   "execution_count": null,
   "metadata": {},
   "outputs": [],
   "source": [
    "d = np.array([ [1,2], [3,4] ], dtype=np.float)\n",
    "print('d =\\n', d, d.dtype, d.shape)"
   ]
  },
  {
   "cell_type": "markdown",
   "metadata": {},
   "source": [
    "### 2- Using zeros(), and ones() <a id='II-2'></a>\n",
    "\n",
    "* When the elements of an array are originally unknown, but its shape is known, either **zeros()**, or **ones()** is usually used to create an array with initial placeholder content. By default, the **dtype** of the created array is 'float64'"
   ]
  },
  {
   "cell_type": "code",
   "execution_count": null,
   "metadata": {},
   "outputs": [],
   "source": [
    "# create a 3*4 array full of zeros\n",
    "a = np.zeros((3, 4))\n",
    "print('a =\\n', a, a.dtype, a.shape)"
   ]
  },
  {
   "cell_type": "code",
   "execution_count": null,
   "metadata": {},
   "outputs": [],
   "source": [
    "# create a 2*3*4 array full of ones\n",
    "b = np.ones((2, 3, 4), dtype=np.int16)\n",
    "print('b =\\n', b, b.dtype, b.shape)"
   ]
  },
  {
   "cell_type": "markdown",
   "metadata": {},
   "source": [
    "### 3- Using arange(), and linspace() <a id='II-3'></a>\n",
    "\n",
    "* When we need to create an array with an evenly spaced sequence of numbers, **arange()** and **linspace()** can be used\n",
    "\n",
    "* The **arange()** function is similar to the built-in function **range()** but returns an array instead of a list"
   ]
  },
  {
   "cell_type": "code",
   "execution_count": null,
   "metadata": {},
   "outputs": [],
   "source": [
    "# create an array starting at 10, stopping at 30 exclusive, with a step of 5\n",
    "np.arange(10, 30, 5)"
   ]
  },
  {
   "cell_type": "markdown",
   "metadata": {},
   "source": [
    "* The **linspace()** function expects the number of elements that we want instead of the step"
   ]
  },
  {
   "cell_type": "code",
   "execution_count": null,
   "metadata": {},
   "outputs": [],
   "source": [
    "# create an array starting at 0, stopping at 2 inclusive, with 9 elements\n",
    "np.linspace(0, 2, 9)"
   ]
  },
  {
   "cell_type": "markdown",
   "metadata": {},
   "source": [
    "### 4- Using the random module <a id='II-4'></a>\n",
    "\n",
    "* When we need to create an array with random sampling from a specific distribution, the **random** module can be used"
   ]
  },
  {
   "cell_type": "markdown",
   "metadata": {},
   "source": [
    "* **rand()** creates an array of the given shape and populate it with random samples from a __[continuous uniform distribution](https://en.wikipedia.org/wiki/Uniform_distribution_(continuous)__ over [0, 1) with 'float64' dtype"
   ]
  },
  {
   "cell_type": "code",
   "execution_count": null,
   "metadata": {},
   "outputs": [],
   "source": [
    "# create a 3*2 array full of random content \n",
    "# sampled from a uniform distribution over [0,1]\n",
    "np.random.rand(3, 2)"
   ]
  },
  {
   "cell_type": "markdown",
   "metadata": {},
   "source": [
    "* **randint()** creates an array of the given shape and populate it with random samples from a __[discrete uniform distribution](https://en.wikipedia.org/wiki/Discrete_uniform_distribution)__ of the specified dtype (default is np.int)"
   ]
  },
  {
   "cell_type": "code",
   "execution_count": null,
   "metadata": {},
   "outputs": [],
   "source": [
    "# create a 2*4 array full of random content between [1, 5) \n",
    "# sampled from a discrete uniform distribution\n",
    "np.random.randint(1, 5, size=(2, 4))  # 5 is exclusive"
   ]
  },
  {
   "cell_type": "markdown",
   "metadata": {},
   "source": [
    "* **randn()** creates an array of the given shape and populate it with random samples from a __[normal (Gaussian) distribution](https://en.wikipedia.org/wiki/Normal_distribution)__ (mean=0, variance=1), with 'float64' dtype"
   ]
  },
  {
   "cell_type": "code",
   "execution_count": null,
   "metadata": {},
   "outputs": [],
   "source": [
    "# create a 2*4 array full of random content \n",
    "# sampled from a normal distribution\n",
    "np.random.randn(2, 4)"
   ]
  },
  {
   "cell_type": "markdown",
   "metadata": {},
   "source": [
    "***\n",
    "## III- Basic arithmetic <a id=\"III\"></a>\n",
    "\n",
    "> ### [1- With scalars (numbers)](#III-1)\n",
    "> ### [2- Between arrays](#III-2)\n",
    "> ### [3- Array reductions](#III-3)\n",
    "\n",
    "\n",
    "* All arithmetic operators are applied **elementwise**\n",
    "* The original arrays are not modified (a new array is created and filled with the results)"
   ]
  },
  {
   "cell_type": "markdown",
   "metadata": {},
   "source": [
    "### 1- With scalars (numbers) <a id='III-1'></a>"
   ]
  },
  {
   "cell_type": "code",
   "execution_count": null,
   "metadata": {},
   "outputs": [],
   "source": [
    "a = np.arange(1, 6)\n",
    "print('a =', a)\n",
    "\n",
    "b = 2\n",
    "print('b =', b)\n",
    "\n",
    "print('a + b =', a + b)\n",
    "print('a - b =', a - b)\n",
    "print('a * b =', a * b)\n",
    "print('a / b =', a / b)\n",
    "print('a // b =', a // b)\n",
    "print('a % b =', a % b)\n",
    "print('a ** b =', a ** b)"
   ]
  },
  {
   "cell_type": "markdown",
   "metadata": {},
   "source": [
    "### 2- Between arrays <a id='III-2'></a>\n",
    "\n",
    "* When operating with arrays of different types, the type of the resulting array corresponds to the more general or precise one (a behavior known as upcasting)"
   ]
  },
  {
   "cell_type": "code",
   "execution_count": null,
   "metadata": {},
   "outputs": [],
   "source": [
    "a = np.array([20, 30, 40, 50])\n",
    "print('a =', a)\n",
    "\n",
    "b = np.array([2.5, 3.5, 4.5, 5.5])\n",
    "print('b =', b)\n",
    "\n",
    "print('a + b =', a + b)\n",
    "print('a - b =', a - b)\n",
    "print('a * b =', a * b)\n",
    "print('a / b =', a / b)\n",
    "print('a // b =', a // b)\n",
    "print('a % b =', a % b)\n",
    "print('a ** b =', a ** b)"
   ]
  },
  {
   "cell_type": "markdown",
   "metadata": {},
   "source": [
    "### 3- Array reductions <a id='III-3'></a>"
   ]
  },
  {
   "cell_type": "markdown",
   "metadata": {},
   "source": [
    "*  Extrema reductions"
   ]
  },
  {
   "cell_type": "code",
   "execution_count": null,
   "metadata": {},
   "outputs": [],
   "source": [
    "a = np.array([[1,2], [3,4]])\n",
    "\n",
    "print('a =\\n', a)\n",
    "\n",
    "print('min = ', np.min(a))\n",
    "print('max = ', np.max(a))"
   ]
  },
  {
   "cell_type": "markdown",
   "metadata": {},
   "source": [
    "*  Statistical reductions"
   ]
  },
  {
   "cell_type": "code",
   "execution_count": null,
   "metadata": {},
   "outputs": [],
   "source": [
    "print('a =\\n', a)\n",
    "\n",
    "print('mean = ', np.mean(a))\n",
    "print('median = ', np.median(a))\n",
    "print('sum = ', np.sum(a))\n",
    "print('std = ', np.std(a))"
   ]
  },
  {
   "cell_type": "markdown",
   "metadata": {},
   "source": [
    "By default, all the above reductions operators apply to the array as though it were a list of numbers, regardless of its shape. However, by specifying the axis parameter you can apply an operation along the specified axis of an array"
   ]
  },
  {
   "cell_type": "markdown",
   "metadata": {},
   "source": [
    "*  Logical reductions"
   ]
  },
  {
   "cell_type": "code",
   "execution_count": null,
   "metadata": {},
   "outputs": [],
   "source": [
    "print('a =\\n', a)\n",
    "\n",
    "print(np.all([True, True, False]))\n",
    "print(np.any([True, True, False]))\n",
    "print((a != 0))\n",
    "print(np.any(a != 0))\n",
    "print((a == 0))\n",
    "print(np.all(a == 0))"
   ]
  },
  {
   "cell_type": "markdown",
   "metadata": {},
   "source": [
    "***\n",
    "## IV- Indexing, slicing and iterating <a id=\"IV\"></a>\n",
    "\n",
    "* Elements in 1d arrays can be accessed just like lists and other Python sequences"
   ]
  },
  {
   "cell_type": "code",
   "execution_count": null,
   "metadata": {},
   "outputs": [],
   "source": [
    "a = np.arange(10)\n",
    "print(a)"
   ]
  },
  {
   "cell_type": "code",
   "execution_count": null,
   "metadata": {},
   "outputs": [],
   "source": [
    "# indexing\n",
    "print(a[2])\n",
    "print(a[-1])"
   ]
  },
  {
   "cell_type": "code",
   "execution_count": null,
   "metadata": {},
   "outputs": [],
   "source": [
    "# slicing\n",
    "print(a[2:5])\n",
    "print(a[2:8:2])"
   ]
  },
  {
   "cell_type": "code",
   "execution_count": null,
   "metadata": {},
   "outputs": [],
   "source": [
    "# iterating\n",
    "for i in a:\n",
    "    print(i)"
   ]
  },
  {
   "cell_type": "markdown",
   "metadata": {},
   "source": [
    "* Elements in N-dimensional arrays are accesses by using one index per axis, separated by commas"
   ]
  },
  {
   "cell_type": "code",
   "execution_count": null,
   "metadata": {},
   "outputs": [],
   "source": [
    "b = np.arange(12).reshape(3, 4)\n",
    "print(b)"
   ]
  },
  {
   "cell_type": "code",
   "execution_count": null,
   "metadata": {},
   "outputs": [],
   "source": [
    "# indexing\n",
    "print(b[1, 3])  # 2nd row, 4th col\n",
    "print(b[2, :])  # 3rd row, all cols (b[2] for short)\n",
    "print(b[:, -1])  # all rows, last col"
   ]
  },
  {
   "cell_type": "code",
   "execution_count": null,
   "metadata": {},
   "outputs": [],
   "source": [
    "# slicing\n",
    "print(b[0:2, 1])\n",
    "print(b[ : ,1])\n",
    "print(b[1:3, : ])"
   ]
  },
  {
   "cell_type": "markdown",
   "metadata": {},
   "source": [
    "Iterating is done row-wise"
   ]
  },
  {
   "cell_type": "code",
   "execution_count": null,
   "metadata": {},
   "outputs": [],
   "source": [
    "for row in b:\n",
    "    print(row)"
   ]
  },
  {
   "cell_type": "markdown",
   "metadata": {},
   "source": [
    "To access each element in the array, you can use nested loops, the first loops row-wise, and the second column-wise"
   ]
  },
  {
   "cell_type": "code",
   "execution_count": null,
   "metadata": {},
   "outputs": [],
   "source": [
    "for row in b:\n",
    "    for col in row:\n",
    "        print(col)"
   ]
  },
  {
   "cell_type": "markdown",
   "metadata": {},
   "source": [
    "However, for that, the **flat** attribute can be used which is an iterator* over all the elements of the array\n",
    "\n",
    "*An iterator is an object that returns the next value of a sequence every time it's called!"
   ]
  },
  {
   "cell_type": "code",
   "execution_count": null,
   "metadata": {},
   "outputs": [],
   "source": [
    "for element in b.flat:\n",
    "    print(element)"
   ]
  },
  {
   "cell_type": "markdown",
   "metadata": {},
   "source": [
    "***\n",
    "## V- Shape Manipulation <a id=\"V\"></a>\n",
    "\n",
    "> ### [1- Changing array's shape](#V-1)\n",
    "> ### [2- Stacking arrays](#V-2)\n",
    "> ### [3- Splitting an array](#V-3)"
   ]
  },
  {
   "cell_type": "markdown",
   "metadata": {},
   "source": [
    "### 1- Changing array's shape <a id='V-1'></a>\n",
    "* We can change the shape of an array in several ways. The most common ones are **reshape()** and **ravel()**"
   ]
  },
  {
   "cell_type": "code",
   "execution_count": null,
   "metadata": {},
   "outputs": [],
   "source": [
    "# create a 3*4 array full of random content between [1, 10) \n",
    "a = np.random.randint(1, 10, size=(3, 4))\n",
    "print('a =\\n', a)"
   ]
  },
  {
   "cell_type": "code",
   "execution_count": null,
   "metadata": {},
   "outputs": [],
   "source": [
    "# reshape 'a' into 2*6 array\n",
    "b = a.reshape(2, 6)\n",
    "print('b =\\n', b)"
   ]
  },
  {
   "cell_type": "code",
   "execution_count": null,
   "metadata": {},
   "outputs": [],
   "source": [
    "# reshape 'a' into a 1D array\n",
    "c = a.ravel()\n",
    "print('c =\\n', c)"
   ]
  },
  {
   "cell_type": "markdown",
   "metadata": {},
   "source": [
    "* Both methods return a modified array, but do not change the original array. To change the original array we can use **resize()**"
   ]
  },
  {
   "cell_type": "code",
   "execution_count": null,
   "metadata": {},
   "outputs": [],
   "source": [
    "print('original a =\\n', a)\n",
    "\n",
    "# resize a into 2*2 array\n",
    "a.resize(2, 6)\n",
    "print('resized a =\\n', a)"
   ]
  },
  {
   "cell_type": "markdown",
   "metadata": {},
   "source": [
    "* The **transpose()** function is also used to swap rows with columns axes"
   ]
  },
  {
   "cell_type": "code",
   "execution_count": null,
   "metadata": {},
   "outputs": [],
   "source": [
    "np.transpose(a)  # or a.T for short"
   ]
  },
  {
   "cell_type": "markdown",
   "metadata": {},
   "source": [
    "### 2- Stacking arrays <a id='V-2'></a>\n",
    "\n",
    "* Arrays can be stacked together along different axes using various functions. Here are some:"
   ]
  },
  {
   "cell_type": "code",
   "execution_count": null,
   "metadata": {},
   "outputs": [],
   "source": [
    "a = np.arange(1, 5).reshape(2, 2)\n",
    "print('a =\\n', a)\n",
    "\n",
    "b = np.arange(5, 9).reshape(2, 2)\n",
    "print('b =\\n', b)"
   ]
  },
  {
   "cell_type": "markdown",
   "metadata": {},
   "source": [
    "* **hstack()** is used to stack along the horizontal axis (column-wise)"
   ]
  },
  {
   "cell_type": "code",
   "execution_count": null,
   "metadata": {},
   "outputs": [],
   "source": [
    "# stack horizontally\n",
    "np.hstack((a, b))"
   ]
  },
  {
   "cell_type": "markdown",
   "metadata": {},
   "source": [
    "* **vstack()** is used to stack along the vertical axis (row-wise) "
   ]
  },
  {
   "cell_type": "code",
   "execution_count": null,
   "metadata": {},
   "outputs": [],
   "source": [
    "# stack vertically\n",
    "np.vstack((a, b))"
   ]
  },
  {
   "cell_type": "markdown",
   "metadata": {},
   "source": [
    "* Alternatively, **concatenate()** can be used to join arrays along an existing axis"
   ]
  },
  {
   "cell_type": "code",
   "execution_count": null,
   "metadata": {},
   "outputs": [],
   "source": [
    "# concatenate along axis=1 (row-wise)\n",
    "np.concatenate((a, b), axis=1)"
   ]
  },
  {
   "cell_type": "code",
   "execution_count": null,
   "metadata": {},
   "outputs": [],
   "source": [
    "# concatenate along axis=0 (columns-wise)\n",
    "np.concatenate((a, b), axis=0)"
   ]
  },
  {
   "cell_type": "markdown",
   "metadata": {},
   "source": [
    "### 3- Splitting an array <a id='V-3'></a>\n",
    "\n",
    "* Arrays can also be split along different axes using various functions. Some of them are:"
   ]
  },
  {
   "cell_type": "code",
   "execution_count": null,
   "metadata": {},
   "outputs": [],
   "source": [
    "a = np.linspace(1, 10, 16).reshape(4, 4)\n",
    "print('a =\\n', a)"
   ]
  },
  {
   "cell_type": "markdown",
   "metadata": {},
   "source": [
    "* **hsplit()** is used to split along the horizontal axis (column-wise)"
   ]
  },
  {
   "cell_type": "code",
   "execution_count": null,
   "metadata": {},
   "outputs": [],
   "source": [
    "# split horizontally into 2 arrays\n",
    "a1, a2 = np.hsplit(a, 2)\n",
    "print('a1 =\\n', a1)\n",
    "print('a2 =\\n', a1)"
   ]
  },
  {
   "cell_type": "markdown",
   "metadata": {},
   "source": [
    "* **vsplit()** is used to split along the vertical axis (row-wise)"
   ]
  },
  {
   "cell_type": "code",
   "execution_count": null,
   "metadata": {},
   "outputs": [],
   "source": [
    "# split vertically into 2 arrays\n",
    "a1, a2 = np.vsplit(a, 2)\n",
    "print('a1 =\\n', a1)\n",
    "print('a2 =\\n', a1)"
   ]
  },
  {
   "cell_type": "markdown",
   "metadata": {},
   "source": [
    "* Alternatively, **split()** can be used to split arrays along an existing axis"
   ]
  },
  {
   "cell_type": "code",
   "execution_count": null,
   "metadata": {},
   "outputs": [],
   "source": [
    "# split along axis=1 (column-wise)\n",
    "a1, a2 = np.split(a, 2, axis=1)\n",
    "print('a1 =\\n', a1)\n",
    "print('a2 =\\n', a1)"
   ]
  },
  {
   "cell_type": "code",
   "execution_count": null,
   "metadata": {},
   "outputs": [],
   "source": [
    "# split along axis=0 (row-wise)\n",
    "a1, a2 = np.split(a, 2, axis=0)\n",
    "print('a1 =\\n', a1)\n",
    "print('a2 =\\n', a1)"
   ]
  },
  {
   "cell_type": "markdown",
   "metadata": {},
   "source": [
    "***\n",
    "## VI- Universal functions (ufunc) <a id=\"VI\"></a>\n",
    "\n",
    "* A universal function (or ufunc for short) is a function that operates on nd-arrays in an **element-by-element** fashion\n",
    "\n",
    "* There are currently more than 60 universal functions defined in numpy __[here](https://docs.scipy.org/doc/numpy-1.14.0/reference/ufuncs.html#available-ufuncs)__ \n",
    "\n",
    "These include:\n",
    "> ### [1. Math operations](#VI-1)\n",
    "> ### [2. Trigonometric function](#VI-2)\n",
    "> ### [3. Floating functions](#VI-3)\n",
    "> ### [4. Comparison functions](#VI-4)"
   ]
  },
  {
   "cell_type": "markdown",
   "metadata": {},
   "source": [
    "### 1. Math operation <a id='VI-1'></a>\n",
    "\n",
    "* All basic arithmetic we saw actually calls a defined math ufunc. For example when adding 2 arrays, the **add()** ufunc is called under the hood!"
   ]
  },
  {
   "cell_type": "code",
   "execution_count": null,
   "metadata": {},
   "outputs": [],
   "source": [
    "a = np.array([20, 30, 40, 50])\n",
    "print('a =', a)\n",
    "\n",
    "b = np.array([2.5, 3.5, 4.5, 5.5])\n",
    "print('b =', b)\n",
    "\n",
    "print('a + b =', np.add(a, b))\n",
    "print('a - b =', np.subtract(a, b))\n",
    "print('a * b =', np.multiply(a, b))\n",
    "print('a / b =', np.divide(a, b))\n",
    "print('a // b =', np.floor_divide(a, b))\n",
    "print('a % b =', np.mod(a, b))\n",
    "print('a ** b =', np.power(a, b))"
   ]
  },
  {
   "cell_type": "markdown",
   "metadata": {},
   "source": [
    "* Some other useful ones:"
   ]
  },
  {
   "cell_type": "code",
   "execution_count": null,
   "metadata": {},
   "outputs": [],
   "source": [
    "np.sqrt([1, 4, 9])  # returns the positive square-root of the input\n",
    "np.square([1, 4, 9])  # returns the square of the input \n",
    "np.fabs([-1.2, 1.2])  # returns the absolute value of the input"
   ]
  },
  {
   "cell_type": "markdown",
   "metadata": {},
   "source": [
    "### 2. Trigonometric function <a id='VI-2'></a>\n",
    "\n",
    "* All trigonometric functions use radians as an input. The ratio of degrees to radians is $180^{\\circ}/\\pi$\n",
    "* To convert from degrees > radians use **deg2rad()**\n",
    "* To convert from radians > degrees use **rad2deg()**"
   ]
  },
  {
   "cell_type": "markdown",
   "metadata": {},
   "source": [
    "* An example of calculating the sine"
   ]
  },
  {
   "cell_type": "code",
   "execution_count": null,
   "metadata": {},
   "outputs": [],
   "source": [
    "a = np.array([0, 30, 45, 60, 90])  # in degrees\n",
    "np.sin(np.deg2rad(a))  # sine (degrees are converted to radians first)"
   ]
  },
  {
   "cell_type": "markdown",
   "metadata": {},
   "source": [
    "* An example of calculating the arcsine"
   ]
  },
  {
   "cell_type": "code",
   "execution_count": null,
   "metadata": {},
   "outputs": [],
   "source": [
    "b = np.array([0, 0.5, 0.707, 0.866, 1])\n",
    "np.rad2deg(np.arcsin(b))  # inverse sine (the answer is converted from radians to degrees)"
   ]
  },
  {
   "cell_type": "markdown",
   "metadata": {},
   "source": [
    "### 3. Floating functions <a id='VI-3'></a>\n",
    "\n",
    "* Some useful ones:"
   ]
  },
  {
   "cell_type": "code",
   "execution_count": null,
   "metadata": {},
   "outputs": [],
   "source": [
    "a = np.array([-1.7, -1.5, -0.2, 0.2, 1.5, 1.7, 2.0])\n",
    "print('a =', a)\n",
    "\n",
    "print(np.floor(a))  # returns the floor of the input\n",
    "print(np.ceil(a))  # returns the ceiling of the input"
   ]
  },
  {
   "cell_type": "code",
   "execution_count": null,
   "metadata": {},
   "outputs": [],
   "source": [
    "print(np.isnan(np.nan))  # returns truth value truth value whether NaN exists or not\n",
    "print(np.isinf(np.inf))  # returns truth value truth value whether infinity exists or not"
   ]
  },
  {
   "cell_type": "markdown",
   "metadata": {},
   "source": [
    "### 4. Comparison functions <a id='VI-4'></a>\n",
    "\n",
    "* Python logical operators **and** and **or** can't be used with Numpy array to combine logical array expressions elementwise!\n",
    "\n",
    "* The following example will throw an error"
   ]
  },
  {
   "cell_type": "code",
   "execution_count": null,
   "metadata": {},
   "outputs": [],
   "source": [
    "a = np.arange(5)\n",
    "print('a =', a)\n",
    "\n",
    "print(a > 1 and a < 4)"
   ]
  },
  {
   "cell_type": "markdown",
   "metadata": {},
   "source": [
    "* For this the **logical_and()** ufunc should be used"
   ]
  },
  {
   "cell_type": "code",
   "execution_count": null,
   "metadata": {},
   "outputs": [],
   "source": [
    "print(np.logical_and(a > 1, a < 4))  # elements with both conditions true will have True value"
   ]
  },
  {
   "cell_type": "markdown",
   "metadata": {},
   "source": [
    "*  Python comparison operators can be used directly (e.g. **>**, **==**). These also have equivalent ufunc in NumPy (these are called under the hood anyway!)"
   ]
  },
  {
   "cell_type": "code",
   "execution_count": null,
   "metadata": {},
   "outputs": [],
   "source": [
    "a = np.arange(5)\n",
    "print('a =', a)\n",
    "\n",
    "b = np.array([1 , 1, 2, 2, 3])\n",
    "print('b =', b)\n",
    "\n",
    "print(a >= b)\n",
    "print(np.greater_equal(a, b))"
   ]
  },
  {
   "cell_type": "markdown",
   "metadata": {},
   "source": [
    "***\n",
    "\n",
    "### Exercise <a id='E'></a>\n",
    "> Modified from dataCamp.com\n",
    "\n",
    "You are a huge baseball fan. You decide to call the MLB (Major League Baseball) and ask around for some more statistics on the height of the main players. They pass along data on a thousand players, which is stored as a text file: height.txt with the heights expressed in inches.\n",
    "\n",
    "1.\tExtract the heights from the text file into a Python list ‘height’\n",
    "2.\tCreate a numpy array ‘np_height’ from the extracted list ‘height’\n",
    "3.\tConvert ‘np_height’ so that the units are now in meters, and save the result in ‘np_height_m’ (1 inch = 0.0254 meter)"
   ]
  },
  {
   "cell_type": "markdown",
   "metadata": {},
   "source": [
    "The MLB also offers to let you analyse their weight data. Again, they pass along weight data for the same thousand players as a text file: weight.txt, with the weights expressed in pounds.\n",
    "\n",
    "4.\tExtract the weights from the text file into a Python list ‘weight’\n",
    "5.\tCreate a numpy array ‘np_weight’ from the extracted list ‘weight’\n",
    "6.\tConvert ‘np_weight’ so that the units are now in kg, and save the result in ‘np_weight_kg’’ (1 pound = 0.453592 kg)\n",
    "7.\tCreate a numpy array 'bmi' using ‘np_height_m’ and ‘np_weight_kg’\n",
    "8.\tPrint out BMIs of all baseball players whose BMI is below 21. For this you will need to :\n",
    "    1.\tCreate a boolean numpy array ‘light’. The element of the array should be True if bmi < 21\n",
    "    2.\tUse ‘light’ inside square brackets to do a selection on the bmi array"
   ]
  },
  {
   "cell_type": "markdown",
   "metadata": {},
   "source": [
    "You have another look at the MLB data and realize that it makes more sense to restructure all this information into a 2D numpy array. This array should have 1000 rows, corresponding to the 1000 baseball players you have information on, and 2 columns for height and weight.\n",
    "9.\tCreate a 2d numpy array ‘np_baseball’ from 'np_height_m' and 'np_weight_kg'\n",
    "10.\tPrint the shape of ‘np_baseball’\n",
    "11. Run a quick summary statistic on each column to calculate the min, max, mean, median, and standard deviation\n",
    "12. Check if big players tend to be heavier. Use np.corrcoef() to store the correlation between the first and second column of np_baseball in 'corr'"
   ]
  },
  {
   "cell_type": "markdown",
   "metadata": {},
   "source": [
    "Extra: write a function that handles opening the given text files and reading the values into a list. Use the function to extract ‘height’ and ‘weight’"
   ]
  },
  {
   "cell_type": "markdown",
   "metadata": {},
   "source": [
    "***\n",
    "\n",
    "### Solutions <a id='S'></a>"
   ]
  },
  {
   "cell_type": "code",
   "execution_count": null,
   "metadata": {},
   "outputs": [],
   "source": [
    "import numpy as np\n",
    "import os\n",
    "\n",
    "# read data from height.txt as one string\n",
    "filename = os.path.join('Examples', 'height.txt')\n",
    "with open(filename) as f:\n",
    "    data = f.read()\n",
    "\n",
    "# split heights into a list (still as strings)\n",
    "height = data.split(', ')\n",
    "\n",
    "# convert into numpy array and cast strings into float\n",
    "np_height = np.array(height, dtype=np.float64)\n",
    "print(np_height.shape)\n",
    "\n",
    "# convert inches into meters\n",
    "np_height_m = np_height * 0.0254\n",
    "\n",
    "# read data from weight.txt as one string\n",
    "filename = os.path.join('Examples', 'weight.txt')\n",
    "with open(filename) as f:\n",
    "    data = f.read()\n",
    "\n",
    "# split weights into a list (still as strings)\n",
    "weight = data.split(', ')\n",
    "\n",
    "# convert into numpy array and cast strings into float\n",
    "np_weight = np.array(weight, dtype=np.float64)\n",
    "print(np_weight.shape)\n",
    "\n",
    "# convert pounds into kg\n",
    "np_weight_kg = np_weight * 0.453592\n",
    "\n",
    "# calculate BMI\n",
    "bmi = np_weight_kg / (np_height_m ** 2)\n",
    "\n",
    "# print BMI < 21\n",
    "light = bmi < 21\n",
    "print(bmi[light])\n",
    "\n",
    "# join 2 arrays into one\n",
    "np_baseball = np.stack((np_height_m, np_weight_kg), axis=1)\n",
    "\n",
    "# check shape\n",
    "print(np_baseball.shape)\n",
    "\n",
    "# run quick stats\n",
    "print('min = ', np.min(np_baseball, axis=0))\n",
    "print('max = ', np.max(np_baseball, axis=0))\n",
    "print('mean = ', np.mean(np_baseball, axis=0))\n",
    "print('median = ', np.median(np_baseball, axis=0 ))\n",
    "print('std = ', np.std(np_baseball, axis=0))\n",
    "\n",
    "# check correlation between the first and second column (heights in m, weights in kg)\n",
    "corr = np.corrcoef(np_baseball[:, 0], np_baseball[:, 1])\n",
    "\n",
    "# corrcoef() returns a matrix of 4 coefficients one for each combination of inputs (including with itself) \n",
    "print(corr)"
   ]
  },
  {
   "cell_type": "code",
   "execution_count": null,
   "metadata": {},
   "outputs": [],
   "source": [
    "# Extra\n",
    "\n",
    "def read_file_into_np(full_file_path):\n",
    "    # reads data from txt as one string\n",
    "    with open(full_file_path) as f:\n",
    "        data = f.read() \n",
    "\n",
    "    # split data into a list (still as strings)\n",
    "    data_list = data.split(', ')\n",
    "    \n",
    "    # convert into numpy array and cast strings into float\n",
    "    np_data_list = np.array(data_list, dtype=np.float64)\n",
    "\n",
    "    return data_list\n",
    "\n",
    "\n",
    "# read height.txt into a numopy array\n",
    "filename1 = os.path.join('Examples', 'height.txt')\n",
    "np_height = read_file_into_np(filename1)\n",
    "\n",
    "# read weight.txt into a numopy array\n",
    "filename2 = os.path.join('Examples', 'weight.txt')\n",
    "np_weight = read_file_into_np(filename2)"
   ]
  }
 ],
 "metadata": {
  "kernelspec": {
   "display_name": "Python 3",
   "language": "python",
   "name": "python3"
  },
  "language_info": {
   "codemirror_mode": {
    "name": "ipython",
    "version": 3
   },
   "file_extension": ".py",
   "mimetype": "text/x-python",
   "name": "python",
   "nbconvert_exporter": "python",
   "pygments_lexer": "ipython3",
   "version": "3.7.1"
  }
 },
 "nbformat": 4,
 "nbformat_minor": 2
}
